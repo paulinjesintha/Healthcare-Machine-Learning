{
  "nbformat": 4,
  "nbformat_minor": 0,
  "metadata": {
    "colab": {
      "provenance": [],
      "toc_visible": true
    },
    "kernelspec": {
      "name": "python3",
      "display_name": "Python 3"
    },
    "language_info": {
      "name": "python"
    }
  },
  "cells": [
    {
      "cell_type": "markdown",
      "source": [
        "## Loading dataset"
      ],
      "metadata": {
        "id": "nENftxbqXCAW"
      }
    },
    {
      "cell_type": "code",
      "source": [
        "from google.colab import drive\n",
        "drive.mount('/content/drive')"
      ],
      "metadata": {
        "colab": {
          "base_uri": "https://localhost:8080/"
        },
        "id": "lXrZtRGFXEne",
        "outputId": "21285fb4-e952-4105-b860-0e2c2a525a84"
      },
      "execution_count": null,
      "outputs": [
        {
          "output_type": "stream",
          "name": "stdout",
          "text": [
            "Mounted at /content/drive\n"
          ]
        }
      ]
    },
    {
      "cell_type": "code",
      "source": [
        "import pandas as pd\n",
        "import seaborn as sns\n",
        "import numpy as np\n",
        "import matplotlib.pyplot as plt"
      ],
      "metadata": {
        "id": "nBx0pV-1XGGV"
      },
      "execution_count": null,
      "outputs": []
    },
    {
      "cell_type": "code",
      "source": [
        "merged_train_unique_medclms= pd.read_csv('/content/drive/Shareddrives/Humana-Mays-2023-DataRX-Wizards/Humana-Mays-2023 Dataset/003_Dataset Merged/merged_train_unique_medclms.csv')\n",
        "merged_train_unique_rxclms= pd.read_csv('/content/drive/Shareddrives/Humana-Mays-2023-DataRX-Wizards/Humana-Mays-2023 Dataset/003_Dataset Merged/merged_train_unique_rxclms.csv')\n",
        "\n",
        "merged_holdout_unique_medclms=pd.read_csv('/content/drive/Shareddrives/Humana-Mays-2023-DataRX-Wizards/Humana-Mays-2023 Dataset/003_Dataset Merged/merged_holdout_unique_medclms.csv')\n",
        "merged_holdout_unique_rxclms=pd.read_csv('/content/drive/Shareddrives/Humana-Mays-2023-DataRX-Wizards/Humana-Mays-2023 Dataset/003_Dataset Merged/merged_holdout_unique_rxclms.csv')"
      ],
      "metadata": {
        "id": "48OqbMGjwIbK"
      },
      "execution_count": null,
      "outputs": []
    },
    {
      "cell_type": "code",
      "source": [
        "print('The dataset shapes after cleaning and preprocessed are:')\n",
        "print(f\"merged_train_unique_medclms: {merged_train_unique_medclms.shape}\")\n",
        "print(f\"merged_train_unique_rxclms: {merged_train_unique_rxclms.shape}\")\n",
        "print('')\n",
        "print(f\"merged_train_unique_medclms: {merged_holdout_unique_medclms.shape}\")\n",
        "print(f\"merged_train_unique_rxclms: {merged_holdout_unique_rxclms.shape}\")"
      ],
      "metadata": {
        "colab": {
          "base_uri": "https://localhost:8080/"
        },
        "id": "DSX4zcu17Wg5",
        "outputId": "3ef6a08d-3c95-41e6-8953-7bfe0b543e43"
      },
      "execution_count": null,
      "outputs": [
        {
          "output_type": "stream",
          "name": "stdout",
          "text": [
            "The dataset shapes after cleaning and preprocessed are:\n",
            "merged_train_unique_medclms: (1232, 19)\n",
            "merged_train_unique_rxclms: (1232, 21)\n",
            "\n",
            "merged_train_unique_medclms: (420, 18)\n",
            "merged_train_unique_rxclms: (420, 20)\n"
          ]
        }
      ]
    },
    {
      "cell_type": "code",
      "source": [
        "def print_bold(text):\n",
        "    print(\"\\033[1m\" + text + \"\\033[0m\")\n",
        "\n",
        "def show_dataset_detail(dataset):\n",
        "    print_bold(\"The shape is {}\".format(dataset.shape))\n",
        "    print('')\n",
        "    print_bold('The missing value distribution:')\n",
        "    print(dataset.isna().sum())\n",
        "    print('')\n",
        "    print_bold('The dypes distribution:')\n",
        "    print(dataset.dtypes.value_counts())\n",
        "    print('')\n",
        "    for column in dataset.columns:\n",
        "        if dataset[column].dtypes=='object'or dataset[column].dtypes=='O':\n",
        "            print_bold('{} variable distribution'.format(column))\n",
        "            print(dataset[column].value_counts())\n",
        "            print('')\n",
        "        else:\n",
        "            unique=dataset[column].nunique()\n",
        "            print_bold('{} has {} uniuqe number,Dataset #row is {}'.format(column,unique,dataset.shape[0]))\n",
        "            print('')"
      ],
      "metadata": {
        "id": "jwLaLlV37XqZ"
      },
      "execution_count": null,
      "outputs": []
    },
    {
      "cell_type": "code",
      "source": [
        "merged_train_unique_medclms.isna().sum()"
      ],
      "metadata": {
        "colab": {
          "base_uri": "https://localhost:8080/"
        },
        "id": "nncX9AbSxC-2",
        "outputId": "5a39ec86-9cce-4d15-d560-522c670ba4b8"
      },
      "execution_count": null,
      "outputs": [
        {
          "output_type": "execute_result",
          "data": {
            "text/plain": [
              "therapy_id                                    0\n",
              "tgt_ade_dc_ind                                0\n",
              "race_cd                                      68\n",
              "est_age                                      83\n",
              "sex_cd                                       83\n",
              "cms_disabled_ind                             83\n",
              "cms_low_income_ind                           83\n",
              "visit_day_and_process_day_gap               696\n",
              "primary_diag_cd_letter                      696\n",
              "number_of_med_claims                        696\n",
              "ade_claim_proportion                        696\n",
              "seizure_diagnosis_claim_proportion          696\n",
              "pain_diagnosis_claim_proportion             696\n",
              "fatigue_diagnosis_claim_proportion          696\n",
              "nausea_diagnosis_claim_proportion           696\n",
              "hyperglycemia_diagnosis_claim_proportion    696\n",
              "constipation_diagnosis_claim_proportion     696\n",
              "diarrhea_diagnosis_claim_proportion         696\n",
              "visit_day_and_process_day_gap_median        696\n",
              "dtype: int64"
            ]
          },
          "metadata": {},
          "execution_count": 6
        }
      ]
    },
    {
      "cell_type": "code",
      "source": [
        "merged_train_unique_rxclms.isna().sum()"
      ],
      "metadata": {
        "colab": {
          "base_uri": "https://localhost:8080/"
        },
        "id": "0uad0DfWxH8P",
        "outputId": "938c63f8-f828-4178-c31b-43b06349fa1f"
      },
      "execution_count": null,
      "outputs": [
        {
          "output_type": "execute_result",
          "data": {
            "text/plain": [
              "therapy_id                                 0\n",
              "tgt_ade_dc_ind                             0\n",
              "race_cd                                   68\n",
              "est_age                                   83\n",
              "sex_cd                                    83\n",
              "cms_disabled_ind                          83\n",
              "cms_low_income_ind                        83\n",
              "number_of_rx_claims                       72\n",
              "max_tot_drug_cost_accum_amt               72\n",
              "Y_mail_order_proportion                   72\n",
              "Generic_ind_proportion                    72\n",
              "MAINT_ind_proportion                      72\n",
              "SPCL_ind_proportion                       72\n",
              "ddi_ind_claim_proportion                  72\n",
              "anticoag_ind_claim_proportion             72\n",
              "diarrhea_treat_ind_claim_proportion       72\n",
              "nausea_treat_ind_claim_proportion         72\n",
              "seizure_treat_ind_claim_proportion        72\n",
              "pay_day_supply_cnt_median                 72\n",
              "rx_cost_median                            72\n",
              "service_day_and_process_day_gap_median    72\n",
              "dtype: int64"
            ]
          },
          "metadata": {},
          "execution_count": 7
        }
      ]
    },
    {
      "cell_type": "code",
      "source": [
        "merged_train_unique_medclms.columns"
      ],
      "metadata": {
        "colab": {
          "base_uri": "https://localhost:8080/"
        },
        "id": "EHIuQkTTwwty",
        "outputId": "ae19fd66-06fa-4826-d48a-d6af4caab4a1"
      },
      "execution_count": null,
      "outputs": [
        {
          "output_type": "execute_result",
          "data": {
            "text/plain": [
              "Index(['therapy_id', 'tgt_ade_dc_ind', 'race_cd', 'est_age', 'sex_cd',\n",
              "       'cms_disabled_ind', 'cms_low_income_ind',\n",
              "       'visit_day_and_process_day_gap', 'primary_diag_cd_letter',\n",
              "       'number_of_med_claims', 'ade_claim_proportion',\n",
              "       'seizure_diagnosis_claim_proportion', 'pain_diagnosis_claim_proportion',\n",
              "       'fatigue_diagnosis_claim_proportion',\n",
              "       'nausea_diagnosis_claim_proportion',\n",
              "       'hyperglycemia_diagnosis_claim_proportion',\n",
              "       'constipation_diagnosis_claim_proportion',\n",
              "       'diarrhea_diagnosis_claim_proportion',\n",
              "       'visit_day_and_process_day_gap_median'],\n",
              "      dtype='object')"
            ]
          },
          "metadata": {},
          "execution_count": 8
        }
      ]
    },
    {
      "cell_type": "code",
      "source": [
        "merged_train_unique_rxclms.columns"
      ],
      "metadata": {
        "colab": {
          "base_uri": "https://localhost:8080/"
        },
        "id": "teeeZ72CySCF",
        "outputId": "59cf808a-5c87-4b66-bbc5-ee5a39b42f0a"
      },
      "execution_count": null,
      "outputs": [
        {
          "output_type": "execute_result",
          "data": {
            "text/plain": [
              "Index(['therapy_id', 'tgt_ade_dc_ind', 'race_cd', 'est_age', 'sex_cd',\n",
              "       'cms_disabled_ind', 'cms_low_income_ind', 'number_of_rx_claims',\n",
              "       'max_tot_drug_cost_accum_amt', 'Y_mail_order_proportion',\n",
              "       'Generic_ind_proportion', 'MAINT_ind_proportion', 'SPCL_ind_proportion',\n",
              "       'ddi_ind_claim_proportion', 'anticoag_ind_claim_proportion',\n",
              "       'diarrhea_treat_ind_claim_proportion',\n",
              "       'nausea_treat_ind_claim_proportion',\n",
              "       'seizure_treat_ind_claim_proportion', 'pay_day_supply_cnt_median',\n",
              "       'rx_cost_median', 'service_day_and_process_day_gap_median'],\n",
              "      dtype='object')"
            ]
          },
          "metadata": {},
          "execution_count": 9
        }
      ]
    },
    {
      "cell_type": "markdown",
      "source": [
        "## Merge"
      ],
      "metadata": {
        "id": "BpNYFMdid-YZ"
      }
    },
    {
      "cell_type": "code",
      "source": [
        "temp_merged_train_unique_medclms=merged_train_unique_medclms[['therapy_id','visit_day_and_process_day_gap', 'primary_diag_cd_letter',\n",
        "       'number_of_med_claims', 'ade_claim_proportion',\n",
        "       'seizure_diagnosis_claim_proportion', 'pain_diagnosis_claim_proportion',\n",
        "       'fatigue_diagnosis_claim_proportion',\n",
        "       'nausea_diagnosis_claim_proportion',\n",
        "       'hyperglycemia_diagnosis_claim_proportion',\n",
        "       'constipation_diagnosis_claim_proportion',\n",
        "       'diarrhea_diagnosis_claim_proportion',\n",
        "       'visit_day_and_process_day_gap_median']]"
      ],
      "metadata": {
        "id": "JLyMC4yX7soR"
      },
      "execution_count": null,
      "outputs": []
    },
    {
      "cell_type": "code",
      "source": [
        "three_merged_train=merged_train_unique_rxclms.merge(temp_merged_train_unique_medclms, on='therapy_id', how='left')"
      ],
      "metadata": {
        "id": "z9VK_1LZxO_u"
      },
      "execution_count": null,
      "outputs": []
    },
    {
      "cell_type": "code",
      "source": [
        "three_merged_train.shape"
      ],
      "metadata": {
        "colab": {
          "base_uri": "https://localhost:8080/"
        },
        "id": "SwGDexwRyESb",
        "outputId": "e1678682-1dff-4d40-f771-82ab3fee43e1"
      },
      "execution_count": null,
      "outputs": [
        {
          "output_type": "execute_result",
          "data": {
            "text/plain": [
              "(1232, 33)"
            ]
          },
          "metadata": {},
          "execution_count": 12
        }
      ]
    },
    {
      "cell_type": "code",
      "source": [
        "three_merged_train.isna().sum()"
      ],
      "metadata": {
        "colab": {
          "base_uri": "https://localhost:8080/"
        },
        "id": "h98UlYPkyJyO",
        "outputId": "8ae6236b-3c59-4af9-9f6f-deb3eeef0891"
      },
      "execution_count": null,
      "outputs": [
        {
          "output_type": "execute_result",
          "data": {
            "text/plain": [
              "therapy_id                                    0\n",
              "tgt_ade_dc_ind                                0\n",
              "race_cd                                      68\n",
              "est_age                                      83\n",
              "sex_cd                                       83\n",
              "cms_disabled_ind                             83\n",
              "cms_low_income_ind                           83\n",
              "number_of_rx_claims                          72\n",
              "max_tot_drug_cost_accum_amt                  72\n",
              "Y_mail_order_proportion                      72\n",
              "Generic_ind_proportion                       72\n",
              "MAINT_ind_proportion                         72\n",
              "SPCL_ind_proportion                          72\n",
              "ddi_ind_claim_proportion                     72\n",
              "anticoag_ind_claim_proportion                72\n",
              "diarrhea_treat_ind_claim_proportion          72\n",
              "nausea_treat_ind_claim_proportion            72\n",
              "seizure_treat_ind_claim_proportion           72\n",
              "pay_day_supply_cnt_median                    72\n",
              "rx_cost_median                               72\n",
              "service_day_and_process_day_gap_median       72\n",
              "visit_day_and_process_day_gap               696\n",
              "primary_diag_cd_letter                      696\n",
              "number_of_med_claims                        696\n",
              "ade_claim_proportion                        696\n",
              "seizure_diagnosis_claim_proportion          696\n",
              "pain_diagnosis_claim_proportion             696\n",
              "fatigue_diagnosis_claim_proportion          696\n",
              "nausea_diagnosis_claim_proportion           696\n",
              "hyperglycemia_diagnosis_claim_proportion    696\n",
              "constipation_diagnosis_claim_proportion     696\n",
              "diarrhea_diagnosis_claim_proportion         696\n",
              "visit_day_and_process_day_gap_median        696\n",
              "dtype: int64"
            ]
          },
          "metadata": {},
          "execution_count": 13
        }
      ]
    },
    {
      "cell_type": "markdown",
      "source": [
        "### Drop columns"
      ],
      "metadata": {
        "id": "WGTNlvqAfed8"
      }
    },
    {
      "cell_type": "code",
      "source": [
        "three_merged_train=three_merged_train.drop(columns='therapy_id')"
      ],
      "metadata": {
        "id": "9lbjyzB0te7K"
      },
      "execution_count": null,
      "outputs": []
    },
    {
      "cell_type": "code",
      "source": [
        "three_merged_train.columns"
      ],
      "metadata": {
        "colab": {
          "base_uri": "https://localhost:8080/"
        },
        "id": "mPG23myZypXy",
        "outputId": "3ca32bff-05a8-44c6-ee28-05c7e48f16a1"
      },
      "execution_count": null,
      "outputs": [
        {
          "output_type": "execute_result",
          "data": {
            "text/plain": [
              "Index(['tgt_ade_dc_ind', 'race_cd', 'est_age', 'sex_cd', 'cms_disabled_ind',\n",
              "       'cms_low_income_ind', 'number_of_rx_claims',\n",
              "       'max_tot_drug_cost_accum_amt', 'Y_mail_order_proportion',\n",
              "       'Generic_ind_proportion', 'MAINT_ind_proportion', 'SPCL_ind_proportion',\n",
              "       'ddi_ind_claim_proportion', 'anticoag_ind_claim_proportion',\n",
              "       'diarrhea_treat_ind_claim_proportion',\n",
              "       'nausea_treat_ind_claim_proportion',\n",
              "       'seizure_treat_ind_claim_proportion', 'pay_day_supply_cnt_median',\n",
              "       'rx_cost_median', 'service_day_and_process_day_gap_median',\n",
              "       'visit_day_and_process_day_gap', 'primary_diag_cd_letter',\n",
              "       'number_of_med_claims', 'ade_claim_proportion',\n",
              "       'seizure_diagnosis_claim_proportion', 'pain_diagnosis_claim_proportion',\n",
              "       'fatigue_diagnosis_claim_proportion',\n",
              "       'nausea_diagnosis_claim_proportion',\n",
              "       'hyperglycemia_diagnosis_claim_proportion',\n",
              "       'constipation_diagnosis_claim_proportion',\n",
              "       'diarrhea_diagnosis_claim_proportion',\n",
              "       'visit_day_and_process_day_gap_median'],\n",
              "      dtype='object')"
            ]
          },
          "metadata": {},
          "execution_count": 15
        }
      ]
    },
    {
      "cell_type": "code",
      "source": [
        "len(three_merged_train['primary_diag_cd_letter'].value_counts())"
      ],
      "metadata": {
        "colab": {
          "base_uri": "https://localhost:8080/"
        },
        "id": "XNq0ameeBFta",
        "outputId": "d17a9575-30ea-4326-d204-c6d1f85c53fb"
      },
      "execution_count": null,
      "outputs": [
        {
          "output_type": "execute_result",
          "data": {
            "text/plain": [
              "16"
            ]
          },
          "metadata": {},
          "execution_count": 16
        }
      ]
    },
    {
      "cell_type": "markdown",
      "source": [
        "## Modeling"
      ],
      "metadata": {
        "id": "t3b6pE5i_wiA"
      }
    },
    {
      "cell_type": "markdown",
      "source": [
        "### Split train,test"
      ],
      "metadata": {
        "id": "OcaYTnWB_zGP"
      }
    },
    {
      "cell_type": "code",
      "source": [
        "from sklearn.model_selection import train_test_split"
      ],
      "metadata": {
        "id": "qGKngmXV_1tR"
      },
      "execution_count": null,
      "outputs": []
    },
    {
      "cell_type": "code",
      "source": [
        "X = three_merged_train.drop(columns=['tgt_ade_dc_ind'])\n",
        "y = three_merged_train['tgt_ade_dc_ind']\n",
        "\n",
        "X_train, X_test, y_train, y_test = train_test_split(X, y, test_size=0.2, random_state=42)\n",
        "\n",
        "print(\"Shape of X_train:\", X_train.shape)\n",
        "print(\"Shape of X_test:\", X_test.shape)\n",
        "print('')\n",
        "print(\"Shape of y_train:\", y_train.shape)\n",
        "print(\"Shape of y_test:\", y_test.shape)\n"
      ],
      "metadata": {
        "colab": {
          "base_uri": "https://localhost:8080/"
        },
        "id": "YjaSci6Q_2_X",
        "outputId": "4e0cbf5b-3193-4156-9da4-ffb9b700560e"
      },
      "execution_count": null,
      "outputs": [
        {
          "output_type": "stream",
          "name": "stdout",
          "text": [
            "Shape of X_train: (985, 31)\n",
            "Shape of X_test: (247, 31)\n",
            "\n",
            "Shape of y_train: (985,)\n",
            "Shape of y_test: (247,)\n"
          ]
        }
      ]
    },
    {
      "cell_type": "markdown",
      "source": [
        "### Missing value imputation"
      ],
      "metadata": {
        "id": "dPL4fj6SAN9k"
      }
    },
    {
      "cell_type": "code",
      "source": [
        "X_train.isna().sum()"
      ],
      "metadata": {
        "id": "84ZGl8jcABny",
        "colab": {
          "base_uri": "https://localhost:8080/"
        },
        "outputId": "ec804708-09eb-4f37-8aea-ca0433add679"
      },
      "execution_count": null,
      "outputs": [
        {
          "output_type": "execute_result",
          "data": {
            "text/plain": [
              "race_cd                                      52\n",
              "est_age                                      71\n",
              "sex_cd                                       71\n",
              "cms_disabled_ind                             71\n",
              "cms_low_income_ind                           71\n",
              "number_of_rx_claims                          61\n",
              "max_tot_drug_cost_accum_amt                  61\n",
              "Y_mail_order_proportion                      61\n",
              "Generic_ind_proportion                       61\n",
              "MAINT_ind_proportion                         61\n",
              "SPCL_ind_proportion                          61\n",
              "ddi_ind_claim_proportion                     61\n",
              "anticoag_ind_claim_proportion                61\n",
              "diarrhea_treat_ind_claim_proportion          61\n",
              "nausea_treat_ind_claim_proportion            61\n",
              "seizure_treat_ind_claim_proportion           61\n",
              "pay_day_supply_cnt_median                    61\n",
              "rx_cost_median                               61\n",
              "service_day_and_process_day_gap_median       61\n",
              "visit_day_and_process_day_gap               555\n",
              "primary_diag_cd_letter                      555\n",
              "number_of_med_claims                        555\n",
              "ade_claim_proportion                        555\n",
              "seizure_diagnosis_claim_proportion          555\n",
              "pain_diagnosis_claim_proportion             555\n",
              "fatigue_diagnosis_claim_proportion          555\n",
              "nausea_diagnosis_claim_proportion           555\n",
              "hyperglycemia_diagnosis_claim_proportion    555\n",
              "constipation_diagnosis_claim_proportion     555\n",
              "diarrhea_diagnosis_claim_proportion         555\n",
              "visit_day_and_process_day_gap_median        555\n",
              "dtype: int64"
            ]
          },
          "metadata": {},
          "execution_count": 20
        }
      ]
    },
    {
      "cell_type": "code",
      "source": [
        "X_train.info()"
      ],
      "metadata": {
        "colab": {
          "base_uri": "https://localhost:8080/"
        },
        "id": "PuZyVqV9Ap8S",
        "outputId": "2aac6f84-9b87-4043-90cd-9192cde49d8f"
      },
      "execution_count": null,
      "outputs": [
        {
          "output_type": "stream",
          "name": "stdout",
          "text": [
            "<class 'pandas.core.frame.DataFrame'>\n",
            "Int64Index: 985 entries, 1069 to 1126\n",
            "Data columns (total 31 columns):\n",
            " #   Column                                    Non-Null Count  Dtype  \n",
            "---  ------                                    --------------  -----  \n",
            " 0   race_cd                                   933 non-null    float64\n",
            " 1   est_age                                   914 non-null    float64\n",
            " 2   sex_cd                                    914 non-null    object \n",
            " 3   cms_disabled_ind                          914 non-null    float64\n",
            " 4   cms_low_income_ind                        914 non-null    float64\n",
            " 5   number_of_rx_claims                       924 non-null    float64\n",
            " 6   max_tot_drug_cost_accum_amt               924 non-null    float64\n",
            " 7   Y_mail_order_proportion                   924 non-null    float64\n",
            " 8   Generic_ind_proportion                    924 non-null    float64\n",
            " 9   MAINT_ind_proportion                      924 non-null    float64\n",
            " 10  SPCL_ind_proportion                       924 non-null    float64\n",
            " 11  ddi_ind_claim_proportion                  924 non-null    float64\n",
            " 12  anticoag_ind_claim_proportion             924 non-null    float64\n",
            " 13  diarrhea_treat_ind_claim_proportion       924 non-null    float64\n",
            " 14  nausea_treat_ind_claim_proportion         924 non-null    float64\n",
            " 15  seizure_treat_ind_claim_proportion        924 non-null    float64\n",
            " 16  pay_day_supply_cnt_median                 924 non-null    float64\n",
            " 17  rx_cost_median                            924 non-null    float64\n",
            " 18  service_day_and_process_day_gap_median    924 non-null    float64\n",
            " 19  visit_day_and_process_day_gap             430 non-null    float64\n",
            " 20  primary_diag_cd_letter                    430 non-null    object \n",
            " 21  number_of_med_claims                      430 non-null    float64\n",
            " 22  ade_claim_proportion                      430 non-null    float64\n",
            " 23  seizure_diagnosis_claim_proportion        430 non-null    float64\n",
            " 24  pain_diagnosis_claim_proportion           430 non-null    float64\n",
            " 25  fatigue_diagnosis_claim_proportion        430 non-null    float64\n",
            " 26  nausea_diagnosis_claim_proportion         430 non-null    float64\n",
            " 27  hyperglycemia_diagnosis_claim_proportion  430 non-null    float64\n",
            " 28  constipation_diagnosis_claim_proportion   430 non-null    float64\n",
            " 29  diarrhea_diagnosis_claim_proportion       430 non-null    float64\n",
            " 30  visit_day_and_process_day_gap_median      430 non-null    float64\n",
            "dtypes: float64(29), object(2)\n",
            "memory usage: 246.2+ KB\n"
          ]
        }
      ]
    },
    {
      "cell_type": "code",
      "source": [
        "X_train['sex_cd'] = X_train['sex_cd'].replace({'M': 1, 'F': 0})\n",
        "X_test['sex_cd'] = X_test['sex_cd'].replace({'M': 1, 'F': 0})\n",
        "\n",
        "# X_train['mail_order_ind'] = X_train['mail_order_ind'].map({'N': 0, 'Y': 1})\n",
        "# X_test['mail_order_ind'] = X_test['mail_order_ind'].map({'N': 0, 'Y': 1})\n",
        "\n",
        "# X_train['generic_ind'] = X_train['generic_ind'].map({'BRANDED': 1, 'GENERIC': 0})\n",
        "# X_test['generic_ind'] = X_test['generic_ind'].map({'BRANDED': 1, 'GENERIC': 0})\n",
        "\n",
        "# X_train['maint_ind'] = X_train['maint_ind'].map({'NONMAINT': 0, 'MAINT': 1})\n",
        "# X_test['maint_ind'] = X_test['maint_ind'].map({'NONMAINT': 0, 'MAINT': 1})\n",
        "\n",
        "# X_train['specialty_ind'] = X_train['specialty_ind'].map({'NONSPCL': 0, 'SPCL': 1})\n",
        "# X_test['specialty_ind'] = X_test['specialty_ind'].map({'NONSPCL': 0, 'SPCL': 1})"
      ],
      "metadata": {
        "id": "4Fyb_v8RASVg"
      },
      "execution_count": null,
      "outputs": []
    },
    {
      "cell_type": "code",
      "source": [
        "X_train.columns"
      ],
      "metadata": {
        "colab": {
          "base_uri": "https://localhost:8080/"
        },
        "id": "uSw_7jVbf9xa",
        "outputId": "79f6b889-3a70-4840-a042-479cf8e921e7"
      },
      "execution_count": null,
      "outputs": [
        {
          "output_type": "execute_result",
          "data": {
            "text/plain": [
              "Index(['race_cd', 'est_age', 'sex_cd', 'cms_disabled_ind',\n",
              "       'cms_low_income_ind', 'number_of_rx_claims',\n",
              "       'max_tot_drug_cost_accum_amt', 'Y_mail_order_proportion',\n",
              "       'Generic_ind_proportion', 'MAINT_ind_proportion', 'SPCL_ind_proportion',\n",
              "       'ddi_ind_claim_proportion', 'anticoag_ind_claim_proportion',\n",
              "       'diarrhea_treat_ind_claim_proportion',\n",
              "       'nausea_treat_ind_claim_proportion',\n",
              "       'seizure_treat_ind_claim_proportion', 'pay_day_supply_cnt_median',\n",
              "       'rx_cost_median', 'service_day_and_process_day_gap_median',\n",
              "       'visit_day_and_process_day_gap', 'primary_diag_cd_letter',\n",
              "       'number_of_med_claims', 'ade_claim_proportion',\n",
              "       'seizure_diagnosis_claim_proportion', 'pain_diagnosis_claim_proportion',\n",
              "       'fatigue_diagnosis_claim_proportion',\n",
              "       'nausea_diagnosis_claim_proportion',\n",
              "       'hyperglycemia_diagnosis_claim_proportion',\n",
              "       'constipation_diagnosis_claim_proportion',\n",
              "       'diarrhea_diagnosis_claim_proportion',\n",
              "       'visit_day_and_process_day_gap_median'],\n",
              "      dtype='object')"
            ]
          },
          "metadata": {},
          "execution_count": 20
        }
      ]
    },
    {
      "cell_type": "markdown",
      "source": [
        "primary_diag_cd_letter"
      ],
      "metadata": {
        "id": "KkX5QdeZzF50"
      }
    },
    {
      "cell_type": "code",
      "source": [
        "from sklearn.experimental import enable_iterative_imputer\n",
        "from sklearn.impute import IterativeImputer\n",
        "\n",
        "\n",
        "columns_to_impute=['race_cd', 'est_age', 'sex_cd', 'cms_disabled_ind',\n",
        "       'cms_low_income_ind', 'number_of_rx_claims',\n",
        "       'max_tot_drug_cost_accum_amt', 'Y_mail_order_proportion',\n",
        "       'Generic_ind_proportion', 'MAINT_ind_proportion', 'SPCL_ind_proportion',\n",
        "       'ddi_ind_claim_proportion', 'anticoag_ind_claim_proportion',\n",
        "       'diarrhea_treat_ind_claim_proportion',\n",
        "       'nausea_treat_ind_claim_proportion',\n",
        "       'seizure_treat_ind_claim_proportion', 'pay_day_supply_cnt_median',\n",
        "       'rx_cost_median', 'service_day_and_process_day_gap_median',\n",
        "       'visit_day_and_process_day_gap',\n",
        "       'number_of_med_claims', 'ade_claim_proportion',\n",
        "       'seizure_diagnosis_claim_proportion', 'pain_diagnosis_claim_proportion',\n",
        "       'fatigue_diagnosis_claim_proportion',\n",
        "       'nausea_diagnosis_claim_proportion',\n",
        "       'hyperglycemia_diagnosis_claim_proportion',\n",
        "       'constipation_diagnosis_claim_proportion',\n",
        "       'diarrhea_diagnosis_claim_proportion',\n",
        "       'visit_day_and_process_day_gap_median']\n",
        "\n",
        "imputer = IterativeImputer(max_iter=10, random_state=0)\n",
        "X_train[columns_to_impute] = imputer.fit_transform(X_train[columns_to_impute])\n",
        "print_bold('X_train')\n",
        "print(X_train.isna().sum())\n",
        "print('')\n",
        "print_bold('X_test')\n",
        "X_test[columns_to_impute] = imputer.fit_transform(X_test[columns_to_impute])\n",
        "X_test.isna().sum()"
      ],
      "metadata": {
        "colab": {
          "base_uri": "https://localhost:8080/"
        },
        "id": "qTKkKBoiAV6u",
        "outputId": "9f3863d5-66d1-4f9c-96e7-9a00f1bd7718"
      },
      "execution_count": null,
      "outputs": [
        {
          "output_type": "stream",
          "name": "stdout",
          "text": [
            "\u001b[1mX_train\u001b[0m\n",
            "race_cd                                       0\n",
            "est_age                                       0\n",
            "sex_cd                                        0\n",
            "cms_disabled_ind                              0\n",
            "cms_low_income_ind                            0\n",
            "number_of_rx_claims                           0\n",
            "max_tot_drug_cost_accum_amt                   0\n",
            "Y_mail_order_proportion                       0\n",
            "Generic_ind_proportion                        0\n",
            "MAINT_ind_proportion                          0\n",
            "SPCL_ind_proportion                           0\n",
            "ddi_ind_claim_proportion                      0\n",
            "anticoag_ind_claim_proportion                 0\n",
            "diarrhea_treat_ind_claim_proportion           0\n",
            "nausea_treat_ind_claim_proportion             0\n",
            "seizure_treat_ind_claim_proportion            0\n",
            "pay_day_supply_cnt_median                     0\n",
            "rx_cost_median                                0\n",
            "service_day_and_process_day_gap_median        0\n",
            "visit_day_and_process_day_gap                 0\n",
            "primary_diag_cd_letter                      555\n",
            "number_of_med_claims                          0\n",
            "ade_claim_proportion                          0\n",
            "seizure_diagnosis_claim_proportion            0\n",
            "pain_diagnosis_claim_proportion               0\n",
            "fatigue_diagnosis_claim_proportion            0\n",
            "nausea_diagnosis_claim_proportion             0\n",
            "hyperglycemia_diagnosis_claim_proportion      0\n",
            "constipation_diagnosis_claim_proportion       0\n",
            "diarrhea_diagnosis_claim_proportion           0\n",
            "visit_day_and_process_day_gap_median          0\n",
            "dtype: int64\n",
            "\n",
            "\u001b[1mX_test\u001b[0m\n"
          ]
        },
        {
          "output_type": "execute_result",
          "data": {
            "text/plain": [
              "race_cd                                       0\n",
              "est_age                                       0\n",
              "sex_cd                                        0\n",
              "cms_disabled_ind                              0\n",
              "cms_low_income_ind                            0\n",
              "number_of_rx_claims                           0\n",
              "max_tot_drug_cost_accum_amt                   0\n",
              "Y_mail_order_proportion                       0\n",
              "Generic_ind_proportion                        0\n",
              "MAINT_ind_proportion                          0\n",
              "SPCL_ind_proportion                           0\n",
              "ddi_ind_claim_proportion                      0\n",
              "anticoag_ind_claim_proportion                 0\n",
              "diarrhea_treat_ind_claim_proportion           0\n",
              "nausea_treat_ind_claim_proportion             0\n",
              "seizure_treat_ind_claim_proportion            0\n",
              "pay_day_supply_cnt_median                     0\n",
              "rx_cost_median                                0\n",
              "service_day_and_process_day_gap_median        0\n",
              "visit_day_and_process_day_gap                 0\n",
              "primary_diag_cd_letter                      141\n",
              "number_of_med_claims                          0\n",
              "ade_claim_proportion                          0\n",
              "seizure_diagnosis_claim_proportion            0\n",
              "pain_diagnosis_claim_proportion               0\n",
              "fatigue_diagnosis_claim_proportion            0\n",
              "nausea_diagnosis_claim_proportion             0\n",
              "hyperglycemia_diagnosis_claim_proportion      0\n",
              "constipation_diagnosis_claim_proportion       0\n",
              "diarrhea_diagnosis_claim_proportion           0\n",
              "visit_day_and_process_day_gap_median          0\n",
              "dtype: int64"
            ]
          },
          "metadata": {},
          "execution_count": 21
        }
      ]
    },
    {
      "cell_type": "code",
      "source": [
        "def map_race_cd(value):\n",
        "    if value > 1.5 and value < 2.5:\n",
        "        return 2\n",
        "    elif value >0 and value < 1.5:\n",
        "        return 1\n",
        "    else:\n",
        "        return value\n",
        "X_train['race_cd'] = X_train['race_cd'].apply(map_race_cd)\n",
        "X_test['race_cd'] = X_test['race_cd'].apply(map_race_cd)\n",
        "\n",
        "binary_columns = ['sex_cd','cms_disabled_ind', 'cms_low_income_ind']\n",
        "\n",
        "# binary_columns = ['sex_cd', 'cms_disabled_ind', 'cms_low_income_ind', 'mail_order_ind',\n",
        "#                   'generic_ind', 'maint_ind', 'specialty_ind', 'ddi_ind', 'anticoag_ind',\n",
        "#                   'diarrhea_treat_ind', 'nausea_treat_ind', 'seizure_treat_ind']\n",
        "for column in binary_columns:\n",
        "    mask = X_train[column] < 0.5\n",
        "    X_train.loc[mask, column] = 0\n",
        "    X_train.loc[~mask, column] = 1\n",
        "for column in binary_columns:\n",
        "    mask = X_test[column] < 0.5\n",
        "    X_test.loc[mask, column] = 0\n",
        "    X_test.loc[~mask, column] = 1\n"
      ],
      "metadata": {
        "id": "c8MuVpjhGoKL"
      },
      "execution_count": null,
      "outputs": []
    },
    {
      "cell_type": "code",
      "source": [
        "columns_to_impute_check = [\n",
        "    'race_cd','sex_cd','cms_disabled_ind', 'cms_low_income_ind'\n",
        "]\n",
        "\n",
        "# columns_to_impute_check = [\n",
        "#     'race_cd','sex_cd', 'cms_disabled_ind', 'cms_low_income_ind','mail_order_ind', 'generic_ind',\n",
        "#     'maint_ind', 'specialty_ind', 'ddi_ind', 'anticoag_ind', 'diarrhea_treat_ind',\n",
        "#     'nausea_treat_ind', 'seizure_treat_ind'\n",
        "# ]"
      ],
      "metadata": {
        "id": "dtSt6styHE1l"
      },
      "execution_count": null,
      "outputs": []
    },
    {
      "cell_type": "code",
      "source": [
        "for column in columns_to_impute_check:\n",
        "  print_bold('{}'.format(column))\n",
        "  print(X_train[column].value_counts())\n",
        "\n",
        "for column in columns_to_impute_check:\n",
        "  print_bold('{}'.format(column))\n",
        "  print(X_test[column].value_counts())"
      ],
      "metadata": {
        "colab": {
          "base_uri": "https://localhost:8080/"
        },
        "id": "bBrhfYRsGt_K",
        "outputId": "7450f24b-7c57-491b-cbc0-ca9a1d04458a"
      },
      "execution_count": null,
      "outputs": [
        {
          "output_type": "stream",
          "name": "stdout",
          "text": [
            "\u001b[1mrace_cd\u001b[0m\n",
            "1.0    600\n",
            "2.0    141\n",
            "4.0    115\n",
            "0.0     65\n",
            "5.0     34\n",
            "3.0     27\n",
            "6.0      3\n",
            "Name: race_cd, dtype: int64\n",
            "\u001b[1msex_cd\u001b[0m\n",
            "0.0    732\n",
            "1.0    253\n",
            "Name: sex_cd, dtype: int64\n",
            "\u001b[1mcms_disabled_ind\u001b[0m\n",
            "0.0    846\n",
            "1.0    139\n",
            "Name: cms_disabled_ind, dtype: int64\n",
            "\u001b[1mcms_low_income_ind\u001b[0m\n",
            "0.0    632\n",
            "1.0    353\n",
            "Name: cms_low_income_ind, dtype: int64\n",
            "\u001b[1mrace_cd\u001b[0m\n",
            "1.0    126\n",
            "2.0     45\n",
            "4.0     37\n",
            "0.0     19\n",
            "3.0     10\n",
            "5.0      8\n",
            "6.0      2\n",
            "Name: race_cd, dtype: int64\n",
            "\u001b[1msex_cd\u001b[0m\n",
            "0.0    166\n",
            "1.0     81\n",
            "Name: sex_cd, dtype: int64\n",
            "\u001b[1mcms_disabled_ind\u001b[0m\n",
            "0.0    217\n",
            "1.0     30\n",
            "Name: cms_disabled_ind, dtype: int64\n",
            "\u001b[1mcms_low_income_ind\u001b[0m\n",
            "0.0    148\n",
            "1.0     99\n",
            "Name: cms_low_income_ind, dtype: int64\n"
          ]
        }
      ]
    },
    {
      "cell_type": "code",
      "source": [
        "# impute categorical variables\n",
        "\n",
        "from sklearn.impute import SimpleImputer\n",
        "imputer = SimpleImputer(strategy='most_frequent')\n",
        "columns_to_impute = ['primary_diag_cd_letter']\n",
        "X_train[columns_to_impute] = imputer.fit_transform(X_train[columns_to_impute])\n",
        "print(X_train.isna().sum())\n",
        "\n",
        "from sklearn.impute import SimpleImputer\n",
        "imputer = SimpleImputer(strategy='most_frequent')\n",
        "columns_to_impute = ['primary_diag_cd_letter']\n",
        "X_test[columns_to_impute] = imputer.fit_transform(X_test[columns_to_impute])\n",
        "print(X_test.isna().sum())"
      ],
      "metadata": {
        "id": "nclV3duFGkQk",
        "colab": {
          "base_uri": "https://localhost:8080/"
        },
        "outputId": "6421892e-d3ef-4c70-b894-9317221dfbff"
      },
      "execution_count": null,
      "outputs": [
        {
          "output_type": "stream",
          "name": "stdout",
          "text": [
            "race_cd                                     0\n",
            "est_age                                     0\n",
            "sex_cd                                      0\n",
            "cms_disabled_ind                            0\n",
            "cms_low_income_ind                          0\n",
            "number_of_rx_claims                         0\n",
            "max_tot_drug_cost_accum_amt                 0\n",
            "Y_mail_order_proportion                     0\n",
            "Generic_ind_proportion                      0\n",
            "MAINT_ind_proportion                        0\n",
            "SPCL_ind_proportion                         0\n",
            "ddi_ind_claim_proportion                    0\n",
            "anticoag_ind_claim_proportion               0\n",
            "diarrhea_treat_ind_claim_proportion         0\n",
            "nausea_treat_ind_claim_proportion           0\n",
            "seizure_treat_ind_claim_proportion          0\n",
            "pay_day_supply_cnt_median                   0\n",
            "rx_cost_median                              0\n",
            "service_day_and_process_day_gap_median      0\n",
            "visit_day_and_process_day_gap               0\n",
            "primary_diag_cd_letter                      0\n",
            "number_of_med_claims                        0\n",
            "ade_claim_proportion                        0\n",
            "seizure_diagnosis_claim_proportion          0\n",
            "pain_diagnosis_claim_proportion             0\n",
            "fatigue_diagnosis_claim_proportion          0\n",
            "nausea_diagnosis_claim_proportion           0\n",
            "hyperglycemia_diagnosis_claim_proportion    0\n",
            "constipation_diagnosis_claim_proportion     0\n",
            "diarrhea_diagnosis_claim_proportion         0\n",
            "visit_day_and_process_day_gap_median        0\n",
            "dtype: int64\n",
            "race_cd                                     0\n",
            "est_age                                     0\n",
            "sex_cd                                      0\n",
            "cms_disabled_ind                            0\n",
            "cms_low_income_ind                          0\n",
            "number_of_rx_claims                         0\n",
            "max_tot_drug_cost_accum_amt                 0\n",
            "Y_mail_order_proportion                     0\n",
            "Generic_ind_proportion                      0\n",
            "MAINT_ind_proportion                        0\n",
            "SPCL_ind_proportion                         0\n",
            "ddi_ind_claim_proportion                    0\n",
            "anticoag_ind_claim_proportion               0\n",
            "diarrhea_treat_ind_claim_proportion         0\n",
            "nausea_treat_ind_claim_proportion           0\n",
            "seizure_treat_ind_claim_proportion          0\n",
            "pay_day_supply_cnt_median                   0\n",
            "rx_cost_median                              0\n",
            "service_day_and_process_day_gap_median      0\n",
            "visit_day_and_process_day_gap               0\n",
            "primary_diag_cd_letter                      0\n",
            "number_of_med_claims                        0\n",
            "ade_claim_proportion                        0\n",
            "seizure_diagnosis_claim_proportion          0\n",
            "pain_diagnosis_claim_proportion             0\n",
            "fatigue_diagnosis_claim_proportion          0\n",
            "nausea_diagnosis_claim_proportion           0\n",
            "hyperglycemia_diagnosis_claim_proportion    0\n",
            "constipation_diagnosis_claim_proportion     0\n",
            "diarrhea_diagnosis_claim_proportion         0\n",
            "visit_day_and_process_day_gap_median        0\n",
            "dtype: int64\n"
          ]
        }
      ]
    },
    {
      "cell_type": "markdown",
      "source": [
        "### Preprocessing pipeline"
      ],
      "metadata": {
        "id": "c8Frb85dYpIc"
      }
    },
    {
      "cell_type": "code",
      "source": [
        "from sklearn.compose import ColumnTransformer\n",
        "from sklearn.pipeline import Pipeline\n",
        "from sklearn.preprocessing import StandardScaler, OneHotEncoder"
      ],
      "metadata": {
        "id": "fAIICLfYaBhP"
      },
      "execution_count": null,
      "outputs": []
    },
    {
      "cell_type": "code",
      "source": [
        "X_train.columns"
      ],
      "metadata": {
        "colab": {
          "base_uri": "https://localhost:8080/"
        },
        "id": "sAIEemXfg8O1",
        "outputId": "17f9f7d2-c00b-41f1-f3e7-c5395ea006bd"
      },
      "execution_count": null,
      "outputs": [
        {
          "output_type": "execute_result",
          "data": {
            "text/plain": [
              "Index(['race_cd', 'est_age', 'sex_cd', 'cms_disabled_ind',\n",
              "       'cms_low_income_ind', 'number_of_rx_claims',\n",
              "       'max_tot_drug_cost_accum_amt', 'Y_mail_order_proportion',\n",
              "       'Generic_ind_proportion', 'MAINT_ind_proportion', 'SPCL_ind_proportion',\n",
              "       'ddi_ind_claim_proportion', 'anticoag_ind_claim_proportion',\n",
              "       'diarrhea_treat_ind_claim_proportion',\n",
              "       'nausea_treat_ind_claim_proportion',\n",
              "       'seizure_treat_ind_claim_proportion', 'pay_day_supply_cnt_median',\n",
              "       'rx_cost_median', 'service_day_and_process_day_gap_median',\n",
              "       'visit_day_and_process_day_gap', 'primary_diag_cd_letter',\n",
              "       'number_of_med_claims', 'ade_claim_proportion',\n",
              "       'seizure_diagnosis_claim_proportion', 'pain_diagnosis_claim_proportion',\n",
              "       'fatigue_diagnosis_claim_proportion',\n",
              "       'nausea_diagnosis_claim_proportion',\n",
              "       'hyperglycemia_diagnosis_claim_proportion',\n",
              "       'constipation_diagnosis_claim_proportion',\n",
              "       'diarrhea_diagnosis_claim_proportion',\n",
              "       'visit_day_and_process_day_gap_median'],\n",
              "      dtype='object')"
            ]
          },
          "metadata": {},
          "execution_count": 27
        }
      ]
    },
    {
      "cell_type": "code",
      "source": [
        "numeric_columns=['est_age','visit_day_and_process_day_gap',\n",
        "    'number_of_med_claims',\n",
        "       'ade_claim_proportion', 'seizure_diagnosis_claim_proportion',\n",
        "       'pain_diagnosis_claim_proportion', 'fatigue_diagnosis_claim_proportion',\n",
        "       'nausea_diagnosis_claim_proportion',\n",
        "       'hyperglycemia_diagnosis_claim_proportion',\n",
        "       'constipation_diagnosis_claim_proportion',\n",
        "       'diarrhea_diagnosis_claim_proportion',\n",
        "       'visit_day_and_process_day_gap_median']\n",
        "\n",
        "numeric_columns= numeric_columns+['number_of_rx_claims',\n",
        "       'max_tot_drug_cost_accum_amt', 'Y_mail_order_proportion',\n",
        "       'Generic_ind_proportion', 'MAINT_ind_proportion', 'SPCL_ind_proportion',\n",
        "       'ddi_ind_claim_proportion', 'anticoag_ind_claim_proportion',\n",
        "       'diarrhea_treat_ind_claim_proportion',\n",
        "       'nausea_treat_ind_claim_proportion',\n",
        "       'seizure_treat_ind_claim_proportion', 'pay_day_supply_cnt_median',\n",
        "       'rx_cost_median', 'service_day_and_process_day_gap_median']\n",
        "\n",
        "\n",
        "categorical_columns=['primary_diag_cd_letter','race_cd','sex_cd','cms_disabled_ind','cms_low_income_ind']\n",
        "\n",
        "\n",
        "print('{} variables in total in X_train'.format(X_train.shape[1]))\n",
        "print('{} of variables are treated as numeric'.format(len(numeric_columns)))\n",
        "print('{} of variables are treated as categorical'.format(len(categorical_columns)))"
      ],
      "metadata": {
        "colab": {
          "base_uri": "https://localhost:8080/"
        },
        "id": "X4pE-w2yaXyG",
        "outputId": "9169bca3-715a-45ab-f25b-a6c01296b462"
      },
      "execution_count": null,
      "outputs": [
        {
          "output_type": "stream",
          "name": "stdout",
          "text": [
            "31 variables in total in X_train\n",
            "26 of variables are treated as numeric\n",
            "5 of variables are treated as categorical\n"
          ]
        }
      ]
    },
    {
      "cell_type": "code",
      "source": [
        "numeric_transformer = Pipeline(steps=[\n",
        "    ('scaler', StandardScaler())\n",
        "])\n",
        "categorical_transformer = Pipeline(steps=[\n",
        "    ('onehot', OneHotEncoder(handle_unknown='ignore'))\n",
        "])"
      ],
      "metadata": {
        "id": "K6aOkWy4aEE3"
      },
      "execution_count": null,
      "outputs": []
    },
    {
      "cell_type": "code",
      "source": [
        "preprocessor = ColumnTransformer(\n",
        "    transformers=[\n",
        "        ('num', numeric_transformer, numeric_columns),\n",
        "        ('cat', categorical_transformer, categorical_columns)\n",
        "    ])\n",
        "\n",
        "# Create the final pipeline for modeling\n",
        "pipeline = Pipeline(steps=[('preprocessor', preprocessor)])"
      ],
      "metadata": {
        "id": "7bTVK1HpaBjr"
      },
      "execution_count": null,
      "outputs": []
    },
    {
      "cell_type": "code",
      "source": [
        "X_train_transformed = pipeline.fit_transform(X_train)\n",
        "X_test_transformed = pipeline.transform(X_test)\n",
        "\n",
        "print(\"Shape of X_train_transformed:\", X_train_transformed.shape)\n",
        "print(\"Shape of X_test_transformed:\", X_test_transformed.shape)"
      ],
      "metadata": {
        "colab": {
          "base_uri": "https://localhost:8080/"
        },
        "id": "MGEV5IXVaMdQ",
        "outputId": "67042d7a-f59d-476d-a281-6730d8ff1d60"
      },
      "execution_count": null,
      "outputs": [
        {
          "output_type": "stream",
          "name": "stdout",
          "text": [
            "Shape of X_train_transformed: (985, 55)\n",
            "Shape of X_test_transformed: (247, 55)\n"
          ]
        }
      ]
    },
    {
      "cell_type": "code",
      "source": [],
      "metadata": {
        "id": "WlA93SX4LRnz"
      },
      "execution_count": null,
      "outputs": []
    },
    {
      "cell_type": "markdown",
      "source": [
        "### Evaluation & testset Prediction"
      ],
      "metadata": {
        "id": "c5NQrC_Ieq2b"
      }
    },
    {
      "cell_type": "markdown",
      "source": [
        "## lightGBM"
      ],
      "metadata": {
        "id": "sWUvMi38LTrR"
      }
    },
    {
      "cell_type": "code",
      "source": [
        "from lightgbm import LGBMClassifier\n",
        "accuracy= []\n",
        "recall =[]\n",
        "roc_auc= []\n",
        "precision = []\n",
        "\n",
        "\n",
        "lgbmc_5=LGBMClassifier(random_state=0,\n",
        "                       scale_pos_weight=3)\n",
        "\n",
        "lgbmc_5.fit(X_train_transformed, y_train)\n",
        "            #categorical_feature = 'auto',eval_set=(X_test, y_test),feature_name='auto')\n",
        "\n",
        "\n",
        "y_pred = lgbmc_5.predict(X_test_transformed)\n",
        "y_pred_proba = lgbmc_5.predict_proba(X_test_transformed)[:, 1]\n",
        "\n"
      ],
      "metadata": {
        "colab": {
          "base_uri": "https://localhost:8080/"
        },
        "id": "AmDLu7RXLWBK",
        "outputId": "a842587b-d03f-4585-e53e-97f77435202f"
      },
      "execution_count": null,
      "outputs": [
        {
          "output_type": "stream",
          "name": "stdout",
          "text": [
            "[LightGBM] [Info] Number of positive: 91, number of negative: 894\n",
            "[LightGBM] [Warning] Auto-choosing col-wise multi-threading, the overhead of testing was 0.000834 seconds.\n",
            "You can set `force_col_wise=true` to remove the overhead.\n",
            "[LightGBM] [Info] Total Bins 4786\n",
            "[LightGBM] [Info] Number of data points in the train set: 985, number of used features: 43\n",
            "[LightGBM] [Info] [binary:BoostFromScore]: pavg=0.092386 -> initscore=-2.284846\n",
            "[LightGBM] [Info] Start training from score -2.284846\n",
            "[LightGBM] [Warning] No further splits with positive gain, best gain: -inf\n",
            "[LightGBM] [Warning] No further splits with positive gain, best gain: -inf\n",
            "[LightGBM] [Warning] No further splits with positive gain, best gain: -inf\n",
            "[LightGBM] [Warning] No further splits with positive gain, best gain: -inf\n",
            "[LightGBM] [Warning] No further splits with positive gain, best gain: -inf\n",
            "[LightGBM] [Warning] No further splits with positive gain, best gain: -inf\n",
            "[LightGBM] [Warning] No further splits with positive gain, best gain: -inf\n",
            "[LightGBM] [Warning] No further splits with positive gain, best gain: -inf\n",
            "[LightGBM] [Warning] No further splits with positive gain, best gain: -inf\n",
            "[LightGBM] [Warning] No further splits with positive gain, best gain: -inf\n",
            "[LightGBM] [Warning] No further splits with positive gain, best gain: -inf\n",
            "[LightGBM] [Warning] No further splits with positive gain, best gain: -inf\n"
          ]
        }
      ]
    },
    {
      "cell_type": "code",
      "source": [
        "lgbmc_5.predict_proba(X_test_transformed)"
      ],
      "metadata": {
        "colab": {
          "base_uri": "https://localhost:8080/"
        },
        "id": "ciqJLEX4O2Oa",
        "outputId": "734c36d3-d0f0-4634-e58b-7a3f076c4596"
      },
      "execution_count": null,
      "outputs": [
        {
          "output_type": "execute_result",
          "data": {
            "text/plain": [
              "array([[9.99612774e-01, 3.87225939e-04],\n",
              "       [9.99483178e-01, 5.16822050e-04],\n",
              "       [9.09444393e-01, 9.05556067e-02],\n",
              "       [9.90834721e-01, 9.16527865e-03],\n",
              "       [9.99486625e-01, 5.13374948e-04],\n",
              "       [9.99984335e-01, 1.56646780e-05],\n",
              "       [9.99523511e-01, 4.76488865e-04],\n",
              "       [9.98649760e-01, 1.35023972e-03],\n",
              "       [9.45298530e-01, 5.47014699e-02],\n",
              "       [9.99635113e-01, 3.64887250e-04],\n",
              "       [9.98302573e-01, 1.69742697e-03],\n",
              "       [9.99829368e-01, 1.70632321e-04],\n",
              "       [9.99977866e-01, 2.21335818e-05],\n",
              "       [9.99987677e-01, 1.23225073e-05],\n",
              "       [9.99981378e-01, 1.86217017e-05],\n",
              "       [9.99960468e-01, 3.95316734e-05],\n",
              "       [9.99969670e-01, 3.03296462e-05],\n",
              "       [9.99971262e-01, 2.87377882e-05],\n",
              "       [9.99763190e-01, 2.36809614e-04],\n",
              "       [9.99412578e-01, 5.87422454e-04],\n",
              "       [9.99743889e-01, 2.56110926e-04],\n",
              "       [9.98192359e-01, 1.80764129e-03],\n",
              "       [9.99969427e-01, 3.05727438e-05],\n",
              "       [9.94637348e-01, 5.36265217e-03],\n",
              "       [9.99990710e-01, 9.28976305e-06],\n",
              "       [1.22163093e-01, 8.77836907e-01],\n",
              "       [9.99412606e-01, 5.87394204e-04],\n",
              "       [1.69034038e-01, 8.30965962e-01],\n",
              "       [9.99987677e-01, 1.23225073e-05],\n",
              "       [3.89051217e-01, 6.10948783e-01],\n",
              "       [9.93682685e-01, 6.31731531e-03],\n",
              "       [9.99970933e-01, 2.90673861e-05],\n",
              "       [9.99543220e-01, 4.56779649e-04],\n",
              "       [9.98028880e-01, 1.97111992e-03],\n",
              "       [9.99900417e-01, 9.95830568e-05],\n",
              "       [4.81809785e-02, 9.51819022e-01],\n",
              "       [9.99987677e-01, 1.23225073e-05],\n",
              "       [9.99035179e-01, 9.64820598e-04],\n",
              "       [9.99987074e-01, 1.29257663e-05],\n",
              "       [9.90515004e-01, 9.48499556e-03],\n",
              "       [9.99958486e-01, 4.15144752e-05],\n",
              "       [6.78295697e-01, 3.21704303e-01],\n",
              "       [9.99972499e-01, 2.75013861e-05],\n",
              "       [4.84132417e-01, 5.15867583e-01],\n",
              "       [9.99136203e-01, 8.63797261e-04],\n",
              "       [9.34933531e-01, 6.50664694e-02],\n",
              "       [9.99938415e-01, 6.15852540e-05],\n",
              "       [9.99937411e-01, 6.25889588e-05],\n",
              "       [9.32206955e-01, 6.77930452e-02],\n",
              "       [9.99951598e-01, 4.84023994e-05],\n",
              "       [9.99031617e-01, 9.68383167e-04],\n",
              "       [9.99433528e-01, 5.66471971e-04],\n",
              "       [9.99987677e-01, 1.23225073e-05],\n",
              "       [9.82378646e-01, 1.76213535e-02],\n",
              "       [9.84846112e-01, 1.51538883e-02],\n",
              "       [2.92276953e-02, 9.70772305e-01],\n",
              "       [9.99857497e-01, 1.42502504e-04],\n",
              "       [9.96406065e-01, 3.59393495e-03],\n",
              "       [9.99724268e-01, 2.75731603e-04],\n",
              "       [9.98203522e-01, 1.79647796e-03],\n",
              "       [2.39599492e-02, 9.76040051e-01],\n",
              "       [9.99890896e-01, 1.09104225e-04],\n",
              "       [9.99976900e-01, 2.31003218e-05],\n",
              "       [9.99856627e-01, 1.43372962e-04],\n",
              "       [9.99767827e-01, 2.32172552e-04],\n",
              "       [9.97987338e-01, 2.01266158e-03],\n",
              "       [9.96748347e-01, 3.25165307e-03],\n",
              "       [9.99798523e-01, 2.01477311e-04],\n",
              "       [9.99492304e-01, 5.07695582e-04],\n",
              "       [3.99705911e-01, 6.00294089e-01],\n",
              "       [9.99974918e-01, 2.50821047e-05],\n",
              "       [9.95550578e-01, 4.44942227e-03],\n",
              "       [9.94136518e-01, 5.86348158e-03],\n",
              "       [9.99960486e-01, 3.95138272e-05],\n",
              "       [9.99306483e-01, 6.93516773e-04],\n",
              "       [9.91359266e-01, 8.64073364e-03],\n",
              "       [9.99368725e-01, 6.31275424e-04],\n",
              "       [9.99639212e-01, 3.60788239e-04],\n",
              "       [5.32287642e-01, 4.67712358e-01],\n",
              "       [9.97680518e-01, 2.31948245e-03],\n",
              "       [9.99217907e-01, 7.82092526e-04],\n",
              "       [9.99984085e-01, 1.59150169e-05],\n",
              "       [9.99988932e-01, 1.10683806e-05],\n",
              "       [9.99717067e-01, 2.82932816e-04],\n",
              "       [9.91228022e-01, 8.77197825e-03],\n",
              "       [9.99981476e-01, 1.85239425e-05],\n",
              "       [9.98912433e-01, 1.08756747e-03],\n",
              "       [9.99979222e-01, 2.07776129e-05],\n",
              "       [9.77576551e-01, 2.24234487e-02],\n",
              "       [3.07578100e-01, 6.92421900e-01],\n",
              "       [9.97633509e-01, 2.36649099e-03],\n",
              "       [8.39660985e-01, 1.60339015e-01],\n",
              "       [9.94770248e-01, 5.22975228e-03],\n",
              "       [9.99220462e-01, 7.79538063e-04],\n",
              "       [9.98259506e-01, 1.74049384e-03],\n",
              "       [9.99088700e-01, 9.11299853e-04],\n",
              "       [9.85788979e-01, 1.42110213e-02],\n",
              "       [9.99852471e-01, 1.47529009e-04],\n",
              "       [9.99593905e-01, 4.06094555e-04],\n",
              "       [9.99736380e-01, 2.63620279e-04],\n",
              "       [9.97789479e-01, 2.21052065e-03],\n",
              "       [9.39709102e-01, 6.02908979e-02],\n",
              "       [9.98972911e-01, 1.02708912e-03],\n",
              "       [9.99633264e-01, 3.66735748e-04],\n",
              "       [8.46393465e-01, 1.53606535e-01],\n",
              "       [9.89742910e-01, 1.02570899e-02],\n",
              "       [9.68981112e-01, 3.10188877e-02],\n",
              "       [9.21783651e-01, 7.82163488e-02],\n",
              "       [9.99970092e-01, 2.99077416e-05],\n",
              "       [9.99950181e-01, 4.98185364e-05],\n",
              "       [9.99975058e-01, 2.49422139e-05],\n",
              "       [9.99942914e-01, 5.70862035e-05],\n",
              "       [9.98386921e-01, 1.61307862e-03],\n",
              "       [9.99436750e-01, 5.63250042e-04],\n",
              "       [9.98933648e-01, 1.06635151e-03],\n",
              "       [9.95495607e-01, 4.50439265e-03],\n",
              "       [1.38638126e-02, 9.86136187e-01],\n",
              "       [9.99990101e-01, 9.89869276e-06],\n",
              "       [9.93923106e-01, 6.07689436e-03],\n",
              "       [5.84241768e-02, 9.41575823e-01],\n",
              "       [9.99458718e-01, 5.41281734e-04],\n",
              "       [5.16676632e-01, 4.83323368e-01],\n",
              "       [9.94340599e-01, 5.65940099e-03],\n",
              "       [9.99701326e-01, 2.98673521e-04],\n",
              "       [9.99277232e-01, 7.22767518e-04],\n",
              "       [1.05363151e-02, 9.89463685e-01],\n",
              "       [6.59084570e-01, 3.40915430e-01],\n",
              "       [9.99643469e-01, 3.56530776e-04],\n",
              "       [9.99888237e-01, 1.11763149e-04],\n",
              "       [9.99892471e-01, 1.07529192e-04],\n",
              "       [9.99363943e-01, 6.36056934e-04],\n",
              "       [9.99978068e-01, 2.19323950e-05],\n",
              "       [6.69383382e-01, 3.30616618e-01],\n",
              "       [9.99988403e-01, 1.15974177e-05],\n",
              "       [9.99834920e-01, 1.65080462e-04],\n",
              "       [9.98475123e-01, 1.52487652e-03],\n",
              "       [9.52681259e-01, 4.73187410e-02],\n",
              "       [9.93465755e-01, 6.53424549e-03],\n",
              "       [9.98965807e-01, 1.03419277e-03],\n",
              "       [9.99785767e-01, 2.14233087e-04],\n",
              "       [9.99672309e-01, 3.27691000e-04],\n",
              "       [4.29952814e-01, 5.70047186e-01],\n",
              "       [9.99948615e-01, 5.13846368e-05],\n",
              "       [9.99978205e-01, 2.17947963e-05],\n",
              "       [9.99520596e-01, 4.79403579e-04],\n",
              "       [9.81313325e-01, 1.86866747e-02],\n",
              "       [9.99891738e-01, 1.08262484e-04],\n",
              "       [9.49283028e-01, 5.07169717e-02],\n",
              "       [9.99986174e-01, 1.38261345e-05],\n",
              "       [9.99949348e-01, 5.06520143e-05],\n",
              "       [9.99959536e-01, 4.04637803e-05],\n",
              "       [5.86838729e-01, 4.13161271e-01],\n",
              "       [9.99984345e-01, 1.56548718e-05],\n",
              "       [9.94493820e-01, 5.50617992e-03],\n",
              "       [9.96997775e-01, 3.00222516e-03],\n",
              "       [9.99973314e-01, 2.66855139e-05],\n",
              "       [9.99713179e-01, 2.86821248e-04],\n",
              "       [8.61877448e-01, 1.38122552e-01],\n",
              "       [9.99947128e-01, 5.28721271e-05],\n",
              "       [9.99989125e-01, 1.08751162e-05],\n",
              "       [9.07211264e-01, 9.27887356e-02],\n",
              "       [9.99979232e-01, 2.07680627e-05],\n",
              "       [9.99970784e-01, 2.92158028e-05],\n",
              "       [9.99457981e-01, 5.42019302e-04],\n",
              "       [9.91042688e-01, 8.95731195e-03],\n",
              "       [9.99341725e-01, 6.58275400e-04],\n",
              "       [9.99895454e-01, 1.04546439e-04],\n",
              "       [9.99930880e-01, 6.91203530e-05],\n",
              "       [9.99888802e-01, 1.11198110e-04],\n",
              "       [9.99900540e-01, 9.94600733e-05],\n",
              "       [9.97913601e-01, 2.08639873e-03],\n",
              "       [9.97261614e-01, 2.73838585e-03],\n",
              "       [9.99929641e-01, 7.03585189e-05],\n",
              "       [2.33626768e-01, 7.66373232e-01],\n",
              "       [8.54400941e-01, 1.45599059e-01],\n",
              "       [9.99878125e-01, 1.21874641e-04],\n",
              "       [9.97278849e-01, 2.72115149e-03],\n",
              "       [9.99330648e-01, 6.69352287e-04],\n",
              "       [9.99767496e-01, 2.32504491e-04],\n",
              "       [9.97949969e-01, 2.05003134e-03],\n",
              "       [9.98883660e-01, 1.11633975e-03],\n",
              "       [9.99963242e-01, 3.67576920e-05],\n",
              "       [9.99978224e-01, 2.17761358e-05],\n",
              "       [9.99878827e-01, 1.21172963e-04],\n",
              "       [9.99798681e-01, 2.01318818e-04],\n",
              "       [9.97432545e-01, 2.56745533e-03],\n",
              "       [3.33525151e-02, 9.66647485e-01],\n",
              "       [9.99969783e-01, 3.02167970e-05],\n",
              "       [9.98860949e-01, 1.13905128e-03],\n",
              "       [9.99965022e-01, 3.49783362e-05],\n",
              "       [9.97413138e-01, 2.58686241e-03],\n",
              "       [9.98873784e-01, 1.12621649e-03],\n",
              "       [2.84509024e-01, 7.15490976e-01],\n",
              "       [9.32506829e-01, 6.74931707e-02],\n",
              "       [9.99971392e-01, 2.86077917e-05],\n",
              "       [9.99326231e-01, 6.73768726e-04],\n",
              "       [9.60479756e-01, 3.95202435e-02],\n",
              "       [9.99987846e-01, 1.21537993e-05],\n",
              "       [9.99676789e-01, 3.23210860e-04],\n",
              "       [9.98056810e-01, 1.94319017e-03],\n",
              "       [9.99990016e-01, 9.98377916e-06],\n",
              "       [9.99555475e-01, 4.44524750e-04],\n",
              "       [9.20095881e-01, 7.99041191e-02],\n",
              "       [9.95271863e-01, 4.72813731e-03],\n",
              "       [2.30150321e-01, 7.69849679e-01],\n",
              "       [9.99016607e-01, 9.83393325e-04],\n",
              "       [9.99968904e-01, 3.10958050e-05],\n",
              "       [9.99970589e-01, 2.94109132e-05],\n",
              "       [9.99516371e-01, 4.83628961e-04],\n",
              "       [9.99528916e-01, 4.71084276e-04],\n",
              "       [3.78229963e-01, 6.21770037e-01],\n",
              "       [9.55305396e-03, 9.90446946e-01],\n",
              "       [9.99649028e-01, 3.50972144e-04],\n",
              "       [9.99984731e-01, 1.52687874e-05],\n",
              "       [9.57584990e-01, 4.24150099e-02],\n",
              "       [9.99990051e-01, 9.94940629e-06],\n",
              "       [9.99957543e-01, 4.24571689e-05],\n",
              "       [9.99888003e-01, 1.11996553e-04],\n",
              "       [8.31909056e-01, 1.68090944e-01],\n",
              "       [9.99977671e-01, 2.23293467e-05],\n",
              "       [9.99337786e-01, 6.62213694e-04],\n",
              "       [9.99953586e-01, 4.64141391e-05],\n",
              "       [9.99990386e-01, 9.61392560e-06],\n",
              "       [2.56636190e-02, 9.74336381e-01],\n",
              "       [9.52259172e-01, 4.77408278e-02],\n",
              "       [9.99568857e-01, 4.31143092e-04],\n",
              "       [5.04919555e-01, 4.95080445e-01],\n",
              "       [9.99586609e-01, 4.13391328e-04],\n",
              "       [9.99980609e-01, 1.93914288e-05],\n",
              "       [9.99877564e-01, 1.22435933e-04],\n",
              "       [9.99987677e-01, 1.23225073e-05],\n",
              "       [9.99987677e-01, 1.23225073e-05],\n",
              "       [9.99905952e-01, 9.40481323e-05],\n",
              "       [9.95202201e-01, 4.79779943e-03],\n",
              "       [9.99984707e-01, 1.52933471e-05],\n",
              "       [9.99664808e-01, 3.35191678e-04],\n",
              "       [9.89765068e-01, 1.02349322e-02],\n",
              "       [9.99868121e-01, 1.31878967e-04],\n",
              "       [9.99985682e-01, 1.43183759e-05],\n",
              "       [9.99928150e-01, 7.18503152e-05],\n",
              "       [9.99493708e-01, 5.06291702e-04],\n",
              "       [9.98321029e-01, 1.67897121e-03],\n",
              "       [9.99733035e-01, 2.66965418e-04],\n",
              "       [2.10336889e-02, 9.78966311e-01],\n",
              "       [9.99835677e-01, 1.64323004e-04],\n",
              "       [9.99659022e-01, 3.40978170e-04],\n",
              "       [9.99860371e-01, 1.39628706e-04]])"
            ]
          },
          "metadata": {},
          "execution_count": 51
        }
      ]
    },
    {
      "cell_type": "code",
      "source": [
        "y_pred_proba"
      ],
      "metadata": {
        "id": "ikJS24L_O9ZJ",
        "outputId": "92d0a9f1-92b7-4b71-f2e8-9ad244287ede",
        "colab": {
          "base_uri": "https://localhost:8080/"
        }
      },
      "execution_count": null,
      "outputs": [
        {
          "output_type": "execute_result",
          "data": {
            "text/plain": [
              "array([3.87225939e-04, 5.16822050e-04, 9.05556067e-02, 9.16527865e-03,\n",
              "       5.13374948e-04, 1.56646780e-05, 4.76488865e-04, 1.35023972e-03,\n",
              "       5.47014699e-02, 3.64887250e-04, 1.69742697e-03, 1.70632321e-04,\n",
              "       2.21335818e-05, 1.23225073e-05, 1.86217017e-05, 3.95316734e-05,\n",
              "       3.03296462e-05, 2.87377882e-05, 2.36809614e-04, 5.87422454e-04,\n",
              "       2.56110926e-04, 1.80764129e-03, 3.05727438e-05, 5.36265217e-03,\n",
              "       9.28976305e-06, 8.77836907e-01, 5.87394204e-04, 8.30965962e-01,\n",
              "       1.23225073e-05, 6.10948783e-01, 6.31731531e-03, 2.90673861e-05,\n",
              "       4.56779649e-04, 1.97111992e-03, 9.95830568e-05, 9.51819022e-01,\n",
              "       1.23225073e-05, 9.64820598e-04, 1.29257663e-05, 9.48499556e-03,\n",
              "       4.15144752e-05, 3.21704303e-01, 2.75013861e-05, 5.15867583e-01,\n",
              "       8.63797261e-04, 6.50664694e-02, 6.15852540e-05, 6.25889588e-05,\n",
              "       6.77930452e-02, 4.84023994e-05, 9.68383167e-04, 5.66471971e-04,\n",
              "       1.23225073e-05, 1.76213535e-02, 1.51538883e-02, 9.70772305e-01,\n",
              "       1.42502504e-04, 3.59393495e-03, 2.75731603e-04, 1.79647796e-03,\n",
              "       9.76040051e-01, 1.09104225e-04, 2.31003218e-05, 1.43372962e-04,\n",
              "       2.32172552e-04, 2.01266158e-03, 3.25165307e-03, 2.01477311e-04,\n",
              "       5.07695582e-04, 6.00294089e-01, 2.50821047e-05, 4.44942227e-03,\n",
              "       5.86348158e-03, 3.95138272e-05, 6.93516773e-04, 8.64073364e-03,\n",
              "       6.31275424e-04, 3.60788239e-04, 4.67712358e-01, 2.31948245e-03,\n",
              "       7.82092526e-04, 1.59150169e-05, 1.10683806e-05, 2.82932816e-04,\n",
              "       8.77197825e-03, 1.85239425e-05, 1.08756747e-03, 2.07776129e-05,\n",
              "       2.24234487e-02, 6.92421900e-01, 2.36649099e-03, 1.60339015e-01,\n",
              "       5.22975228e-03, 7.79538063e-04, 1.74049384e-03, 9.11299853e-04,\n",
              "       1.42110213e-02, 1.47529009e-04, 4.06094555e-04, 2.63620279e-04,\n",
              "       2.21052065e-03, 6.02908979e-02, 1.02708912e-03, 3.66735748e-04,\n",
              "       1.53606535e-01, 1.02570899e-02, 3.10188877e-02, 7.82163488e-02,\n",
              "       2.99077416e-05, 4.98185364e-05, 2.49422139e-05, 5.70862035e-05,\n",
              "       1.61307862e-03, 5.63250042e-04, 1.06635151e-03, 4.50439265e-03,\n",
              "       9.86136187e-01, 9.89869276e-06, 6.07689436e-03, 9.41575823e-01,\n",
              "       5.41281734e-04, 4.83323368e-01, 5.65940099e-03, 2.98673521e-04,\n",
              "       7.22767518e-04, 9.89463685e-01, 3.40915430e-01, 3.56530776e-04,\n",
              "       1.11763149e-04, 1.07529192e-04, 6.36056934e-04, 2.19323950e-05,\n",
              "       3.30616618e-01, 1.15974177e-05, 1.65080462e-04, 1.52487652e-03,\n",
              "       4.73187410e-02, 6.53424549e-03, 1.03419277e-03, 2.14233087e-04,\n",
              "       3.27691000e-04, 5.70047186e-01, 5.13846368e-05, 2.17947963e-05,\n",
              "       4.79403579e-04, 1.86866747e-02, 1.08262484e-04, 5.07169717e-02,\n",
              "       1.38261345e-05, 5.06520143e-05, 4.04637803e-05, 4.13161271e-01,\n",
              "       1.56548718e-05, 5.50617992e-03, 3.00222516e-03, 2.66855139e-05,\n",
              "       2.86821248e-04, 1.38122552e-01, 5.28721271e-05, 1.08751162e-05,\n",
              "       9.27887356e-02, 2.07680627e-05, 2.92158028e-05, 5.42019302e-04,\n",
              "       8.95731195e-03, 6.58275400e-04, 1.04546439e-04, 6.91203530e-05,\n",
              "       1.11198110e-04, 9.94600733e-05, 2.08639873e-03, 2.73838585e-03,\n",
              "       7.03585189e-05, 7.66373232e-01, 1.45599059e-01, 1.21874641e-04,\n",
              "       2.72115149e-03, 6.69352287e-04, 2.32504491e-04, 2.05003134e-03,\n",
              "       1.11633975e-03, 3.67576920e-05, 2.17761358e-05, 1.21172963e-04,\n",
              "       2.01318818e-04, 2.56745533e-03, 9.66647485e-01, 3.02167970e-05,\n",
              "       1.13905128e-03, 3.49783362e-05, 2.58686241e-03, 1.12621649e-03,\n",
              "       7.15490976e-01, 6.74931707e-02, 2.86077917e-05, 6.73768726e-04,\n",
              "       3.95202435e-02, 1.21537993e-05, 3.23210860e-04, 1.94319017e-03,\n",
              "       9.98377916e-06, 4.44524750e-04, 7.99041191e-02, 4.72813731e-03,\n",
              "       7.69849679e-01, 9.83393325e-04, 3.10958050e-05, 2.94109132e-05,\n",
              "       4.83628961e-04, 4.71084276e-04, 6.21770037e-01, 9.90446946e-01,\n",
              "       3.50972144e-04, 1.52687874e-05, 4.24150099e-02, 9.94940629e-06,\n",
              "       4.24571689e-05, 1.11996553e-04, 1.68090944e-01, 2.23293467e-05,\n",
              "       6.62213694e-04, 4.64141391e-05, 9.61392560e-06, 9.74336381e-01,\n",
              "       4.77408278e-02, 4.31143092e-04, 4.95080445e-01, 4.13391328e-04,\n",
              "       1.93914288e-05, 1.22435933e-04, 1.23225073e-05, 1.23225073e-05,\n",
              "       9.40481323e-05, 4.79779943e-03, 1.52933471e-05, 3.35191678e-04,\n",
              "       1.02349322e-02, 1.31878967e-04, 1.43183759e-05, 7.18503152e-05,\n",
              "       5.06291702e-04, 1.67897121e-03, 2.66965418e-04, 9.78966311e-01,\n",
              "       1.64323004e-04, 3.40978170e-04, 1.39628706e-04])"
            ]
          },
          "metadata": {},
          "execution_count": 52
        }
      ]
    },
    {
      "cell_type": "code",
      "source": [],
      "metadata": {
        "id": "SxN8nAZOO7SQ"
      },
      "execution_count": null,
      "outputs": []
    },
    {
      "cell_type": "code",
      "source": [
        "import seaborn as sns\n",
        "from sklearn.metrics import roc_curve, auc,roc_auc_score\n",
        "from sklearn.metrics import confusion_matrix\n",
        "\n",
        "auc_score = roc_auc_score(y_test, y_pred_proba)\n",
        "\n",
        "\n",
        "\n",
        "conf_matrix = confusion_matrix(y_test, y_pred)\n",
        "# Plot the confusion matrix as a heatmap\n",
        "plt.figure(figsize=(6, 4))\n",
        "sns.heatmap(conf_matrix, annot=True, fmt='d', cmap='Blues', cbar=False)\n",
        "plt.xlabel('Predicted Labels')\n",
        "plt.ylabel('True Labels')\n",
        "plt.title('Confusion Matrix')\n",
        "plt.show()\n",
        "\n",
        "\n",
        "TP, TN, FP, FN = conf_matrix.ravel()\n",
        "accuracy = (TP + TN) / (TP + TN + FP + FN)\n",
        "precision = TP / (TP + FP)\n",
        "recall = TP / (TP + FN)\n",
        "f1_score = 2 * (precision * recall) / (precision + recall)\n",
        "\n",
        "print(\"AUC Score:\", auc_score)\n",
        "print(\"Accuracy:\", accuracy)\n",
        "print(\"Precision:\", precision)\n",
        "print(\"Recall:\", recall)\n",
        "print(\"F1 Score:\", f1_score)"
      ],
      "metadata": {
        "colab": {
          "base_uri": "https://localhost:8080/",
          "height": 499
        },
        "id": "KuxOaTzbNrhR",
        "outputId": "1625e208-2807-4d82-aab2-a0d5f8fb8bb9"
      },
      "execution_count": null,
      "outputs": [
        {
          "output_type": "display_data",
          "data": {
            "text/plain": [
              "<Figure size 600x400 with 1 Axes>"
            ],
            "image/png": "[encoded data removed]"
          },
          "metadata": {}
        },
        {
          "output_type": "stream",
          "name": "stdout",
          "text": [
            "AUC Score: 0.9077619213365821\n",
            "Accuracy: 0.8947368421052632\n",
            "Precision: 0.9380530973451328\n",
            "Recall: 0.9464285714285714\n",
            "F1 Score: 0.9422222222222223\n"
          ]
        }
      ]
    },
    {
      "cell_type": "code",
      "source": [
        "from sklearn.experimental import enable_halving_search_cv\n",
        "from sklearn import metrics\n",
        "from sklearn.linear_model import LogisticRegression\n",
        "from sklearn.model_selection import cross_validate, train_test_split, cross_val_score, GridSearchCV, RandomizedSearchCV, HalvingRandomSearchCV\n",
        "from sklearn.metrics import recall_score, precision_score, confusion_matrix, accuracy_score, roc_auc_score, mean_squared_error, r2_score, balanced_accuracy_score, classification_report, ConfusionMatrixDisplay, precision_recall_curve, f1_score, auc\n",
        "from sklearn.tree import DecisionTreeRegressor, plot_tree, DecisionTreeClassifier\n",
        "from sklearn.pipeline import Pipeline, make_pipeline\n",
        "from sklearn.impute import SimpleImputer\n",
        "from sklearn import set_config\n",
        "from sklearn.preprocessing import OrdinalEncoder, OneHotEncoder, StandardScaler, scale, LabelEncoder\n",
        "from sklearn.compose import ColumnTransformer\n",
        "from sklearn.ensemble import RandomForestClassifier, StackingClassifier\n",
        "from sklearn.svm import SVC, LinearSVC\n",
        "from sklearn.feature_selection import SelectFromModel\n",
        "from xgboost import XGBClassifier\n"
      ],
      "metadata": {
        "id": "SYS9utI8MZAx"
      },
      "execution_count": null,
      "outputs": []
    },
    {
      "cell_type": "code",
      "source": [
        "from lightgbm import LGBMClassifier\n",
        "accuracy= []\n",
        "recall =[]\n",
        "roc_auc= []\n",
        "precision = []\n",
        "\n",
        "\n",
        "lgbmc_5=LGBMClassifier(random_state=0,scale_pos_weight=3)\n",
        "\n",
        "lgbmc_5.fit(X_train_transformed, y_train)\n",
        "           #,categorical_feature = 'auto',eval_set=(X_test, y_test),feature_name='auto')\n",
        "\n",
        "y_pred = lgbmc_5.predict(X_test_transformed)\n",
        "\n",
        "accuracy.append(round(accuracy_score(y_test, y_pred),4))\n",
        "recall.append(round(recall_score(y_test, y_pred),4))\n",
        "roc_auc.append(round(roc_auc_score(y_test, y_pred),4))\n",
        "precision.append(round(precision_score(y_test, y_pred),4))\n",
        "\n",
        "model_names = ['LightGBM_adjusted_weight_5']\n",
        "result_df8 = pd.DataFrame({'Accuracy':accuracy,'Recall':recall, 'Roc_Auc':roc_auc, 'Precision':precision}, index=model_names)\n",
        "result_df8"
      ],
      "metadata": {
        "colab": {
          "base_uri": "https://localhost:8080/",
          "height": 438
        },
        "id": "HQGHXAXfMFEX",
        "outputId": "f65d1c3d-4147-4046-c7e1-3797aeb07c84"
      },
      "execution_count": null,
      "outputs": [
        {
          "output_type": "stream",
          "name": "stdout",
          "text": [
            "[LightGBM] [Info] Number of positive: 91, number of negative: 894\n",
            "[LightGBM] [Warning] Auto-choosing row-wise multi-threading, the overhead of testing was 0.000516 seconds.\n",
            "You can set `force_row_wise=true` to remove the overhead.\n",
            "And if memory is not enough, you can set `force_col_wise=true`.\n",
            "[LightGBM] [Info] Total Bins 4786\n",
            "[LightGBM] [Info] Number of data points in the train set: 985, number of used features: 43\n",
            "[LightGBM] [Info] [binary:BoostFromScore]: pavg=0.092386 -> initscore=-2.284846\n",
            "[LightGBM] [Info] Start training from score -2.284846\n",
            "[LightGBM] [Warning] No further splits with positive gain, best gain: -inf\n",
            "[LightGBM] [Warning] No further splits with positive gain, best gain: -inf\n",
            "[LightGBM] [Warning] No further splits with positive gain, best gain: -inf\n",
            "[LightGBM] [Warning] No further splits with positive gain, best gain: -inf\n",
            "[LightGBM] [Warning] No further splits with positive gain, best gain: -inf\n",
            "[LightGBM] [Warning] No further splits with positive gain, best gain: -inf\n",
            "[LightGBM] [Warning] No further splits with positive gain, best gain: -inf\n",
            "[LightGBM] [Warning] No further splits with positive gain, best gain: -inf\n",
            "[LightGBM] [Warning] No further splits with positive gain, best gain: -inf\n",
            "[LightGBM] [Warning] No further splits with positive gain, best gain: -inf\n",
            "[LightGBM] [Warning] No further splits with positive gain, best gain: -inf\n",
            "[LightGBM] [Warning] No further splits with positive gain, best gain: -inf\n"
          ]
        },
        {
          "output_type": "execute_result",
          "data": {
            "text/plain": [
              "                            Accuracy  Recall  Roc_Auc  Precision\n",
              "LightGBM_adjusted_weight_5    0.9069  0.4615   0.7104     0.5714"
            ],
            "text/html": [
              "\n",
              "  <div id=\"df-a486f59c-8f0b-418b-b1cf-28e806da50f4\" class=\"colab-df-container\">\n",
              "    <div>\n",
              "<style scoped>\n",
              "    .dataframe tbody tr th:only-of-type {\n",
              "        vertical-align: middle;\n",
              "    }\n",
              "\n",
              "    .dataframe tbody tr th {\n",
              "        vertical-align: top;\n",
              "    }\n",
              "\n",
              "    .dataframe thead th {\n",
              "        text-align: right;\n",
              "    }\n",
              "</style>\n",
              "<table border=\"1\" class=\"dataframe\">\n",
              "  <thead>\n",
              "    <tr style=\"text-align: right;\">\n",
              "      <th></th>\n",
              "      <th>Accuracy</th>\n",
              "      <th>Recall</th>\n",
              "      <th>Roc_Auc</th>\n",
              "      <th>Precision</th>\n",
              "    </tr>\n",
              "  </thead>\n",
              "  <tbody>\n",
              "    <tr>\n",
              "      <th>LightGBM_adjusted_weight_5</th>\n",
              "      <td>0.9069</td>\n",
              "      <td>0.4615</td>\n",
              "      <td>0.7104</td>\n",
              "      <td>0.5714</td>\n",
              "    </tr>\n",
              "  </tbody>\n",
              "</table>\n",
              "</div>\n",
              "    <div class=\"colab-df-buttons\">\n",
              "\n",
              "  <div class=\"colab-df-container\">\n",
              "    <button class=\"colab-df-convert\" onclick=\"convertToInteractive('df-a486f59c-8f0b-418b-b1cf-28e806da50f4')\"\n",
              "            title=\"Convert this dataframe to an interactive table.\"\n",
              "            style=\"display:none;\">\n",
              "\n",
              "  <svg xmlns=\"http://www.w3.org/2000/svg\" height=\"24px\" viewBox=\"0 -960 960 960\">\n",
              "    <path d=\"M120-120v-720h720v720H120Zm60-500h600v-160H180v160Zm220 220h160v-160H400v160Zm0 220h160v-160H400v160ZM180-400h160v-160H180v160Zm440 0h160v-160H620v160ZM180-180h160v-160H180v160Zm440 0h160v-160H620v160Z\"/>\n",
              "  </svg>\n",
              "    </button>\n",
              "\n",
              "  <style>\n",
              "    .colab-df-container {\n",
              "      display:flex;\n",
              "      gap: 12px;\n",
              "    }\n",
              "\n",
              "    .colab-df-convert {\n",
              "      background-color: #E8F0FE;\n",
              "      border: none;\n",
              "      border-radius: 50%;\n",
              "      cursor: pointer;\n",
              "      display: none;\n",
              "      fill: #1967D2;\n",
              "      height: 32px;\n",
              "      padding: 0 0 0 0;\n",
              "      width: 32px;\n",
              "    }\n",
              "\n",
              "    .colab-df-convert:hover {\n",
              "      background-color: #E2EBFA;\n",
              "      box-shadow: 0px 1px 2px rgba(60, 64, 67, 0.3), 0px 1px 3px 1px rgba(60, 64, 67, 0.15);\n",
              "      fill: #174EA6;\n",
              "    }\n",
              "\n",
              "    .colab-df-buttons div {\n",
              "      margin-bottom: 4px;\n",
              "    }\n",
              "\n",
              "    [theme=dark] .colab-df-convert {\n",
              "      background-color: #3B4455;\n",
              "      fill: #D2E3FC;\n",
              "    }\n",
              "\n",
              "    [theme=dark] .colab-df-convert:hover {\n",
              "      background-color: #434B5C;\n",
              "      box-shadow: 0px 1px 3px 1px rgba(0, 0, 0, 0.15);\n",
              "      filter: drop-shadow(0px 1px 2px rgba(0, 0, 0, 0.3));\n",
              "      fill: #FFFFFF;\n",
              "    }\n",
              "  </style>\n",
              "\n",
              "    <script>\n",
              "      const buttonEl =\n",
              "        document.querySelector('#df-a486f59c-8f0b-418b-b1cf-28e806da50f4 button.colab-df-convert');\n",
              "      buttonEl.style.display =\n",
              "        google.colab.kernel.accessAllowed ? 'block' : 'none';\n",
              "\n",
              "      async function convertToInteractive(key) {\n",
              "        const element = document.querySelector('#df-a486f59c-8f0b-418b-b1cf-28e806da50f4');\n",
              "        const dataTable =\n",
              "          await google.colab.kernel.invokeFunction('convertToInteractive',\n",
              "                                                    [key], {});\n",
              "        if (!dataTable) return;\n",
              "\n",
              "        const docLinkHtml = 'Like what you see? Visit the ' +\n",
              "          '<a target=\"_blank\" href=https://colab.research.google.com/notebooks/data_table.ipynb>data table notebook</a>'\n",
              "          + ' to learn more about interactive tables.';\n",
              "        element.innerHTML = '';\n",
              "        dataTable['output_type'] = 'display_data';\n",
              "        await google.colab.output.renderOutput(dataTable, element);\n",
              "        const docLink = document.createElement('div');\n",
              "        docLink.innerHTML = docLinkHtml;\n",
              "        element.appendChild(docLink);\n",
              "      }\n",
              "    </script>\n",
              "  </div>\n",
              "\n",
              "    </div>\n",
              "  </div>\n"
            ]
          },
          "metadata": {},
          "execution_count": 44
        }
      ]
    },
    {
      "cell_type": "code",
      "source": [
        "import seaborn as sns\n",
        "from sklearn.metrics import roc_curve, auc,roc_auc_score\n",
        "from sklearn.metrics import confusion_matrix\n",
        "\n",
        "auc_score = roc_auc_score(y_test, y_pred_proba)\n",
        "\n",
        "\n",
        "\n",
        "conf_matrix = confusion_matrix(y_test, y_pred)\n",
        "# Plot the confusion matrix as a heatmap\n",
        "plt.figure(figsize=(6, 4))\n",
        "sns.heatmap(conf_matrix, annot=True, fmt='d', cmap='Blues', cbar=False)\n",
        "plt.xlabel('Predicted Labels')\n",
        "plt.ylabel('True Labels')\n",
        "plt.title('Confusion Matrix')\n",
        "plt.show()\n",
        "\n",
        "\n",
        "TP, TN, FP, FN = conf_matrix.ravel()\n",
        "accuracy = (TP + TN) / (TP + TN + FP + FN)\n",
        "precision = TP / (TP + FP)\n",
        "recall = TP / (TP + FN)\n",
        "f1_score = 2 * (precision * recall) / (precision + recall)\n",
        "\n",
        "print(\"AUC Score:\", auc_score)\n",
        "print(\"Accuracy:\", accuracy)\n",
        "print(\"Precision:\", precision)\n",
        "print(\"Recall:\", recall)\n",
        "print(\"F1 Score:\", f1_score)\n"
      ],
      "metadata": {
        "colab": {
          "base_uri": "https://localhost:8080/",
          "height": 499
        },
        "id": "Wq14XcOVL5Pv",
        "outputId": "08b5f80a-ab57-446f-e7c9-26e77211a35c"
      },
      "execution_count": null,
      "outputs": [
        {
          "output_type": "display_data",
          "data": {
            "text/plain": [
              "<Figure size 600x400 with 1 Axes>"
            ],
            "image/png": "[encoded data removed]"
          },
          "metadata": {}
        },
        {
          "output_type": "stream",
          "name": "stdout",
          "text": [
            "AUC Score: 0.908806126000696\n",
            "Accuracy: 0.8947368421052632\n",
            "Precision: 0.9380530973451328\n",
            "Recall: 0.9464285714285714\n",
            "F1 Score: 0.9422222222222223\n"
          ]
        }
      ]
    },
    {
      "cell_type": "code",
      "source": [],
      "metadata": {
        "id": "3UQOplUEN2pJ"
      },
      "execution_count": null,
      "outputs": []
    },
    {
      "cell_type": "code",
      "source": [],
      "metadata": {
        "id": "pZiuteCPN2wK"
      },
      "execution_count": null,
      "outputs": []
    },
    {
      "cell_type": "code",
      "source": [],
      "metadata": {
        "id": "VynxLEuMN2y5"
      },
      "execution_count": null,
      "outputs": []
    },
    {
      "cell_type": "markdown",
      "source": [
        "#### LogisticRegression"
      ],
      "metadata": {
        "id": "XMtWsgkugKEw"
      }
    },
    {
      "cell_type": "code",
      "source": [
        "from sklearn.linear_model import LogisticRegression\n",
        "logistic_model = LogisticRegression(random_state=42)\n",
        "logistic_model.fit(X_train_transformed, y_train)"
      ],
      "metadata": {
        "colab": {
          "base_uri": "https://localhost:8080/",
          "height": 75
        },
        "id": "r1yCEgC3YbEb",
        "outputId": "c7aac80d-865e-4e67-d872-7ea938a9b85d"
      },
      "execution_count": null,
      "outputs": [
        {
          "output_type": "execute_result",
          "data": {
            "text/plain": [
              "LogisticRegression(random_state=42)"
            ],
            "text/html": [
              "<style>#sk-container-id-1 {color: black;background-color: white;}#sk-container-id-1 pre{padding: 0;}#sk-container-id-1 div.sk-toggleable {background-color: white;}#sk-container-id-1 label.sk-toggleable__label {cursor: pointer;display: block;width: 100%;margin-bottom: 0;padding: 0.3em;box-sizing: border-box;text-align: center;}#sk-container-id-1 label.sk-toggleable__label-arrow:before {content: \"▸\";float: left;margin-right: 0.25em;color: #696969;}#sk-container-id-1 label.sk-toggleable__label-arrow:hover:before {color: black;}#sk-container-id-1 div.sk-estimator:hover label.sk-toggleable__label-arrow:before {color: black;}#sk-container-id-1 div.sk-toggleable__content {max-height: 0;max-width: 0;overflow: hidden;text-align: left;background-color: #f0f8ff;}#sk-container-id-1 div.sk-toggleable__content pre {margin: 0.2em;color: black;border-radius: 0.25em;background-color: #f0f8ff;}#sk-container-id-1 input.sk-toggleable__control:checked~div.sk-toggleable__content {max-height: 200px;max-width: 100%;overflow: auto;}#sk-container-id-1 input.sk-toggleable__control:checked~label.sk-toggleable__label-arrow:before {content: \"▾\";}#sk-container-id-1 div.sk-estimator input.sk-toggleable__control:checked~label.sk-toggleable__label {background-color: #d4ebff;}#sk-container-id-1 div.sk-label input.sk-toggleable__control:checked~label.sk-toggleable__label {background-color: #d4ebff;}#sk-container-id-1 input.sk-hidden--visually {border: 0;clip: rect(1px 1px 1px 1px);clip: rect(1px, 1px, 1px, 1px);height: 1px;margin: -1px;overflow: hidden;padding: 0;position: absolute;width: 1px;}#sk-container-id-1 div.sk-estimator {font-family: monospace;background-color: #f0f8ff;border: 1px dotted black;border-radius: 0.25em;box-sizing: border-box;margin-bottom: 0.5em;}#sk-container-id-1 div.sk-estimator:hover {background-color: #d4ebff;}#sk-container-id-1 div.sk-parallel-item::after {content: \"\";width: 100%;border-bottom: 1px solid gray;flex-grow: 1;}#sk-container-id-1 div.sk-label:hover label.sk-toggleable__label {background-color: #d4ebff;}#sk-container-id-1 div.sk-serial::before {content: \"\";position: absolute;border-left: 1px solid gray;box-sizing: border-box;top: 0;bottom: 0;left: 50%;z-index: 0;}#sk-container-id-1 div.sk-serial {display: flex;flex-direction: column;align-items: center;background-color: white;padding-right: 0.2em;padding-left: 0.2em;position: relative;}#sk-container-id-1 div.sk-item {position: relative;z-index: 1;}#sk-container-id-1 div.sk-parallel {display: flex;align-items: stretch;justify-content: center;background-color: white;position: relative;}#sk-container-id-1 div.sk-item::before, #sk-container-id-1 div.sk-parallel-item::before {content: \"\";position: absolute;border-left: 1px solid gray;box-sizing: border-box;top: 0;bottom: 0;left: 50%;z-index: -1;}#sk-container-id-1 div.sk-parallel-item {display: flex;flex-direction: column;z-index: 1;position: relative;background-color: white;}#sk-container-id-1 div.sk-parallel-item:first-child::after {align-self: flex-end;width: 50%;}#sk-container-id-1 div.sk-parallel-item:last-child::after {align-self: flex-start;width: 50%;}#sk-container-id-1 div.sk-parallel-item:only-child::after {width: 0;}#sk-container-id-1 div.sk-dashed-wrapped {border: 1px dashed gray;margin: 0 0.4em 0.5em 0.4em;box-sizing: border-box;padding-bottom: 0.4em;background-color: white;}#sk-container-id-1 div.sk-label label {font-family: monospace;font-weight: bold;display: inline-block;line-height: 1.2em;}#sk-container-id-1 div.sk-label-container {text-align: center;}#sk-container-id-1 div.sk-container {/* jupyter's `normalize.less` sets `[hidden] { display: none; }` but bootstrap.min.css set `[hidden] { display: none !important; }` so we also need the `!important` here to be able to override the default hidden behavior on the sphinx rendered scikit-learn.org. See: https://github.com/scikit-learn/scikit-learn/issues/21755 */display: inline-block !important;position: relative;}#sk-container-id-1 div.sk-text-repr-fallback {display: none;}</style><div id=\"sk-container-id-1\" class=\"sk-top-container\"><div class=\"sk-text-repr-fallback\"><pre>LogisticRegression(random_state=42)</pre><b>In a Jupyter environment, please rerun this cell to show the HTML representation or trust the notebook. <br />On GitHub, the HTML representation is unable to render, please try loading this page with nbviewer.org.</b></div><div class=\"sk-container\" hidden><div class=\"sk-item\"><div class=\"sk-estimator sk-toggleable\"><input class=\"sk-toggleable__control sk-hidden--visually\" id=\"sk-estimator-id-1\" type=\"checkbox\" checked><label for=\"sk-estimator-id-1\" class=\"sk-toggleable__label sk-toggleable__label-arrow\">LogisticRegression</label><div class=\"sk-toggleable__content\"><pre>LogisticRegression(random_state=42)</pre></div></div></div></div></div>"
            ]
          },
          "metadata": {},
          "execution_count": 35
        }
      ]
    },
    {
      "cell_type": "code",
      "source": [
        "y_pred = logistic_model.predict(X_test_transformed)\n",
        "y_pred_proba = logistic_model.predict_proba(X_test_transformed)[:, 1]"
      ],
      "metadata": {
        "id": "T73iDaIuezTO"
      },
      "execution_count": null,
      "outputs": []
    },
    {
      "cell_type": "code",
      "source": [
        "import seaborn as sns\n",
        "from sklearn.metrics import roc_curve, auc,roc_auc_score\n",
        "from sklearn.metrics import confusion_matrix\n",
        "\n",
        "auc_score = roc_auc_score(y_test, y_pred_proba)\n",
        "\n",
        "\n",
        "\n",
        "conf_matrix = confusion_matrix(y_test, y_pred)\n",
        "# Plot the confusion matrix as a heatmap\n",
        "plt.figure(figsize=(6, 4))\n",
        "sns.heatmap(conf_matrix, annot=True, fmt='d', cmap='Blues', cbar=False)\n",
        "plt.xlabel('Predicted Labels')\n",
        "plt.ylabel('True Labels')\n",
        "plt.title('Confusion Matrix')\n",
        "plt.show()\n",
        "\n",
        "\n",
        "TP, TN, FP, FN = conf_matrix.ravel()\n",
        "accuracy = (TP + TN) / (TP + TN + FP + FN)\n",
        "precision = TP / (TP + FP)\n",
        "recall = TP / (TP + FN)\n",
        "f1_score = 2 * (precision * recall) / (precision + recall)\n",
        "\n",
        "print(\"AUC Score:\", auc_score)\n",
        "print(\"Accuracy:\", accuracy)\n",
        "print(\"Precision:\", precision)\n",
        "print(\"Recall:\", recall)\n",
        "print(\"F1 Score:\", f1_score)\n"
      ],
      "metadata": {
        "colab": {
          "base_uri": "https://localhost:8080/",
          "height": 499
        },
        "id": "6L-lhSqA5G4o",
        "outputId": "964a0ae1-39ca-4eb4-c9ac-e195a90ddf7e"
      },
      "execution_count": null,
      "outputs": [
        {
          "output_type": "display_data",
          "data": {
            "text/plain": [
              "<Figure size 600x400 with 1 Axes>"
            ],
            "image/png": "[encoded data removed]"
          },
          "metadata": {}
        },
        {
          "output_type": "stream",
          "name": "stdout",
          "text": [
            "AUC Score: 0.7553080403759136\n",
            "Accuracy: 0.8947368421052632\n",
            "Precision: 0.9194915254237288\n",
            "Recall: 0.96875\n",
            "F1 Score: 0.9434782608695652\n"
          ]
        }
      ]
    },
    {
      "cell_type": "markdown",
      "source": [
        "#### XGBClassifier\n"
      ],
      "metadata": {
        "id": "pgoLMzYrgOYD"
      }
    },
    {
      "cell_type": "code",
      "source": [
        "# !pip install --upgrade scikit-learn"
      ],
      "metadata": {
        "id": "eQtjhwexhVOv"
      },
      "execution_count": null,
      "outputs": []
    },
    {
      "cell_type": "code",
      "source": [
        "import xgboost as xgb\n",
        "from sklearn.metrics import roc_curve, auc"
      ],
      "metadata": {
        "id": "CjNpQIFshNMD"
      },
      "execution_count": null,
      "outputs": []
    },
    {
      "cell_type": "code",
      "source": [
        "xgb_model = xgb.XGBClassifier(random_state=42)\n",
        "xgb_model.fit(X_train_transformed, y_train)"
      ],
      "metadata": {
        "colab": {
          "base_uri": "https://localhost:8080/",
          "height": 248
        },
        "id": "HiNSQHvOgepJ",
        "outputId": "e4c084fd-639c-44c1-82a7-556b935b22f0"
      },
      "execution_count": null,
      "outputs": [
        {
          "output_type": "execute_result",
          "data": {
            "text/plain": [
              "XGBClassifier(base_score=None, booster=None, callbacks=None,\n",
              "              colsample_bylevel=None, colsample_bynode=None,\n",
              "              colsample_bytree=None, early_stopping_rounds=None,\n",
              "              enable_categorical=False, eval_metric=None, feature_types=None,\n",
              "              gamma=None, gpu_id=None, grow_policy=None, importance_type=None,\n",
              "              interaction_constraints=None, learning_rate=None, max_bin=None,\n",
              "              max_cat_threshold=None, max_cat_to_onehot=None,\n",
              "              max_delta_step=None, max_depth=None, max_leaves=None,\n",
              "              min_child_weight=None, missing=nan, monotone_constraints=None,\n",
              "              n_estimators=100, n_jobs=None, num_parallel_tree=None,\n",
              "              predictor=None, random_state=42, ...)"
            ],
            "text/html": [
              "<style>#sk-container-id-2 {color: black;background-color: white;}#sk-container-id-2 pre{padding: 0;}#sk-container-id-2 div.sk-toggleable {background-color: white;}#sk-container-id-2 label.sk-toggleable__label {cursor: pointer;display: block;width: 100%;margin-bottom: 0;padding: 0.3em;box-sizing: border-box;text-align: center;}#sk-container-id-2 label.sk-toggleable__label-arrow:before {content: \"▸\";float: left;margin-right: 0.25em;color: #696969;}#sk-container-id-2 label.sk-toggleable__label-arrow:hover:before {color: black;}#sk-container-id-2 div.sk-estimator:hover label.sk-toggleable__label-arrow:before {color: black;}#sk-container-id-2 div.sk-toggleable__content {max-height: 0;max-width: 0;overflow: hidden;text-align: left;background-color: #f0f8ff;}#sk-container-id-2 div.sk-toggleable__content pre {margin: 0.2em;color: black;border-radius: 0.25em;background-color: #f0f8ff;}#sk-container-id-2 input.sk-toggleable__control:checked~div.sk-toggleable__content {max-height: 200px;max-width: 100%;overflow: auto;}#sk-container-id-2 input.sk-toggleable__control:checked~label.sk-toggleable__label-arrow:before {content: \"▾\";}#sk-container-id-2 div.sk-estimator input.sk-toggleable__control:checked~label.sk-toggleable__label {background-color: #d4ebff;}#sk-container-id-2 div.sk-label input.sk-toggleable__control:checked~label.sk-toggleable__label {background-color: #d4ebff;}#sk-container-id-2 input.sk-hidden--visually {border: 0;clip: rect(1px 1px 1px 1px);clip: rect(1px, 1px, 1px, 1px);height: 1px;margin: -1px;overflow: hidden;padding: 0;position: absolute;width: 1px;}#sk-container-id-2 div.sk-estimator {font-family: monospace;background-color: #f0f8ff;border: 1px dotted black;border-radius: 0.25em;box-sizing: border-box;margin-bottom: 0.5em;}#sk-container-id-2 div.sk-estimator:hover {background-color: #d4ebff;}#sk-container-id-2 div.sk-parallel-item::after {content: \"\";width: 100%;border-bottom: 1px solid gray;flex-grow: 1;}#sk-container-id-2 div.sk-label:hover label.sk-toggleable__label {background-color: #d4ebff;}#sk-container-id-2 div.sk-serial::before {content: \"\";position: absolute;border-left: 1px solid gray;box-sizing: border-box;top: 0;bottom: 0;left: 50%;z-index: 0;}#sk-container-id-2 div.sk-serial {display: flex;flex-direction: column;align-items: center;background-color: white;padding-right: 0.2em;padding-left: 0.2em;position: relative;}#sk-container-id-2 div.sk-item {position: relative;z-index: 1;}#sk-container-id-2 div.sk-parallel {display: flex;align-items: stretch;justify-content: center;background-color: white;position: relative;}#sk-container-id-2 div.sk-item::before, #sk-container-id-2 div.sk-parallel-item::before {content: \"\";position: absolute;border-left: 1px solid gray;box-sizing: border-box;top: 0;bottom: 0;left: 50%;z-index: -1;}#sk-container-id-2 div.sk-parallel-item {display: flex;flex-direction: column;z-index: 1;position: relative;background-color: white;}#sk-container-id-2 div.sk-parallel-item:first-child::after {align-self: flex-end;width: 50%;}#sk-container-id-2 div.sk-parallel-item:last-child::after {align-self: flex-start;width: 50%;}#sk-container-id-2 div.sk-parallel-item:only-child::after {width: 0;}#sk-container-id-2 div.sk-dashed-wrapped {border: 1px dashed gray;margin: 0 0.4em 0.5em 0.4em;box-sizing: border-box;padding-bottom: 0.4em;background-color: white;}#sk-container-id-2 div.sk-label label {font-family: monospace;font-weight: bold;display: inline-block;line-height: 1.2em;}#sk-container-id-2 div.sk-label-container {text-align: center;}#sk-container-id-2 div.sk-container {/* jupyter's `normalize.less` sets `[hidden] { display: none; }` but bootstrap.min.css set `[hidden] { display: none !important; }` so we also need the `!important` here to be able to override the default hidden behavior on the sphinx rendered scikit-learn.org. See: https://github.com/scikit-learn/scikit-learn/issues/21755 */display: inline-block !important;position: relative;}#sk-container-id-2 div.sk-text-repr-fallback {display: none;}</style><div id=\"sk-container-id-2\" class=\"sk-top-container\"><div class=\"sk-text-repr-fallback\"><pre>XGBClassifier(base_score=None, booster=None, callbacks=None,\n",
              "              colsample_bylevel=None, colsample_bynode=None,\n",
              "              colsample_bytree=None, early_stopping_rounds=None,\n",
              "              enable_categorical=False, eval_metric=None, feature_types=None,\n",
              "              gamma=None, gpu_id=None, grow_policy=None, importance_type=None,\n",
              "              interaction_constraints=None, learning_rate=None, max_bin=None,\n",
              "              max_cat_threshold=None, max_cat_to_onehot=None,\n",
              "              max_delta_step=None, max_depth=None, max_leaves=None,\n",
              "              min_child_weight=None, missing=nan, monotone_constraints=None,\n",
              "              n_estimators=100, n_jobs=None, num_parallel_tree=None,\n",
              "              predictor=None, random_state=42, ...)</pre><b>In a Jupyter environment, please rerun this cell to show the HTML representation or trust the notebook. <br />On GitHub, the HTML representation is unable to render, please try loading this page with nbviewer.org.</b></div><div class=\"sk-container\" hidden><div class=\"sk-item\"><div class=\"sk-estimator sk-toggleable\"><input class=\"sk-toggleable__control sk-hidden--visually\" id=\"sk-estimator-id-2\" type=\"checkbox\" checked><label for=\"sk-estimator-id-2\" class=\"sk-toggleable__label sk-toggleable__label-arrow\">XGBClassifier</label><div class=\"sk-toggleable__content\"><pre>XGBClassifier(base_score=None, booster=None, callbacks=None,\n",
              "              colsample_bylevel=None, colsample_bynode=None,\n",
              "              colsample_bytree=None, early_stopping_rounds=None,\n",
              "              enable_categorical=False, eval_metric=None, feature_types=None,\n",
              "              gamma=None, gpu_id=None, grow_policy=None, importance_type=None,\n",
              "              interaction_constraints=None, learning_rate=None, max_bin=None,\n",
              "              max_cat_threshold=None, max_cat_to_onehot=None,\n",
              "              max_delta_step=None, max_depth=None, max_leaves=None,\n",
              "              min_child_weight=None, missing=nan, monotone_constraints=None,\n",
              "              n_estimators=100, n_jobs=None, num_parallel_tree=None,\n",
              "              predictor=None, random_state=42, ...)</pre></div></div></div></div></div>"
            ]
          },
          "metadata": {},
          "execution_count": 40
        }
      ]
    },
    {
      "cell_type": "code",
      "source": [
        "y_pred = xgb_model.predict(X_test_transformed)\n",
        "y_pred_proba = xgb_model.predict_proba(X_test_transformed)[:, 1]"
      ],
      "metadata": {
        "id": "0KZbsdfAgetM"
      },
      "execution_count": null,
      "outputs": []
    },
    {
      "cell_type": "code",
      "source": [
        "import seaborn as sns\n",
        "from sklearn.metrics import confusion_matrix\n",
        "\n",
        "auc_score = roc_auc_score(y_test, y_pred_proba)\n",
        "\n",
        "conf_matrix = confusion_matrix(y_test, y_pred)\n",
        "# Plot the confusion matrix as a heatmap\n",
        "plt.figure(figsize=(6, 4))\n",
        "sns.heatmap(conf_matrix, annot=True, fmt='d', cmap='Blues', cbar=False)\n",
        "plt.xlabel('Predicted Labels')\n",
        "plt.ylabel('True Labels')\n",
        "plt.title('Confusion Matrix')\n",
        "plt.show()\n",
        "\n",
        "\n",
        "TP, TN, FP, FN = conf_matrix.ravel()\n",
        "accuracy = (TP + TN) / (TP + TN + FP + FN)\n",
        "precision = TP / (TP + FP)\n",
        "recall = TP / (TP + FN)\n",
        "f1_score = 2 * (precision * recall) / (precision + recall)\n",
        "\n",
        "print(\"AUC Score:\", auc_score)\n",
        "print(\"Accuracy:\", accuracy)\n",
        "print(\"Precision:\", precision)\n",
        "print(\"Recall:\", recall)\n",
        "print(\"F1 Score:\", f1_score)\n"
      ],
      "metadata": {
        "colab": {
          "base_uri": "https://localhost:8080/",
          "height": 499
        },
        "id": "K_PdEDfgic0m",
        "outputId": "78b0af07-cef5-42ec-f3eb-f5f95a1275ca"
      },
      "execution_count": null,
      "outputs": [
        {
          "output_type": "display_data",
          "data": {
            "text/plain": [
              "<Figure size 600x400 with 1 Axes>"
            ],
            "image/png": "[encoded data removed]"
          },
          "metadata": {}
        },
        {
          "output_type": "stream",
          "name": "stdout",
          "text": [
            "AUC Score: 0.911242603550296\n",
            "Accuracy: 0.8947368421052632\n",
            "Precision: 0.9427312775330396\n",
            "Recall: 0.9427312775330396\n",
            "F1 Score: 0.9427312775330396\n"
          ]
        }
      ]
    },
    {
      "cell_type": "code",
      "source": [
        "# pip install sha"
      ],
      "metadata": {
        "id": "VwacKVGde3rO"
      },
      "execution_count": null,
      "outputs": []
    },
    {
      "cell_type": "code",
      "source": [
        "# import shap"
      ],
      "metadata": {
        "id": "BuE2B9SGR396"
      },
      "execution_count": null,
      "outputs": []
    },
    {
      "cell_type": "code",
      "source": [
        "# feature_importance = xgb_model.feature_importances_\n",
        "\n",
        "# explainer = shap.Explainer(xgb_model)\n",
        "# shap_values = explainer.shap_values(X_test_transformed)\n",
        "\n",
        "# top_n_features = 10\n",
        "\n",
        "# # Plot feature importance for the top N features\n",
        "# sorted_idx = (-feature_importance).argsort()[:top_n_features]\n",
        "# top_feature_importance = feature_importance[sorted_idx]\n",
        "# top_feature_names = X_train.columns[sorted_idx]\n",
        "\n",
        "# plt.figure(figsize=(12, 6))\n",
        "# plt.barh(range(len(top_feature_importance)), top_feature_importance, align='center')\n",
        "# plt.yticks(range(len(top_feature_importance)), top_feature_names, fontsize=12)\n",
        "# plt.xlabel('Feature Importance', fontsize=14)\n",
        "# plt.title('Top {} XGBoost Feature Importance'.format(top_n_features), fontsize=16)\n",
        "# plt.show()\n",
        "\n",
        "\n",
        "\n",
        "# # Plot SHAP summary plot for the top N features\n",
        "# shap.summary_plot(shap_values, X_test_transformed, feature_names=X_train.columns, plot_type='bar', max_display=top_n_features)"
      ],
      "metadata": {
        "id": "9y1qWCmBR7e6"
      },
      "execution_count": null,
      "outputs": []
    },
    {
      "cell_type": "markdown",
      "source": [],
      "metadata": {
        "id": "xaTSyZY30EDA"
      }
    },
    {
      "cell_type": "markdown",
      "source": [
        "## Fianl Training"
      ],
      "metadata": {
        "id": "jftBisNtEPsD"
      }
    },
    {
      "cell_type": "markdown",
      "source": [
        "###  Modeling"
      ],
      "metadata": {
        "id": "HbEQ4HkAGcbN"
      }
    },
    {
      "cell_type": "markdown",
      "source": [
        "#### Split train,test"
      ],
      "metadata": {
        "id": "2c6OKxcWGcbO"
      }
    },
    {
      "cell_type": "code",
      "source": [
        "from sklearn.model_selection import train_test_split"
      ],
      "metadata": {
        "id": "Ka_9l3k5GcbO"
      },
      "execution_count": null,
      "outputs": []
    },
    {
      "cell_type": "code",
      "source": [
        "X = three_merged_train.drop(columns=['tgt_ade_dc_ind'])\n",
        "y = three_merged_train['tgt_ade_dc_ind']\n",
        "\n",
        "print(\"Shape of X:\", X.shape)\n",
        "print('')\n",
        "print(\"Shape of y:\", y.shape)\n"
      ],
      "metadata": {
        "colab": {
          "base_uri": "https://localhost:8080/"
        },
        "outputId": "3784834a-9882-4c15-95ba-aa10f0bd21ab",
        "id": "S8WbjcshGcbO"
      },
      "execution_count": null,
      "outputs": [
        {
          "output_type": "stream",
          "name": "stdout",
          "text": [
            "Shape of X: (1232, 31)\n",
            "\n",
            "Shape of y: (1232,)\n"
          ]
        }
      ]
    },
    {
      "cell_type": "markdown",
      "source": [
        "#### Missing value imputation"
      ],
      "metadata": {
        "id": "pPKJoQEhGcbP"
      }
    },
    {
      "cell_type": "code",
      "source": [
        "X.isna().sum()"
      ],
      "metadata": {
        "colab": {
          "base_uri": "https://localhost:8080/"
        },
        "outputId": "6beae6a8-9df9-4073-ac02-152881ba831f",
        "id": "-86sNNyhGcbP"
      },
      "execution_count": null,
      "outputs": [
        {
          "output_type": "execute_result",
          "data": {
            "text/plain": [
              "race_cd                                      68\n",
              "est_age                                      83\n",
              "sex_cd                                       83\n",
              "cms_disabled_ind                             83\n",
              "cms_low_income_ind                           83\n",
              "number_of_rx_claims                          72\n",
              "max_tot_drug_cost_accum_amt                  72\n",
              "Y_mail_order_proportion                      72\n",
              "Generic_ind_proportion                       72\n",
              "MAINT_ind_proportion                         72\n",
              "SPCL_ind_proportion                          72\n",
              "ddi_ind_claim_proportion                     72\n",
              "anticoag_ind_claim_proportion                72\n",
              "diarrhea_treat_ind_claim_proportion          72\n",
              "nausea_treat_ind_claim_proportion            72\n",
              "seizure_treat_ind_claim_proportion           72\n",
              "pay_day_supply_cnt_median                    72\n",
              "rx_cost_median                               72\n",
              "service_day_and_process_day_gap_median       72\n",
              "visit_day_and_process_day_gap               696\n",
              "primary_diag_cd_letter                      696\n",
              "number_of_med_claims                        696\n",
              "ade_claim_proportion                        696\n",
              "seizure_diagnosis_claim_proportion          696\n",
              "pain_diagnosis_claim_proportion             696\n",
              "fatigue_diagnosis_claim_proportion          696\n",
              "nausea_diagnosis_claim_proportion           696\n",
              "hyperglycemia_diagnosis_claim_proportion    696\n",
              "constipation_diagnosis_claim_proportion     696\n",
              "diarrhea_diagnosis_claim_proportion         696\n",
              "visit_day_and_process_day_gap_median        696\n",
              "dtype: int64"
            ]
          },
          "metadata": {},
          "execution_count": 48
        }
      ]
    },
    {
      "cell_type": "code",
      "source": [
        "X.info()"
      ],
      "metadata": {
        "colab": {
          "base_uri": "https://localhost:8080/"
        },
        "outputId": "e6351f12-dfde-4dae-c0a8-eb4a928c09cf",
        "id": "CA6jvHBxGcbP"
      },
      "execution_count": null,
      "outputs": [
        {
          "output_type": "stream",
          "name": "stdout",
          "text": [
            "<class 'pandas.core.frame.DataFrame'>\n",
            "Int64Index: 1232 entries, 0 to 1231\n",
            "Data columns (total 31 columns):\n",
            " #   Column                                    Non-Null Count  Dtype  \n",
            "---  ------                                    --------------  -----  \n",
            " 0   race_cd                                   1164 non-null   float64\n",
            " 1   est_age                                   1149 non-null   float64\n",
            " 2   sex_cd                                    1149 non-null   object \n",
            " 3   cms_disabled_ind                          1149 non-null   float64\n",
            " 4   cms_low_income_ind                        1149 non-null   float64\n",
            " 5   number_of_rx_claims                       1160 non-null   float64\n",
            " 6   max_tot_drug_cost_accum_amt               1160 non-null   float64\n",
            " 7   Y_mail_order_proportion                   1160 non-null   float64\n",
            " 8   Generic_ind_proportion                    1160 non-null   float64\n",
            " 9   MAINT_ind_proportion                      1160 non-null   float64\n",
            " 10  SPCL_ind_proportion                       1160 non-null   float64\n",
            " 11  ddi_ind_claim_proportion                  1160 non-null   float64\n",
            " 12  anticoag_ind_claim_proportion             1160 non-null   float64\n",
            " 13  diarrhea_treat_ind_claim_proportion       1160 non-null   float64\n",
            " 14  nausea_treat_ind_claim_proportion         1160 non-null   float64\n",
            " 15  seizure_treat_ind_claim_proportion        1160 non-null   float64\n",
            " 16  pay_day_supply_cnt_median                 1160 non-null   float64\n",
            " 17  rx_cost_median                            1160 non-null   float64\n",
            " 18  service_day_and_process_day_gap_median    1160 non-null   float64\n",
            " 19  visit_day_and_process_day_gap             536 non-null    float64\n",
            " 20  primary_diag_cd_letter                    536 non-null    object \n",
            " 21  number_of_med_claims                      536 non-null    float64\n",
            " 22  ade_claim_proportion                      536 non-null    float64\n",
            " 23  seizure_diagnosis_claim_proportion        536 non-null    float64\n",
            " 24  pain_diagnosis_claim_proportion           536 non-null    float64\n",
            " 25  fatigue_diagnosis_claim_proportion        536 non-null    float64\n",
            " 26  nausea_diagnosis_claim_proportion         536 non-null    float64\n",
            " 27  hyperglycemia_diagnosis_claim_proportion  536 non-null    float64\n",
            " 28  constipation_diagnosis_claim_proportion   536 non-null    float64\n",
            " 29  diarrhea_diagnosis_claim_proportion       536 non-null    float64\n",
            " 30  visit_day_and_process_day_gap_median      536 non-null    float64\n",
            "dtypes: float64(29), object(2)\n",
            "memory usage: 308.0+ KB\n"
          ]
        }
      ]
    },
    {
      "cell_type": "code",
      "source": [
        "X['sex_cd'] = X['sex_cd'].replace({'M': 1, 'F': 0})\n",
        "\n",
        "# X_train['mail_order_ind'] = X_train['mail_order_ind'].map({'N': 0, 'Y': 1})\n",
        "# X_test['mail_order_ind'] = X_test['mail_order_ind'].map({'N': 0, 'Y': 1})\n",
        "\n",
        "# X_train['generic_ind'] = X_train['generic_ind'].map({'BRANDED': 1, 'GENERIC': 0})\n",
        "# X_test['generic_ind'] = X_test['generic_ind'].map({'BRANDED': 1, 'GENERIC': 0})\n",
        "\n",
        "# X_train['maint_ind'] = X_train['maint_ind'].map({'NONMAINT': 0, 'MAINT': 1})\n",
        "# X_test['maint_ind'] = X_test['maint_ind'].map({'NONMAINT': 0, 'MAINT': 1})\n",
        "\n",
        "# X_train['specialty_ind'] = X_train['specialty_ind'].map({'NONSPCL': 0, 'SPCL': 1})\n",
        "# X_test['specialty_ind'] = X_test['specialty_ind'].map({'NONSPCL': 0, 'SPCL': 1})"
      ],
      "metadata": {
        "id": "-hhQWSZTGcbP"
      },
      "execution_count": null,
      "outputs": []
    },
    {
      "cell_type": "code",
      "source": [
        "X.columns"
      ],
      "metadata": {
        "colab": {
          "base_uri": "https://localhost:8080/"
        },
        "outputId": "d43cc908-f021-4078-e418-77f8d3514984",
        "id": "6_PvPjd6GcbP"
      },
      "execution_count": null,
      "outputs": [
        {
          "output_type": "execute_result",
          "data": {
            "text/plain": [
              "Index(['race_cd', 'est_age', 'sex_cd', 'cms_disabled_ind',\n",
              "       'cms_low_income_ind', 'number_of_rx_claims',\n",
              "       'max_tot_drug_cost_accum_amt', 'Y_mail_order_proportion',\n",
              "       'Generic_ind_proportion', 'MAINT_ind_proportion', 'SPCL_ind_proportion',\n",
              "       'ddi_ind_claim_proportion', 'anticoag_ind_claim_proportion',\n",
              "       'diarrhea_treat_ind_claim_proportion',\n",
              "       'nausea_treat_ind_claim_proportion',\n",
              "       'seizure_treat_ind_claim_proportion', 'pay_day_supply_cnt_median',\n",
              "       'rx_cost_median', 'service_day_and_process_day_gap_median',\n",
              "       'visit_day_and_process_day_gap', 'primary_diag_cd_letter',\n",
              "       'number_of_med_claims', 'ade_claim_proportion',\n",
              "       'seizure_diagnosis_claim_proportion', 'pain_diagnosis_claim_proportion',\n",
              "       'fatigue_diagnosis_claim_proportion',\n",
              "       'nausea_diagnosis_claim_proportion',\n",
              "       'hyperglycemia_diagnosis_claim_proportion',\n",
              "       'constipation_diagnosis_claim_proportion',\n",
              "       'diarrhea_diagnosis_claim_proportion',\n",
              "       'visit_day_and_process_day_gap_median'],\n",
              "      dtype='object')"
            ]
          },
          "metadata": {},
          "execution_count": 51
        }
      ]
    },
    {
      "cell_type": "markdown",
      "source": [
        "primary_diag_cd_letter"
      ],
      "metadata": {
        "id": "GVD_kdqlGcbP"
      }
    },
    {
      "cell_type": "code",
      "source": [
        "from sklearn.experimental import enable_iterative_imputer\n",
        "from sklearn.impute import IterativeImputer\n",
        "\n",
        "\n",
        "columns_to_impute=['race_cd', 'est_age', 'sex_cd', 'cms_disabled_ind',\n",
        "       'cms_low_income_ind', 'number_of_rx_claims',\n",
        "       'max_tot_drug_cost_accum_amt', 'Y_mail_order_proportion',\n",
        "       'Generic_ind_proportion', 'MAINT_ind_proportion', 'SPCL_ind_proportion',\n",
        "       'ddi_ind_claim_proportion', 'anticoag_ind_claim_proportion',\n",
        "       'diarrhea_treat_ind_claim_proportion',\n",
        "       'nausea_treat_ind_claim_proportion',\n",
        "       'seizure_treat_ind_claim_proportion', 'pay_day_supply_cnt_median',\n",
        "       'rx_cost_median', 'service_day_and_process_day_gap_median',\n",
        "       'visit_day_and_process_day_gap',\n",
        "       'number_of_med_claims', 'ade_claim_proportion',\n",
        "       'seizure_diagnosis_claim_proportion', 'pain_diagnosis_claim_proportion',\n",
        "       'fatigue_diagnosis_claim_proportion',\n",
        "       'nausea_diagnosis_claim_proportion',\n",
        "       'hyperglycemia_diagnosis_claim_proportion',\n",
        "       'constipation_diagnosis_claim_proportion',\n",
        "       'diarrhea_diagnosis_claim_proportion',\n",
        "       'visit_day_and_process_day_gap_median']\n",
        "\n",
        "imputer = IterativeImputer(max_iter=10, random_state=0)\n",
        "X[columns_to_impute] = imputer.fit_transform(X[columns_to_impute])\n",
        "print_bold('X')\n",
        "print(X.isna().sum())\n"
      ],
      "metadata": {
        "colab": {
          "base_uri": "https://localhost:8080/"
        },
        "outputId": "a56522de-c06c-4185-9c03-d3e06b08d623",
        "id": "VCUi1hlAGcbP"
      },
      "execution_count": null,
      "outputs": [
        {
          "output_type": "stream",
          "name": "stdout",
          "text": [
            "\u001b[1mX\u001b[0m\n",
            "race_cd                                       0\n",
            "est_age                                       0\n",
            "sex_cd                                        0\n",
            "cms_disabled_ind                              0\n",
            "cms_low_income_ind                            0\n",
            "number_of_rx_claims                           0\n",
            "max_tot_drug_cost_accum_amt                   0\n",
            "Y_mail_order_proportion                       0\n",
            "Generic_ind_proportion                        0\n",
            "MAINT_ind_proportion                          0\n",
            "SPCL_ind_proportion                           0\n",
            "ddi_ind_claim_proportion                      0\n",
            "anticoag_ind_claim_proportion                 0\n",
            "diarrhea_treat_ind_claim_proportion           0\n",
            "nausea_treat_ind_claim_proportion             0\n",
            "seizure_treat_ind_claim_proportion            0\n",
            "pay_day_supply_cnt_median                     0\n",
            "rx_cost_median                                0\n",
            "service_day_and_process_day_gap_median        0\n",
            "visit_day_and_process_day_gap                 0\n",
            "primary_diag_cd_letter                      696\n",
            "number_of_med_claims                          0\n",
            "ade_claim_proportion                          0\n",
            "seizure_diagnosis_claim_proportion            0\n",
            "pain_diagnosis_claim_proportion               0\n",
            "fatigue_diagnosis_claim_proportion            0\n",
            "nausea_diagnosis_claim_proportion             0\n",
            "hyperglycemia_diagnosis_claim_proportion      0\n",
            "constipation_diagnosis_claim_proportion       0\n",
            "diarrhea_diagnosis_claim_proportion           0\n",
            "visit_day_and_process_day_gap_median          0\n",
            "dtype: int64\n"
          ]
        }
      ]
    },
    {
      "cell_type": "code",
      "source": [
        "def map_race_cd(value):\n",
        "    if value > 1.5 and value < 2.5:\n",
        "        return 2\n",
        "    elif value >0 and value < 1.5:\n",
        "        return 1\n",
        "    else:\n",
        "        return value\n",
        "X['race_cd'] = X['race_cd'].apply(map_race_cd)\n",
        "\n",
        "binary_columns = ['sex_cd','cms_disabled_ind', 'cms_low_income_ind']\n",
        "\n",
        "# binary_columns = ['sex_cd', 'cms_disabled_ind', 'cms_low_income_ind', 'mail_order_ind',\n",
        "#                   'generic_ind', 'maint_ind', 'specialty_ind', 'ddi_ind', 'anticoag_ind',\n",
        "#                   'diarrhea_treat_ind', 'nausea_treat_ind', 'seizure_treat_ind']\n",
        "for column in binary_columns:\n",
        "    mask = X[column] < 0.5\n",
        "    X.loc[mask, column] = 0\n",
        "    X.loc[~mask, column] = 1"
      ],
      "metadata": {
        "id": "CYy08ttLGcbQ"
      },
      "execution_count": null,
      "outputs": []
    },
    {
      "cell_type": "code",
      "source": [
        "columns_to_impute_check = [\n",
        "    'race_cd','sex_cd','cms_disabled_ind', 'cms_low_income_ind'\n",
        "]\n",
        "\n",
        "# columns_to_impute_check = [\n",
        "#     'race_cd','sex_cd', 'cms_disabled_ind', 'cms_low_income_ind','mail_order_ind', 'generic_ind',\n",
        "#     'maint_ind', 'specialty_ind', 'ddi_ind', 'anticoag_ind', 'diarrhea_treat_ind',\n",
        "#     'nausea_treat_ind', 'seizure_treat_ind'\n",
        "# ]"
      ],
      "metadata": {
        "id": "fjUMPHtbGcbQ"
      },
      "execution_count": null,
      "outputs": []
    },
    {
      "cell_type": "code",
      "source": [
        "for column in columns_to_impute_check:\n",
        "  print_bold('{}'.format(column))\n",
        "  print(X[column].value_counts())"
      ],
      "metadata": {
        "colab": {
          "base_uri": "https://localhost:8080/"
        },
        "outputId": "b97ef790-2589-482f-80d5-4d2823ff7778",
        "id": "Vx-afoXTGcbQ"
      },
      "execution_count": null,
      "outputs": [
        {
          "output_type": "stream",
          "name": "stdout",
          "text": [
            "\u001b[1mrace_cd\u001b[0m\n",
            "1.0    727\n",
            "2.0    185\n",
            "4.0    152\n",
            "0.0     84\n",
            "5.0     42\n",
            "3.0     37\n",
            "6.0      5\n",
            "Name: race_cd, dtype: int64\n",
            "\u001b[1msex_cd\u001b[0m\n",
            "0.0    898\n",
            "1.0    334\n",
            "Name: sex_cd, dtype: int64\n",
            "\u001b[1mcms_disabled_ind\u001b[0m\n",
            "0.0    1063\n",
            "1.0     169\n",
            "Name: cms_disabled_ind, dtype: int64\n",
            "\u001b[1mcms_low_income_ind\u001b[0m\n",
            "0.0    779\n",
            "1.0    453\n",
            "Name: cms_low_income_ind, dtype: int64\n"
          ]
        }
      ]
    },
    {
      "cell_type": "code",
      "source": [
        "# impute categorical variables\n",
        "\n",
        "from sklearn.impute import SimpleImputer\n",
        "imputer = SimpleImputer(strategy='most_frequent')\n",
        "columns_to_impute = ['primary_diag_cd_letter']\n",
        "X[columns_to_impute] = imputer.fit_transform(X[columns_to_impute])\n",
        "print(X.isna().sum())\n"
      ],
      "metadata": {
        "colab": {
          "base_uri": "https://localhost:8080/"
        },
        "outputId": "29fd6125-00f4-4303-8745-cc107f0b29ab",
        "id": "zsPX6afUGcbQ"
      },
      "execution_count": null,
      "outputs": [
        {
          "output_type": "stream",
          "name": "stdout",
          "text": [
            "race_cd                                     0\n",
            "est_age                                     0\n",
            "sex_cd                                      0\n",
            "cms_disabled_ind                            0\n",
            "cms_low_income_ind                          0\n",
            "number_of_rx_claims                         0\n",
            "max_tot_drug_cost_accum_amt                 0\n",
            "Y_mail_order_proportion                     0\n",
            "Generic_ind_proportion                      0\n",
            "MAINT_ind_proportion                        0\n",
            "SPCL_ind_proportion                         0\n",
            "ddi_ind_claim_proportion                    0\n",
            "anticoag_ind_claim_proportion               0\n",
            "diarrhea_treat_ind_claim_proportion         0\n",
            "nausea_treat_ind_claim_proportion           0\n",
            "seizure_treat_ind_claim_proportion          0\n",
            "pay_day_supply_cnt_median                   0\n",
            "rx_cost_median                              0\n",
            "service_day_and_process_day_gap_median      0\n",
            "visit_day_and_process_day_gap               0\n",
            "primary_diag_cd_letter                      0\n",
            "number_of_med_claims                        0\n",
            "ade_claim_proportion                        0\n",
            "seizure_diagnosis_claim_proportion          0\n",
            "pain_diagnosis_claim_proportion             0\n",
            "fatigue_diagnosis_claim_proportion          0\n",
            "nausea_diagnosis_claim_proportion           0\n",
            "hyperglycemia_diagnosis_claim_proportion    0\n",
            "constipation_diagnosis_claim_proportion     0\n",
            "diarrhea_diagnosis_claim_proportion         0\n",
            "visit_day_and_process_day_gap_median        0\n",
            "dtype: int64\n"
          ]
        }
      ]
    },
    {
      "cell_type": "markdown",
      "source": [
        "#### Preprocessing pipeline"
      ],
      "metadata": {
        "id": "QKVook-QGcbQ"
      }
    },
    {
      "cell_type": "code",
      "source": [
        "# Can ignore this on the first read; just run it so that some scikit learn classes behave right.\n",
        "\n",
        "def monkey_patch_get_signature_names_out():\n",
        "    \"\"\"Monkey patch some classes which did not handle get_feature_names_out()\n",
        "       correctly in Scikit-Learn 1.0.*.\"\"\"\n",
        "    from inspect import Signature, signature, Parameter\n",
        "    import pandas as pd\n",
        "    from sklearn.impute import SimpleImputer\n",
        "    from sklearn.pipeline import make_pipeline, Pipeline\n",
        "    from sklearn.preprocessing import FunctionTransformer, StandardScaler\n",
        "\n",
        "    default_get_feature_names_out = StandardScaler.get_feature_names_out\n",
        "\n",
        "    if not hasattr(SimpleImputer, \"get_feature_names_out\"):\n",
        "      print(\"Monkey-patching SimpleImputer.get_feature_names_out()\")\n",
        "      SimpleImputer.get_feature_names_out = default_get_feature_names_out\n",
        "\n",
        "    if not hasattr(FunctionTransformer, \"get_feature_names_out\"):\n",
        "        print(\"Monkey-patching FunctionTransformer.get_feature_names_out()\")\n",
        "        orig_init = FunctionTransformer.__init__\n",
        "        orig_sig = signature(orig_init)\n",
        "\n",
        "        def __init__(*args, feature_names_out=None, **kwargs):\n",
        "            orig_sig.bind(*args, **kwargs)\n",
        "            orig_init(*args, **kwargs)\n",
        "            args[0].feature_names_out = feature_names_out\n",
        "\n",
        "        __init__.__signature__ = Signature(\n",
        "            list(signature(orig_init).parameters.values()) + [\n",
        "                Parameter(\"feature_names_out\", Parameter.KEYWORD_ONLY)])\n",
        "\n",
        "        def get_feature_names_out(self, names=None):\n",
        "            if callable(self.feature_names_out):\n",
        "                return self.feature_names_out(self, names)\n",
        "            assert self.feature_names_out == \"one-to-one\"\n",
        "            return default_get_feature_names_out(self, names)\n",
        "\n",
        "        FunctionTransformer.__init__ = __init__\n",
        "        FunctionTransformer.get_feature_names_out = get_feature_names_out\n",
        "\n",
        "    if not hasattr(IterativeImputer, \"get_feature_names_out\"):\n",
        "      print(\"Monkey-patching IterativeImputer.get_feature_names_out()\")\n",
        "      IterativeImputer.get_feature_names_out = default_get_feature_names_out\n",
        "\n",
        "monkey_patch_get_signature_names_out()"
      ],
      "metadata": {
        "id": "nY0kck76Nqst"
      },
      "execution_count": null,
      "outputs": []
    },
    {
      "cell_type": "code",
      "source": [
        "from sklearn.compose import ColumnTransformer\n",
        "from sklearn.pipeline import Pipeline\n",
        "from sklearn.preprocessing import StandardScaler, OneHotEncoder"
      ],
      "metadata": {
        "id": "mJIswLbbGcbQ"
      },
      "execution_count": null,
      "outputs": []
    },
    {
      "cell_type": "code",
      "source": [
        "X.columns"
      ],
      "metadata": {
        "colab": {
          "base_uri": "https://localhost:8080/"
        },
        "outputId": "85476293-7bae-45f5-b7dd-9d97558ef677",
        "id": "OYyIsrSxGcbQ"
      },
      "execution_count": null,
      "outputs": [
        {
          "output_type": "execute_result",
          "data": {
            "text/plain": [
              "Index(['race_cd', 'est_age', 'sex_cd', 'cms_disabled_ind',\n",
              "       'cms_low_income_ind', 'number_of_rx_claims',\n",
              "       'max_tot_drug_cost_accum_amt', 'Y_mail_order_proportion',\n",
              "       'Generic_ind_proportion', 'MAINT_ind_proportion', 'SPCL_ind_proportion',\n",
              "       'ddi_ind_claim_proportion', 'anticoag_ind_claim_proportion',\n",
              "       'diarrhea_treat_ind_claim_proportion',\n",
              "       'nausea_treat_ind_claim_proportion',\n",
              "       'seizure_treat_ind_claim_proportion', 'pay_day_supply_cnt_median',\n",
              "       'rx_cost_median', 'service_day_and_process_day_gap_median',\n",
              "       'visit_day_and_process_day_gap', 'primary_diag_cd_letter',\n",
              "       'number_of_med_claims', 'ade_claim_proportion',\n",
              "       'seizure_diagnosis_claim_proportion', 'pain_diagnosis_claim_proportion',\n",
              "       'fatigue_diagnosis_claim_proportion',\n",
              "       'nausea_diagnosis_claim_proportion',\n",
              "       'hyperglycemia_diagnosis_claim_proportion',\n",
              "       'constipation_diagnosis_claim_proportion',\n",
              "       'diarrhea_diagnosis_claim_proportion',\n",
              "       'visit_day_and_process_day_gap_median'],\n",
              "      dtype='object')"
            ]
          },
          "metadata": {},
          "execution_count": 59
        }
      ]
    },
    {
      "cell_type": "code",
      "source": [
        "numeric_columns=['est_age','visit_day_and_process_day_gap',\n",
        "    'number_of_med_claims',\n",
        "       'ade_claim_proportion', 'seizure_diagnosis_claim_proportion',\n",
        "       'pain_diagnosis_claim_proportion', 'fatigue_diagnosis_claim_proportion',\n",
        "       'nausea_diagnosis_claim_proportion',\n",
        "       'hyperglycemia_diagnosis_claim_proportion',\n",
        "       'constipation_diagnosis_claim_proportion',\n",
        "       'diarrhea_diagnosis_claim_proportion',\n",
        "       'visit_day_and_process_day_gap_median']\n",
        "\n",
        "numeric_columns= numeric_columns+['number_of_rx_claims',\n",
        "       'max_tot_drug_cost_accum_amt', 'Y_mail_order_proportion',\n",
        "       'Generic_ind_proportion', 'MAINT_ind_proportion', 'SPCL_ind_proportion',\n",
        "       'ddi_ind_claim_proportion', 'anticoag_ind_claim_proportion',\n",
        "       'diarrhea_treat_ind_claim_proportion',\n",
        "       'nausea_treat_ind_claim_proportion',\n",
        "       'seizure_treat_ind_claim_proportion', 'pay_day_supply_cnt_median',\n",
        "       'rx_cost_median', 'service_day_and_process_day_gap_median']\n",
        "\n",
        "\n",
        "categorical_columns=['primary_diag_cd_letter','sex_cd','cms_disabled_ind','cms_low_income_ind','race_cd']\n",
        "\n",
        "\n",
        "print('{} variables in total in X'.format(X.shape[1]))\n",
        "print('{} of variables are treated as numeric'.format(len(numeric_columns)))\n",
        "print('{} of variables are treated as categorical'.format(len(categorical_columns)))"
      ],
      "metadata": {
        "colab": {
          "base_uri": "https://localhost:8080/"
        },
        "outputId": "96c25b79-1c95-4980-ca07-1e92a6351ecc",
        "id": "yW0LOqkaGcbQ"
      },
      "execution_count": null,
      "outputs": [
        {
          "output_type": "stream",
          "name": "stdout",
          "text": [
            "31 variables in total in X\n",
            "26 of variables are treated as numeric\n",
            "5 of variables are treated as categorical\n"
          ]
        }
      ]
    },
    {
      "cell_type": "code",
      "source": [
        "len(X['primary_diag_cd_letter'].value_counts())"
      ],
      "metadata": {
        "colab": {
          "base_uri": "https://localhost:8080/"
        },
        "id": "p51FuIwzMwnm",
        "outputId": "9a214533-e7c5-43f7-b61e-33252bd94cf3"
      },
      "execution_count": null,
      "outputs": [
        {
          "output_type": "execute_result",
          "data": {
            "text/plain": [
              "16"
            ]
          },
          "metadata": {},
          "execution_count": 61
        }
      ]
    },
    {
      "cell_type": "code",
      "source": [
        "numeric_transformer = Pipeline(steps=[\n",
        "    ('scaler', StandardScaler())\n",
        "])\n",
        "categorical_transformer = Pipeline(steps=[\n",
        "    ('onehot', OneHotEncoder(handle_unknown='ignore'))\n",
        "])"
      ],
      "metadata": {
        "id": "t_Tk9I_zGcbQ"
      },
      "execution_count": null,
      "outputs": []
    },
    {
      "cell_type": "code",
      "source": [
        "preprocessor = ColumnTransformer(\n",
        "    transformers=[\n",
        "        ('num', numeric_transformer, numeric_columns),\n",
        "        ('cat', categorical_transformer, categorical_columns)\n",
        "    ])\n",
        "\n",
        "# Create the final pipeline for modeling\n",
        "pipeline = Pipeline(steps=[('preprocessor', preprocessor)])"
      ],
      "metadata": {
        "id": "TWCT7rYKGcbQ"
      },
      "execution_count": null,
      "outputs": []
    },
    {
      "cell_type": "code",
      "source": [
        "X_transformed = pipeline.fit_transform(X)\n",
        "print(\"Shape of X_transformed:\", X_transformed.shape)"
      ],
      "metadata": {
        "colab": {
          "base_uri": "https://localhost:8080/"
        },
        "outputId": "1e78608d-dba1-47fc-9ca7-1a78eaf58ea7",
        "id": "umDXewPuGcbR"
      },
      "execution_count": null,
      "outputs": [
        {
          "output_type": "stream",
          "name": "stdout",
          "text": [
            "Shape of X_transformed: (1232, 55)\n"
          ]
        }
      ]
    },
    {
      "cell_type": "code",
      "source": [
        "preprocessor.get_feature_names_out()"
      ],
      "metadata": {
        "colab": {
          "base_uri": "https://localhost:8080/"
        },
        "id": "GwgCqnhCNz1v",
        "outputId": "45e2e1f5-adbd-4db7-ae70-bdcbef7050d2"
      },
      "execution_count": null,
      "outputs": [
        {
          "output_type": "execute_result",
          "data": {
            "text/plain": [
              "array(['num__est_age', 'num__visit_day_and_process_day_gap',\n",
              "       'num__number_of_med_claims', 'num__ade_claim_proportion',\n",
              "       'num__seizure_diagnosis_claim_proportion',\n",
              "       'num__pain_diagnosis_claim_proportion',\n",
              "       'num__fatigue_diagnosis_claim_proportion',\n",
              "       'num__nausea_diagnosis_claim_proportion',\n",
              "       'num__hyperglycemia_diagnosis_claim_proportion',\n",
              "       'num__constipation_diagnosis_claim_proportion',\n",
              "       'num__diarrhea_diagnosis_claim_proportion',\n",
              "       'num__visit_day_and_process_day_gap_median',\n",
              "       'num__number_of_rx_claims', 'num__max_tot_drug_cost_accum_amt',\n",
              "       'num__Y_mail_order_proportion', 'num__Generic_ind_proportion',\n",
              "       'num__MAINT_ind_proportion', 'num__SPCL_ind_proportion',\n",
              "       'num__ddi_ind_claim_proportion',\n",
              "       'num__anticoag_ind_claim_proportion',\n",
              "       'num__diarrhea_treat_ind_claim_proportion',\n",
              "       'num__nausea_treat_ind_claim_proportion',\n",
              "       'num__seizure_treat_ind_claim_proportion',\n",
              "       'num__pay_day_supply_cnt_median', 'num__rx_cost_median',\n",
              "       'num__service_day_and_process_day_gap_median',\n",
              "       'cat__primary_diag_cd_letter_A', 'cat__primary_diag_cd_letter_C',\n",
              "       'cat__primary_diag_cd_letter_D', 'cat__primary_diag_cd_letter_E',\n",
              "       'cat__primary_diag_cd_letter_F', 'cat__primary_diag_cd_letter_G',\n",
              "       'cat__primary_diag_cd_letter_H', 'cat__primary_diag_cd_letter_I',\n",
              "       'cat__primary_diag_cd_letter_J', 'cat__primary_diag_cd_letter_K',\n",
              "       'cat__primary_diag_cd_letter_L', 'cat__primary_diag_cd_letter_M',\n",
              "       'cat__primary_diag_cd_letter_N', 'cat__primary_diag_cd_letter_R',\n",
              "       'cat__primary_diag_cd_letter_S', 'cat__primary_diag_cd_letter_Z',\n",
              "       'cat__sex_cd_0.0', 'cat__sex_cd_1.0', 'cat__cms_disabled_ind_0.0',\n",
              "       'cat__cms_disabled_ind_1.0', 'cat__cms_low_income_ind_0.0',\n",
              "       'cat__cms_low_income_ind_1.0', 'cat__race_cd_0.0',\n",
              "       'cat__race_cd_1.0', 'cat__race_cd_2.0', 'cat__race_cd_3.0',\n",
              "       'cat__race_cd_4.0', 'cat__race_cd_5.0', 'cat__race_cd_6.0'],\n",
              "      dtype=object)"
            ]
          },
          "metadata": {},
          "execution_count": 65
        }
      ]
    },
    {
      "cell_type": "markdown",
      "source": [
        "#### Training for Prediction"
      ],
      "metadata": {
        "id": "mr_GiADGGcbR"
      }
    },
    {
      "cell_type": "markdown",
      "source": [
        "##### LogisticRegression"
      ],
      "metadata": {
        "id": "DpKukibQGcbR"
      }
    },
    {
      "cell_type": "code",
      "source": [
        "from sklearn.linear_model import LogisticRegression\n",
        "logistic_model = LogisticRegression(random_state=42)\n",
        "logistic_model.fit(X_transformed, y)"
      ],
      "metadata": {
        "colab": {
          "base_uri": "https://localhost:8080/",
          "height": 75
        },
        "outputId": "97a81e02-7232-4e81-c76a-237542b580ee",
        "id": "w2sP9VFIGcbR"
      },
      "execution_count": null,
      "outputs": [
        {
          "output_type": "execute_result",
          "data": {
            "text/plain": [
              "LogisticRegression(random_state=42)"
            ],
            "text/html": [
              "<style>#sk-container-id-3 {color: black;background-color: white;}#sk-container-id-3 pre{padding: 0;}#sk-container-id-3 div.sk-toggleable {background-color: white;}#sk-container-id-3 label.sk-toggleable__label {cursor: pointer;display: block;width: 100%;margin-bottom: 0;padding: 0.3em;box-sizing: border-box;text-align: center;}#sk-container-id-3 label.sk-toggleable__label-arrow:before {content: \"▸\";float: left;margin-right: 0.25em;color: #696969;}#sk-container-id-3 label.sk-toggleable__label-arrow:hover:before {color: black;}#sk-container-id-3 div.sk-estimator:hover label.sk-toggleable__label-arrow:before {color: black;}#sk-container-id-3 div.sk-toggleable__content {max-height: 0;max-width: 0;overflow: hidden;text-align: left;background-color: #f0f8ff;}#sk-container-id-3 div.sk-toggleable__content pre {margin: 0.2em;color: black;border-radius: 0.25em;background-color: #f0f8ff;}#sk-container-id-3 input.sk-toggleable__control:checked~div.sk-toggleable__content {max-height: 200px;max-width: 100%;overflow: auto;}#sk-container-id-3 input.sk-toggleable__control:checked~label.sk-toggleable__label-arrow:before {content: \"▾\";}#sk-container-id-3 div.sk-estimator input.sk-toggleable__control:checked~label.sk-toggleable__label {background-color: #d4ebff;}#sk-container-id-3 div.sk-label input.sk-toggleable__control:checked~label.sk-toggleable__label {background-color: #d4ebff;}#sk-container-id-3 input.sk-hidden--visually {border: 0;clip: rect(1px 1px 1px 1px);clip: rect(1px, 1px, 1px, 1px);height: 1px;margin: -1px;overflow: hidden;padding: 0;position: absolute;width: 1px;}#sk-container-id-3 div.sk-estimator {font-family: monospace;background-color: #f0f8ff;border: 1px dotted black;border-radius: 0.25em;box-sizing: border-box;margin-bottom: 0.5em;}#sk-container-id-3 div.sk-estimator:hover {background-color: #d4ebff;}#sk-container-id-3 div.sk-parallel-item::after {content: \"\";width: 100%;border-bottom: 1px solid gray;flex-grow: 1;}#sk-container-id-3 div.sk-label:hover label.sk-toggleable__label {background-color: #d4ebff;}#sk-container-id-3 div.sk-serial::before {content: \"\";position: absolute;border-left: 1px solid gray;box-sizing: border-box;top: 0;bottom: 0;left: 50%;z-index: 0;}#sk-container-id-3 div.sk-serial {display: flex;flex-direction: column;align-items: center;background-color: white;padding-right: 0.2em;padding-left: 0.2em;position: relative;}#sk-container-id-3 div.sk-item {position: relative;z-index: 1;}#sk-container-id-3 div.sk-parallel {display: flex;align-items: stretch;justify-content: center;background-color: white;position: relative;}#sk-container-id-3 div.sk-item::before, #sk-container-id-3 div.sk-parallel-item::before {content: \"\";position: absolute;border-left: 1px solid gray;box-sizing: border-box;top: 0;bottom: 0;left: 50%;z-index: -1;}#sk-container-id-3 div.sk-parallel-item {display: flex;flex-direction: column;z-index: 1;position: relative;background-color: white;}#sk-container-id-3 div.sk-parallel-item:first-child::after {align-self: flex-end;width: 50%;}#sk-container-id-3 div.sk-parallel-item:last-child::after {align-self: flex-start;width: 50%;}#sk-container-id-3 div.sk-parallel-item:only-child::after {width: 0;}#sk-container-id-3 div.sk-dashed-wrapped {border: 1px dashed gray;margin: 0 0.4em 0.5em 0.4em;box-sizing: border-box;padding-bottom: 0.4em;background-color: white;}#sk-container-id-3 div.sk-label label {font-family: monospace;font-weight: bold;display: inline-block;line-height: 1.2em;}#sk-container-id-3 div.sk-label-container {text-align: center;}#sk-container-id-3 div.sk-container {/* jupyter's `normalize.less` sets `[hidden] { display: none; }` but bootstrap.min.css set `[hidden] { display: none !important; }` so we also need the `!important` here to be able to override the default hidden behavior on the sphinx rendered scikit-learn.org. See: https://github.com/scikit-learn/scikit-learn/issues/21755 */display: inline-block !important;position: relative;}#sk-container-id-3 div.sk-text-repr-fallback {display: none;}</style><div id=\"sk-container-id-3\" class=\"sk-top-container\"><div class=\"sk-text-repr-fallback\"><pre>LogisticRegression(random_state=42)</pre><b>In a Jupyter environment, please rerun this cell to show the HTML representation or trust the notebook. <br />On GitHub, the HTML representation is unable to render, please try loading this page with nbviewer.org.</b></div><div class=\"sk-container\" hidden><div class=\"sk-item\"><div class=\"sk-estimator sk-toggleable\"><input class=\"sk-toggleable__control sk-hidden--visually\" id=\"sk-estimator-id-3\" type=\"checkbox\" checked><label for=\"sk-estimator-id-3\" class=\"sk-toggleable__label sk-toggleable__label-arrow\">LogisticRegression</label><div class=\"sk-toggleable__content\"><pre>LogisticRegression(random_state=42)</pre></div></div></div></div></div>"
            ]
          },
          "metadata": {},
          "execution_count": 66
        }
      ]
    },
    {
      "cell_type": "code",
      "source": [
        "# y_pred = logistic_model.predict(X_transformed)\n",
        "# y_pred_proba = logistic_model.predict_proba(X_transformed)[:, 1]"
      ],
      "metadata": {
        "id": "fJ2rEKnKGcbR"
      },
      "execution_count": null,
      "outputs": []
    },
    {
      "cell_type": "code",
      "source": [
        "# import seaborn as sns\n",
        "# from sklearn.metrics import roc_curve, auc,roc_auc_score\n",
        "# from sklearn.metrics import confusion_matrix\n",
        "\n",
        "# auc_score = roc_auc_score(y, y_pred_proba)\n",
        "\n",
        "\n",
        "\n",
        "# conf_matrix = confusion_matrix(y, y_pred)\n",
        "# # Plot the confusion matrix as a heatmap\n",
        "# plt.figure(figsize=(6, 4))\n",
        "# sns.heatmap(conf_matrix, annot=True, fmt='d', cmap='Blues', cbar=False)\n",
        "# plt.xlabel('Predicted Labels')\n",
        "# plt.ylabel('True Labels')\n",
        "# plt.title('Confusion Matrix')\n",
        "# plt.show()\n",
        "\n",
        "\n",
        "# TP, TN, FP, FN = conf_matrix.ravel()\n",
        "# accuracy = (TP + TN) / (TP + TN + FP + FN)\n",
        "# precision = TP / (TP + FP)\n",
        "# recall = TP / (TP + FN)\n",
        "# f1_score = 2 * (precision * recall) / (precision + recall)\n",
        "\n",
        "# print(\"AUC Score:\", auc_score)\n",
        "# print(\"Accuracy:\", accuracy)\n",
        "# print(\"Precision:\", precision)\n",
        "# print(\"Recall:\", recall)\n",
        "# print(\"F1 Score:\", f1_score)\n"
      ],
      "metadata": {
        "id": "66MUaZeRGcbR"
      },
      "execution_count": null,
      "outputs": []
    },
    {
      "cell_type": "markdown",
      "source": [
        "##### XGBClassifier\n"
      ],
      "metadata": {
        "id": "T2Czp8AIGcbR"
      }
    },
    {
      "cell_type": "code",
      "source": [
        "# !pip install --upgrade scikit-learn"
      ],
      "metadata": {
        "id": "HweR1ouQGcbR"
      },
      "execution_count": null,
      "outputs": []
    },
    {
      "cell_type": "code",
      "source": [
        "import xgboost as xgb\n",
        "from sklearn.metrics import roc_curve, auc"
      ],
      "metadata": {
        "id": "GB5754mmGcbR"
      },
      "execution_count": null,
      "outputs": []
    },
    {
      "cell_type": "code",
      "source": [
        "xgb_model = xgb.XGBClassifier(random_state=42)\n",
        "xgb_model.fit(X_transformed, y)"
      ],
      "metadata": {
        "colab": {
          "base_uri": "https://localhost:8080/",
          "height": 248
        },
        "outputId": "e42749b0-3a0d-4c7b-be28-a8197b8b7e12",
        "id": "Kk5VcpaGGcbR"
      },
      "execution_count": null,
      "outputs": [
        {
          "output_type": "execute_result",
          "data": {
            "text/plain": [
              "XGBClassifier(base_score=None, booster=None, callbacks=None,\n",
              "              colsample_bylevel=None, colsample_bynode=None,\n",
              "              colsample_bytree=None, early_stopping_rounds=None,\n",
              "              enable_categorical=False, eval_metric=None, feature_types=None,\n",
              "              gamma=None, gpu_id=None, grow_policy=None, importance_type=None,\n",
              "              interaction_constraints=None, learning_rate=None, max_bin=None,\n",
              "              max_cat_threshold=None, max_cat_to_onehot=None,\n",
              "              max_delta_step=None, max_depth=None, max_leaves=None,\n",
              "              min_child_weight=None, missing=nan, monotone_constraints=None,\n",
              "              n_estimators=100, n_jobs=None, num_parallel_tree=None,\n",
              "              predictor=None, random_state=42, ...)"
            ],
            "text/html": [
              "<style>#sk-container-id-4 {color: black;background-color: white;}#sk-container-id-4 pre{padding: 0;}#sk-container-id-4 div.sk-toggleable {background-color: white;}#sk-container-id-4 label.sk-toggleable__label {cursor: pointer;display: block;width: 100%;margin-bottom: 0;padding: 0.3em;box-sizing: border-box;text-align: center;}#sk-container-id-4 label.sk-toggleable__label-arrow:before {content: \"▸\";float: left;margin-right: 0.25em;color: #696969;}#sk-container-id-4 label.sk-toggleable__label-arrow:hover:before {color: black;}#sk-container-id-4 div.sk-estimator:hover label.sk-toggleable__label-arrow:before {color: black;}#sk-container-id-4 div.sk-toggleable__content {max-height: 0;max-width: 0;overflow: hidden;text-align: left;background-color: #f0f8ff;}#sk-container-id-4 div.sk-toggleable__content pre {margin: 0.2em;color: black;border-radius: 0.25em;background-color: #f0f8ff;}#sk-container-id-4 input.sk-toggleable__control:checked~div.sk-toggleable__content {max-height: 200px;max-width: 100%;overflow: auto;}#sk-container-id-4 input.sk-toggleable__control:checked~label.sk-toggleable__label-arrow:before {content: \"▾\";}#sk-container-id-4 div.sk-estimator input.sk-toggleable__control:checked~label.sk-toggleable__label {background-color: #d4ebff;}#sk-container-id-4 div.sk-label input.sk-toggleable__control:checked~label.sk-toggleable__label {background-color: #d4ebff;}#sk-container-id-4 input.sk-hidden--visually {border: 0;clip: rect(1px 1px 1px 1px);clip: rect(1px, 1px, 1px, 1px);height: 1px;margin: -1px;overflow: hidden;padding: 0;position: absolute;width: 1px;}#sk-container-id-4 div.sk-estimator {font-family: monospace;background-color: #f0f8ff;border: 1px dotted black;border-radius: 0.25em;box-sizing: border-box;margin-bottom: 0.5em;}#sk-container-id-4 div.sk-estimator:hover {background-color: #d4ebff;}#sk-container-id-4 div.sk-parallel-item::after {content: \"\";width: 100%;border-bottom: 1px solid gray;flex-grow: 1;}#sk-container-id-4 div.sk-label:hover label.sk-toggleable__label {background-color: #d4ebff;}#sk-container-id-4 div.sk-serial::before {content: \"\";position: absolute;border-left: 1px solid gray;box-sizing: border-box;top: 0;bottom: 0;left: 50%;z-index: 0;}#sk-container-id-4 div.sk-serial {display: flex;flex-direction: column;align-items: center;background-color: white;padding-right: 0.2em;padding-left: 0.2em;position: relative;}#sk-container-id-4 div.sk-item {position: relative;z-index: 1;}#sk-container-id-4 div.sk-parallel {display: flex;align-items: stretch;justify-content: center;background-color: white;position: relative;}#sk-container-id-4 div.sk-item::before, #sk-container-id-4 div.sk-parallel-item::before {content: \"\";position: absolute;border-left: 1px solid gray;box-sizing: border-box;top: 0;bottom: 0;left: 50%;z-index: -1;}#sk-container-id-4 div.sk-parallel-item {display: flex;flex-direction: column;z-index: 1;position: relative;background-color: white;}#sk-container-id-4 div.sk-parallel-item:first-child::after {align-self: flex-end;width: 50%;}#sk-container-id-4 div.sk-parallel-item:last-child::after {align-self: flex-start;width: 50%;}#sk-container-id-4 div.sk-parallel-item:only-child::after {width: 0;}#sk-container-id-4 div.sk-dashed-wrapped {border: 1px dashed gray;margin: 0 0.4em 0.5em 0.4em;box-sizing: border-box;padding-bottom: 0.4em;background-color: white;}#sk-container-id-4 div.sk-label label {font-family: monospace;font-weight: bold;display: inline-block;line-height: 1.2em;}#sk-container-id-4 div.sk-label-container {text-align: center;}#sk-container-id-4 div.sk-container {/* jupyter's `normalize.less` sets `[hidden] { display: none; }` but bootstrap.min.css set `[hidden] { display: none !important; }` so we also need the `!important` here to be able to override the default hidden behavior on the sphinx rendered scikit-learn.org. See: https://github.com/scikit-learn/scikit-learn/issues/21755 */display: inline-block !important;position: relative;}#sk-container-id-4 div.sk-text-repr-fallback {display: none;}</style><div id=\"sk-container-id-4\" class=\"sk-top-container\"><div class=\"sk-text-repr-fallback\"><pre>XGBClassifier(base_score=None, booster=None, callbacks=None,\n",
              "              colsample_bylevel=None, colsample_bynode=None,\n",
              "              colsample_bytree=None, early_stopping_rounds=None,\n",
              "              enable_categorical=False, eval_metric=None, feature_types=None,\n",
              "              gamma=None, gpu_id=None, grow_policy=None, importance_type=None,\n",
              "              interaction_constraints=None, learning_rate=None, max_bin=None,\n",
              "              max_cat_threshold=None, max_cat_to_onehot=None,\n",
              "              max_delta_step=None, max_depth=None, max_leaves=None,\n",
              "              min_child_weight=None, missing=nan, monotone_constraints=None,\n",
              "              n_estimators=100, n_jobs=None, num_parallel_tree=None,\n",
              "              predictor=None, random_state=42, ...)</pre><b>In a Jupyter environment, please rerun this cell to show the HTML representation or trust the notebook. <br />On GitHub, the HTML representation is unable to render, please try loading this page with nbviewer.org.</b></div><div class=\"sk-container\" hidden><div class=\"sk-item\"><div class=\"sk-estimator sk-toggleable\"><input class=\"sk-toggleable__control sk-hidden--visually\" id=\"sk-estimator-id-4\" type=\"checkbox\" checked><label for=\"sk-estimator-id-4\" class=\"sk-toggleable__label sk-toggleable__label-arrow\">XGBClassifier</label><div class=\"sk-toggleable__content\"><pre>XGBClassifier(base_score=None, booster=None, callbacks=None,\n",
              "              colsample_bylevel=None, colsample_bynode=None,\n",
              "              colsample_bytree=None, early_stopping_rounds=None,\n",
              "              enable_categorical=False, eval_metric=None, feature_types=None,\n",
              "              gamma=None, gpu_id=None, grow_policy=None, importance_type=None,\n",
              "              interaction_constraints=None, learning_rate=None, max_bin=None,\n",
              "              max_cat_threshold=None, max_cat_to_onehot=None,\n",
              "              max_delta_step=None, max_depth=None, max_leaves=None,\n",
              "              min_child_weight=None, missing=nan, monotone_constraints=None,\n",
              "              n_estimators=100, n_jobs=None, num_parallel_tree=None,\n",
              "              predictor=None, random_state=42, ...)</pre></div></div></div></div></div>"
            ]
          },
          "metadata": {},
          "execution_count": 71
        }
      ]
    },
    {
      "cell_type": "code",
      "source": [
        "# y_pred = xgb_model.predict(X_transformed)\n",
        "# y_pred_proba = xgb_model.predict_proba(X_transformed)[:, 1]"
      ],
      "metadata": {
        "id": "pCYLRNaIGcbR"
      },
      "execution_count": null,
      "outputs": []
    },
    {
      "cell_type": "code",
      "source": [
        "# import seaborn as sns\n",
        "# from sklearn.metrics import confusion_matrix\n",
        "\n",
        "# auc_score = roc_auc_score(y, y_pred_proba)\n",
        "\n",
        "# conf_matrix = confusion_matrix(y, y_pred)\n",
        "# # Plot the confusion matrix as a heatmap\n",
        "# plt.figure(figsize=(6, 4))\n",
        "# sns.heatmap(conf_matrix, annot=True, fmt='d', cmap='Blues', cbar=False)\n",
        "# plt.xlabel('Predicted Labels')\n",
        "# plt.ylabel('True Labels')\n",
        "# plt.title('Confusion Matrix')\n",
        "# plt.show()\n",
        "\n",
        "\n",
        "# TP, TN, FP, FN = conf_matrix.ravel()\n",
        "# accuracy = (TP + TN) / (TP + TN + FP + FN)\n",
        "# precision = TP / (TP + FP)\n",
        "# recall = TP / (TP + FN)\n",
        "# f1_score = 2 * (precision * recall) / (precision + recall)\n",
        "\n",
        "# print(\"AUC Score:\", auc_score)\n",
        "# print(\"Accuracy:\", accuracy)\n",
        "# print(\"Precision:\", precision)\n",
        "# print(\"Recall:\", recall)\n",
        "# print(\"F1 Score:\", f1_score)\n"
      ],
      "metadata": {
        "id": "_CQcX-cgGcbR"
      },
      "execution_count": null,
      "outputs": []
    },
    {
      "cell_type": "code",
      "source": [
        "# pip install sha"
      ],
      "metadata": {
        "id": "77kTFkriGcbS"
      },
      "execution_count": null,
      "outputs": []
    },
    {
      "cell_type": "code",
      "source": [
        "# import shap"
      ],
      "metadata": {
        "id": "-1SGAzl_GcbS"
      },
      "execution_count": null,
      "outputs": []
    },
    {
      "cell_type": "code",
      "source": [
        "# feature_importance = xgb_model.feature_importances_\n",
        "\n",
        "# explainer = shap.Explainer(xgb_model)\n",
        "# shap_values = explainer.shap_values(X_test_transformed)\n",
        "\n",
        "# top_n_features = 10\n",
        "\n",
        "# # Plot feature importance for the top N features\n",
        "# sorted_idx = (-feature_importance).argsort()[:top_n_features]\n",
        "# top_feature_importance = feature_importance[sorted_idx]\n",
        "# top_feature_names = X_train.columns[sorted_idx]\n",
        "\n",
        "# plt.figure(figsize=(12, 6))\n",
        "# plt.barh(range(len(top_feature_importance)), top_feature_importance, align='center')\n",
        "# plt.yticks(range(len(top_feature_importance)), top_feature_names, fontsize=12)\n",
        "# plt.xlabel('Feature Importance', fontsize=14)\n",
        "# plt.title('Top {} XGBoost Feature Importance'.format(top_n_features), fontsize=16)\n",
        "# plt.show()\n",
        "\n",
        "\n",
        "\n",
        "# # Plot SHAP summary plot for the top N features\n",
        "# shap.summary_plot(shap_values, X_test_transformed, feature_names=X_train.columns, plot_type='bar', max_display=top_n_features)"
      ],
      "metadata": {
        "id": "xpgW_Fr6GcbS"
      },
      "execution_count": null,
      "outputs": []
    },
    {
      "cell_type": "markdown",
      "source": [],
      "metadata": {
        "id": "Pxc64qicGcbS"
      }
    },
    {
      "cell_type": "markdown",
      "source": [
        "## Holdout Prediction"
      ],
      "metadata": {
        "id": "6X8jSNjx0Tlk"
      }
    },
    {
      "cell_type": "markdown",
      "source": [
        "### Merge"
      ],
      "metadata": {
        "id": "c5qjrAYO7ngd"
      }
    },
    {
      "cell_type": "code",
      "source": [
        "temp_merged_holdout_unique_medclms=merged_holdout_unique_medclms[['therapy_id','visit_day_and_process_day_gap', 'primary_diag_cd_letter',\n",
        "       'number_of_med_claims', 'ade_claim_proportion',\n",
        "       'seizure_diagnosis_claim_proportion', 'pain_diagnosis_claim_proportion',\n",
        "       'fatigue_diagnosis_claim_proportion',\n",
        "       'nausea_diagnosis_claim_proportion',\n",
        "       'hyperglycemia_diagnosis_claim_proportion',\n",
        "       'constipation_diagnosis_claim_proportion',\n",
        "       'diarrhea_diagnosis_claim_proportion',\n",
        "       'visit_day_and_process_day_gap_median']]"
      ],
      "metadata": {
        "id": "MYY34Dih8SFq"
      },
      "execution_count": null,
      "outputs": []
    },
    {
      "cell_type": "code",
      "source": [
        "three_merged_holdout=merged_holdout_unique_rxclms.merge(temp_merged_holdout_unique_medclms, on='therapy_id', how='left')\n",
        "three_merged_holdout_with_therapy_id=three_merged_holdout.copy()"
      ],
      "metadata": {
        "id": "qXv0Gm3_8SIj"
      },
      "execution_count": null,
      "outputs": []
    },
    {
      "cell_type": "code",
      "source": [
        "three_merged_holdout=three_merged_holdout.drop(columns='therapy_id')"
      ],
      "metadata": {
        "id": "doziz8py84qS"
      },
      "execution_count": null,
      "outputs": []
    },
    {
      "cell_type": "code",
      "source": [
        "three_merged_holdout.shape"
      ],
      "metadata": {
        "colab": {
          "base_uri": "https://localhost:8080/"
        },
        "id": "4Cis5Acg8c2V",
        "outputId": "73b1908c-8dd1-4d63-8241-fe5d94e7f357"
      },
      "execution_count": null,
      "outputs": [
        {
          "output_type": "execute_result",
          "data": {
            "text/plain": [
              "(420, 31)"
            ]
          },
          "metadata": {},
          "execution_count": 80
        }
      ]
    },
    {
      "cell_type": "code",
      "source": [
        "# show_dataset_detail(three_merged_holdout)"
      ],
      "metadata": {
        "id": "jS35Xe-_-XTq"
      },
      "execution_count": null,
      "outputs": []
    },
    {
      "cell_type": "code",
      "source": [
        "# len(three_merged_holdout['primary_diag_cd_letter'].value_counts())"
      ],
      "metadata": {
        "id": "Nbev5mEvA5Gl"
      },
      "execution_count": null,
      "outputs": []
    },
    {
      "cell_type": "code",
      "source": [
        "three_merged_holdout.isna().sum()"
      ],
      "metadata": {
        "colab": {
          "base_uri": "https://localhost:8080/"
        },
        "id": "xpqjBuon9Dfy",
        "outputId": "b604ea73-6113-47ec-84bd-cd067bdaa47c"
      },
      "execution_count": null,
      "outputs": [
        {
          "output_type": "execute_result",
          "data": {
            "text/plain": [
              "race_cd                                      18\n",
              "est_age                                      28\n",
              "sex_cd                                       28\n",
              "cms_disabled_ind                             28\n",
              "cms_low_income_ind                           28\n",
              "number_of_rx_claims                          41\n",
              "max_tot_drug_cost_accum_amt                  41\n",
              "Y_mail_order_proportion                      41\n",
              "Generic_ind_proportion                       41\n",
              "MAINT_ind_proportion                         41\n",
              "SPCL_ind_proportion                          41\n",
              "ddi_ind_claim_proportion                     41\n",
              "anticoag_ind_claim_proportion                41\n",
              "diarrhea_treat_ind_claim_proportion          41\n",
              "nausea_treat_ind_claim_proportion            41\n",
              "seizure_treat_ind_claim_proportion           41\n",
              "pay_day_supply_cnt_median                    41\n",
              "rx_cost_median                               41\n",
              "service_day_and_process_day_gap_median       41\n",
              "visit_day_and_process_day_gap               235\n",
              "primary_diag_cd_letter                      235\n",
              "number_of_med_claims                        235\n",
              "ade_claim_proportion                        235\n",
              "seizure_diagnosis_claim_proportion          235\n",
              "pain_diagnosis_claim_proportion             235\n",
              "fatigue_diagnosis_claim_proportion          235\n",
              "nausea_diagnosis_claim_proportion           235\n",
              "hyperglycemia_diagnosis_claim_proportion    235\n",
              "constipation_diagnosis_claim_proportion     235\n",
              "diarrhea_diagnosis_claim_proportion         235\n",
              "visit_day_and_process_day_gap_median        235\n",
              "dtype: int64"
            ]
          },
          "metadata": {},
          "execution_count": 83
        }
      ]
    },
    {
      "cell_type": "code",
      "source": [],
      "metadata": {
        "id": "kSQDZu5-9MEE"
      },
      "execution_count": null,
      "outputs": []
    },
    {
      "cell_type": "markdown",
      "source": [
        "### Prediction"
      ],
      "metadata": {
        "id": "SURtkAKt9MJ9"
      }
    },
    {
      "cell_type": "markdown",
      "source": [
        "### Missing value imputation"
      ],
      "metadata": {
        "id": "WC6E5m089MJ-"
      }
    },
    {
      "cell_type": "code",
      "source": [
        "three_merged_holdout.isna().sum()"
      ],
      "metadata": {
        "colab": {
          "base_uri": "https://localhost:8080/"
        },
        "outputId": "94d7d0d8-61f9-4e3d-8811-b27cd2569fe3",
        "id": "MAIwhUmv9MJ-"
      },
      "execution_count": null,
      "outputs": [
        {
          "output_type": "execute_result",
          "data": {
            "text/plain": [
              "race_cd                                      18\n",
              "est_age                                      28\n",
              "sex_cd                                       28\n",
              "cms_disabled_ind                             28\n",
              "cms_low_income_ind                           28\n",
              "number_of_rx_claims                          41\n",
              "max_tot_drug_cost_accum_amt                  41\n",
              "Y_mail_order_proportion                      41\n",
              "Generic_ind_proportion                       41\n",
              "MAINT_ind_proportion                         41\n",
              "SPCL_ind_proportion                          41\n",
              "ddi_ind_claim_proportion                     41\n",
              "anticoag_ind_claim_proportion                41\n",
              "diarrhea_treat_ind_claim_proportion          41\n",
              "nausea_treat_ind_claim_proportion            41\n",
              "seizure_treat_ind_claim_proportion           41\n",
              "pay_day_supply_cnt_median                    41\n",
              "rx_cost_median                               41\n",
              "service_day_and_process_day_gap_median       41\n",
              "visit_day_and_process_day_gap               235\n",
              "primary_diag_cd_letter                      235\n",
              "number_of_med_claims                        235\n",
              "ade_claim_proportion                        235\n",
              "seizure_diagnosis_claim_proportion          235\n",
              "pain_diagnosis_claim_proportion             235\n",
              "fatigue_diagnosis_claim_proportion          235\n",
              "nausea_diagnosis_claim_proportion           235\n",
              "hyperglycemia_diagnosis_claim_proportion    235\n",
              "constipation_diagnosis_claim_proportion     235\n",
              "diarrhea_diagnosis_claim_proportion         235\n",
              "visit_day_and_process_day_gap_median        235\n",
              "dtype: int64"
            ]
          },
          "metadata": {},
          "execution_count": 84
        }
      ]
    },
    {
      "cell_type": "code",
      "source": [
        "three_merged_holdout['sex_cd'] = three_merged_holdout['sex_cd'].replace({'M': 1, 'F': 0})"
      ],
      "metadata": {
        "id": "LtvuKbEt9MJ-"
      },
      "execution_count": null,
      "outputs": []
    },
    {
      "cell_type": "markdown",
      "source": [
        "primary_diag_cd_letter"
      ],
      "metadata": {
        "id": "zfavsiy89MJ_"
      }
    },
    {
      "cell_type": "code",
      "source": [
        "from sklearn.experimental import enable_iterative_imputer\n",
        "from sklearn.impute import IterativeImputer\n",
        "\n",
        "columns_to_impute=['race_cd', 'est_age', 'sex_cd', 'cms_disabled_ind',\n",
        "       'cms_low_income_ind', 'number_of_rx_claims',\n",
        "       'max_tot_drug_cost_accum_amt', 'Y_mail_order_proportion',\n",
        "       'Generic_ind_proportion', 'MAINT_ind_proportion', 'SPCL_ind_proportion',\n",
        "       'ddi_ind_claim_proportion', 'anticoag_ind_claim_proportion',\n",
        "       'diarrhea_treat_ind_claim_proportion',\n",
        "       'nausea_treat_ind_claim_proportion',\n",
        "       'seizure_treat_ind_claim_proportion', 'pay_day_supply_cnt_median',\n",
        "       'rx_cost_median', 'service_day_and_process_day_gap_median',\n",
        "       'visit_day_and_process_day_gap',\n",
        "       'number_of_med_claims', 'ade_claim_proportion',\n",
        "       'seizure_diagnosis_claim_proportion', 'pain_diagnosis_claim_proportion',\n",
        "       'fatigue_diagnosis_claim_proportion',\n",
        "       'nausea_diagnosis_claim_proportion',\n",
        "       'hyperglycemia_diagnosis_claim_proportion',\n",
        "       'constipation_diagnosis_claim_proportion',\n",
        "       'diarrhea_diagnosis_claim_proportion',\n",
        "       'visit_day_and_process_day_gap_median']\n",
        "\n",
        "imputer = IterativeImputer(max_iter=10, random_state=0)\n",
        "three_merged_holdout[columns_to_impute] = imputer.fit_transform(three_merged_holdout[columns_to_impute])\n",
        "print_bold('three_merged_holdout')\n",
        "print(three_merged_holdout.isna().sum())"
      ],
      "metadata": {
        "colab": {
          "base_uri": "https://localhost:8080/"
        },
        "outputId": "7b523329-ca9a-4b70-a256-a337743da3b7",
        "id": "l3vDJPeA9MJ_"
      },
      "execution_count": null,
      "outputs": [
        {
          "output_type": "stream",
          "name": "stdout",
          "text": [
            "\u001b[1mthree_merged_holdout\u001b[0m\n",
            "race_cd                                       0\n",
            "est_age                                       0\n",
            "sex_cd                                        0\n",
            "cms_disabled_ind                              0\n",
            "cms_low_income_ind                            0\n",
            "number_of_rx_claims                           0\n",
            "max_tot_drug_cost_accum_amt                   0\n",
            "Y_mail_order_proportion                       0\n",
            "Generic_ind_proportion                        0\n",
            "MAINT_ind_proportion                          0\n",
            "SPCL_ind_proportion                           0\n",
            "ddi_ind_claim_proportion                      0\n",
            "anticoag_ind_claim_proportion                 0\n",
            "diarrhea_treat_ind_claim_proportion           0\n",
            "nausea_treat_ind_claim_proportion             0\n",
            "seizure_treat_ind_claim_proportion            0\n",
            "pay_day_supply_cnt_median                     0\n",
            "rx_cost_median                                0\n",
            "service_day_and_process_day_gap_median        0\n",
            "visit_day_and_process_day_gap                 0\n",
            "primary_diag_cd_letter                      235\n",
            "number_of_med_claims                          0\n",
            "ade_claim_proportion                          0\n",
            "seizure_diagnosis_claim_proportion            0\n",
            "pain_diagnosis_claim_proportion               0\n",
            "fatigue_diagnosis_claim_proportion            0\n",
            "nausea_diagnosis_claim_proportion             0\n",
            "hyperglycemia_diagnosis_claim_proportion      0\n",
            "constipation_diagnosis_claim_proportion       0\n",
            "diarrhea_diagnosis_claim_proportion           0\n",
            "visit_day_and_process_day_gap_median          0\n",
            "dtype: int64\n"
          ]
        }
      ]
    },
    {
      "cell_type": "code",
      "source": [
        "def map_race_cd(value):\n",
        "    if 1.5 < value < 2.5:\n",
        "        return 2\n",
        "    elif 0 < value < 1.5:\n",
        "        return 1\n",
        "    elif 2.5 < value < 3:\n",
        "        return 3\n",
        "    else:\n",
        "        return value\n",
        "three_merged_holdout['race_cd'] = three_merged_holdout['race_cd'].apply(map_race_cd)\n",
        "\n",
        "binary_columns = ['sex_cd','cms_disabled_ind', 'cms_low_income_ind']\n",
        "\n",
        "# binary_columns = ['sex_cd', 'cms_disabled_ind', 'cms_low_income_ind', 'mail_order_ind',\n",
        "#                   'generic_ind', 'maint_ind', 'specialty_ind', 'ddi_ind', 'anticoag_ind',\n",
        "#                   'diarrhea_treat_ind', 'nausea_treat_ind', 'seizure_treat_ind']\n",
        "for column in binary_columns:\n",
        "    mask = three_merged_holdout[column] < 0.5\n",
        "    three_merged_holdout.loc[mask, column] = 0\n",
        "    three_merged_holdout.loc[~mask, column] = 1\n"
      ],
      "metadata": {
        "id": "-grPvx829MJ_"
      },
      "execution_count": null,
      "outputs": []
    },
    {
      "cell_type": "code",
      "source": [
        "columns_to_impute_check = [\n",
        "    'race_cd','sex_cd','cms_disabled_ind', 'cms_low_income_ind'\n",
        "]\n",
        "# columns_to_impute_check = [\n",
        "#     'race_cd','sex_cd', 'cms_disabled_ind', 'cms_low_income_ind','mail_order_ind', 'generic_ind',\n",
        "#     'maint_ind', 'specialty_ind', 'ddi_ind', 'anticoag_ind', 'diarrhea_treat_ind',\n",
        "#     'nausea_treat_ind', 'seizure_treat_ind'\n",
        "# ]"
      ],
      "metadata": {
        "id": "lCkIqMo59MJ_"
      },
      "execution_count": null,
      "outputs": []
    },
    {
      "cell_type": "code",
      "source": [
        "for column in columns_to_impute_check:\n",
        "  print_bold('{}'.format(column))\n",
        "  print(three_merged_holdout[column].value_counts())"
      ],
      "metadata": {
        "colab": {
          "base_uri": "https://localhost:8080/"
        },
        "outputId": "17a4a662-29a4-4fb6-b841-030a4ffcb153",
        "id": "uJP57v0R9MJ_"
      },
      "execution_count": null,
      "outputs": [
        {
          "output_type": "stream",
          "name": "stdout",
          "text": [
            "\u001b[1mrace_cd\u001b[0m\n",
            "1.0    219\n",
            "2.0     79\n",
            "4.0     50\n",
            "0.0     30\n",
            "3.0     24\n",
            "5.0     18\n",
            "Name: race_cd, dtype: int64\n",
            "\u001b[1msex_cd\u001b[0m\n",
            "0.0    299\n",
            "1.0    121\n",
            "Name: sex_cd, dtype: int64\n",
            "\u001b[1mcms_disabled_ind\u001b[0m\n",
            "0.0    366\n",
            "1.0     54\n",
            "Name: cms_disabled_ind, dtype: int64\n",
            "\u001b[1mcms_low_income_ind\u001b[0m\n",
            "0.0    275\n",
            "1.0    145\n",
            "Name: cms_low_income_ind, dtype: int64\n"
          ]
        }
      ]
    },
    {
      "cell_type": "code",
      "source": [
        "# impute categorical variables\n",
        "\n",
        "from sklearn.impute import SimpleImputer\n",
        "imputer = SimpleImputer(strategy='most_frequent')\n",
        "columns_to_impute = ['primary_diag_cd_letter']\n",
        "three_merged_holdout[columns_to_impute] = imputer.fit_transform(three_merged_holdout[columns_to_impute])\n",
        "print(three_merged_holdout.isna().sum())\n"
      ],
      "metadata": {
        "colab": {
          "base_uri": "https://localhost:8080/"
        },
        "outputId": "a583d5d4-7e08-4f13-d2a1-9713600fe4cc",
        "id": "fPa2raHz9MJ_"
      },
      "execution_count": null,
      "outputs": [
        {
          "output_type": "stream",
          "name": "stdout",
          "text": [
            "race_cd                                     0\n",
            "est_age                                     0\n",
            "sex_cd                                      0\n",
            "cms_disabled_ind                            0\n",
            "cms_low_income_ind                          0\n",
            "number_of_rx_claims                         0\n",
            "max_tot_drug_cost_accum_amt                 0\n",
            "Y_mail_order_proportion                     0\n",
            "Generic_ind_proportion                      0\n",
            "MAINT_ind_proportion                        0\n",
            "SPCL_ind_proportion                         0\n",
            "ddi_ind_claim_proportion                    0\n",
            "anticoag_ind_claim_proportion               0\n",
            "diarrhea_treat_ind_claim_proportion         0\n",
            "nausea_treat_ind_claim_proportion           0\n",
            "seizure_treat_ind_claim_proportion          0\n",
            "pay_day_supply_cnt_median                   0\n",
            "rx_cost_median                              0\n",
            "service_day_and_process_day_gap_median      0\n",
            "visit_day_and_process_day_gap               0\n",
            "primary_diag_cd_letter                      0\n",
            "number_of_med_claims                        0\n",
            "ade_claim_proportion                        0\n",
            "seizure_diagnosis_claim_proportion          0\n",
            "pain_diagnosis_claim_proportion             0\n",
            "fatigue_diagnosis_claim_proportion          0\n",
            "nausea_diagnosis_claim_proportion           0\n",
            "hyperglycemia_diagnosis_claim_proportion    0\n",
            "constipation_diagnosis_claim_proportion     0\n",
            "diarrhea_diagnosis_claim_proportion         0\n",
            "visit_day_and_process_day_gap_median        0\n",
            "dtype: int64\n"
          ]
        }
      ]
    },
    {
      "cell_type": "markdown",
      "source": [
        "### Preprocessing"
      ],
      "metadata": {
        "id": "B35veC2Y9MJ_"
      }
    },
    {
      "cell_type": "markdown",
      "source": [
        "Missing a race=6"
      ],
      "metadata": {
        "id": "V9iJEcgjC0Ns"
      }
    },
    {
      "cell_type": "code",
      "source": [
        "three_merged_holdout_transformed = pipeline.fit_transform(three_merged_holdout)\n",
        "print(\"Shape of three_merged_holdout_transformed:\", three_merged_holdout_transformed.shape)"
      ],
      "metadata": {
        "colab": {
          "base_uri": "https://localhost:8080/"
        },
        "outputId": "557707c7-5bff-40e5-b6af-9bdc17e2a32a",
        "id": "JIo7UV7q9MKA"
      },
      "execution_count": null,
      "outputs": [
        {
          "output_type": "stream",
          "name": "stdout",
          "text": [
            "Shape of three_merged_holdout_transformed: (420, 54)\n"
          ]
        }
      ]
    },
    {
      "cell_type": "code",
      "source": [
        "# Create a new column with zeros\n",
        "zeros_column = np.zeros((three_merged_holdout_transformed.shape[0], 1))\n",
        "three_merged_holdout_transformed = np.hstack((three_merged_holdout_transformed, zeros_column))\n",
        "print(\"Shape of three_merged_holdout_transformed:\", three_merged_holdout_transformed.shape)"
      ],
      "metadata": {
        "colab": {
          "base_uri": "https://localhost:8080/"
        },
        "id": "sBhioXGcQGaB",
        "outputId": "5cc63c45-9cd5-41de-be39-b982369ff5d6"
      },
      "execution_count": null,
      "outputs": [
        {
          "output_type": "stream",
          "name": "stdout",
          "text": [
            "Shape of three_merged_holdout_transformed: (420, 55)\n"
          ]
        }
      ]
    },
    {
      "cell_type": "markdown",
      "source": [
        "### Prediction"
      ],
      "metadata": {
        "id": "1Gee-ZYu9MKA"
      }
    },
    {
      "cell_type": "markdown",
      "source": [
        "#### XGBClassifier\n"
      ],
      "metadata": {
        "id": "Tc7kFMXL9MKA"
      }
    },
    {
      "cell_type": "code",
      "source": [
        "# !pip install --upgrade scikit-learn"
      ],
      "metadata": {
        "id": "v_PYoy2x9MKA"
      },
      "execution_count": null,
      "outputs": []
    },
    {
      "cell_type": "code",
      "source": [
        "# import xgboost as xgb\n",
        "# from sklearn.metrics import roc_curve, auc"
      ],
      "metadata": {
        "id": "7yAXuJA29MKB"
      },
      "execution_count": null,
      "outputs": []
    },
    {
      "cell_type": "code",
      "source": [
        "y_pred = xgb_model.predict(three_merged_holdout_transformed)\n",
        "y_pred_proba = xgb_model.predict_proba(three_merged_holdout_transformed)[:, 1]"
      ],
      "metadata": {
        "id": "aJpQVFr39MKB"
      },
      "execution_count": null,
      "outputs": []
    },
    {
      "cell_type": "code",
      "source": [],
      "metadata": {
        "id": "7FBSMY6eRmWh"
      },
      "execution_count": null,
      "outputs": []
    },
    {
      "cell_type": "markdown",
      "source": [
        "## Output Holdout"
      ],
      "metadata": {
        "id": "td5GFCfgR2lg"
      }
    },
    {
      "cell_type": "code",
      "source": [
        "three_merged_holdout_with_therapy_id['ID'] = three_merged_holdout_with_therapy_id['therapy_id'].str.extract('(\\d+)').astype(int)\n",
        "three_merged_holdout_with_therapy_id['SCORE'] = y_pred_proba\n",
        "three_merged_holdout_with_therapy_id['RANK'] = three_merged_holdout_with_therapy_id['SCORE'].rank(ascending=False).astype(int)\n"
      ],
      "metadata": {
        "id": "Km5UDXRsR8kv"
      },
      "execution_count": null,
      "outputs": []
    },
    {
      "cell_type": "code",
      "source": [
        "final_holdout_submission=three_merged_holdout_with_therapy_id[['ID','SCORE','RANK']]\n",
        "final_holdout_submission"
      ],
      "metadata": {
        "colab": {
          "base_uri": "https://localhost:8080/",
          "height": 424
        },
        "id": "AMtjWkYyVafi",
        "outputId": "077927dd-efba-4aed-84ab-90588b6aa9d8"
      },
      "execution_count": null,
      "outputs": [
        {
          "output_type": "execute_result",
          "data": {
            "text/plain": [
              "             ID     SCORE  RANK\n",
              "0    1018450235  0.054113   113\n",
              "1    1032849118  0.018015   196\n",
              "2    1044251683  0.015105   220\n",
              "3    1086171816  0.008041   295\n",
              "4    1093074743  0.005978   316\n",
              "..          ...       ...   ...\n",
              "415  1057438445  0.013119   241\n",
              "416  1065167833  0.269815    38\n",
              "417  1100593403  0.003488   367\n",
              "418  1021720242  0.004146   350\n",
              "419  1117110566  0.063215   104\n",
              "\n",
              "[420 rows x 3 columns]"
            ],
            "text/html": [
              "\n",
              "  <div id=\"df-52c44fd6-ddf0-44fe-ac31-4ae1c20553a2\" class=\"colab-df-container\">\n",
              "    <div>\n",
              "<style scoped>\n",
              "    .dataframe tbody tr th:only-of-type {\n",
              "        vertical-align: middle;\n",
              "    }\n",
              "\n",
              "    .dataframe tbody tr th {\n",
              "        vertical-align: top;\n",
              "    }\n",
              "\n",
              "    .dataframe thead th {\n",
              "        text-align: right;\n",
              "    }\n",
              "</style>\n",
              "<table border=\"1\" class=\"dataframe\">\n",
              "  <thead>\n",
              "    <tr style=\"text-align: right;\">\n",
              "      <th></th>\n",
              "      <th>ID</th>\n",
              "      <th>SCORE</th>\n",
              "      <th>RANK</th>\n",
              "    </tr>\n",
              "  </thead>\n",
              "  <tbody>\n",
              "    <tr>\n",
              "      <th>0</th>\n",
              "      <td>1018450235</td>\n",
              "      <td>0.054113</td>\n",
              "      <td>113</td>\n",
              "    </tr>\n",
              "    <tr>\n",
              "      <th>1</th>\n",
              "      <td>1032849118</td>\n",
              "      <td>0.018015</td>\n",
              "      <td>196</td>\n",
              "    </tr>\n",
              "    <tr>\n",
              "      <th>2</th>\n",
              "      <td>1044251683</td>\n",
              "      <td>0.015105</td>\n",
              "      <td>220</td>\n",
              "    </tr>\n",
              "    <tr>\n",
              "      <th>3</th>\n",
              "      <td>1086171816</td>\n",
              "      <td>0.008041</td>\n",
              "      <td>295</td>\n",
              "    </tr>\n",
              "    <tr>\n",
              "      <th>4</th>\n",
              "      <td>1093074743</td>\n",
              "      <td>0.005978</td>\n",
              "      <td>316</td>\n",
              "    </tr>\n",
              "    <tr>\n",
              "      <th>...</th>\n",
              "      <td>...</td>\n",
              "      <td>...</td>\n",
              "      <td>...</td>\n",
              "    </tr>\n",
              "    <tr>\n",
              "      <th>415</th>\n",
              "      <td>1057438445</td>\n",
              "      <td>0.013119</td>\n",
              "      <td>241</td>\n",
              "    </tr>\n",
              "    <tr>\n",
              "      <th>416</th>\n",
              "      <td>1065167833</td>\n",
              "      <td>0.269815</td>\n",
              "      <td>38</td>\n",
              "    </tr>\n",
              "    <tr>\n",
              "      <th>417</th>\n",
              "      <td>1100593403</td>\n",
              "      <td>0.003488</td>\n",
              "      <td>367</td>\n",
              "    </tr>\n",
              "    <tr>\n",
              "      <th>418</th>\n",
              "      <td>1021720242</td>\n",
              "      <td>0.004146</td>\n",
              "      <td>350</td>\n",
              "    </tr>\n",
              "    <tr>\n",
              "      <th>419</th>\n",
              "      <td>1117110566</td>\n",
              "      <td>0.063215</td>\n",
              "      <td>104</td>\n",
              "    </tr>\n",
              "  </tbody>\n",
              "</table>\n",
              "<p>420 rows × 3 columns</p>\n",
              "</div>\n",
              "    <div class=\"colab-df-buttons\">\n",
              "\n",
              "  <div class=\"colab-df-container\">\n",
              "    <button class=\"colab-df-convert\" onclick=\"convertToInteractive('df-52c44fd6-ddf0-44fe-ac31-4ae1c20553a2')\"\n",
              "            title=\"Convert this dataframe to an interactive table.\"\n",
              "            style=\"display:none;\">\n",
              "\n",
              "  <svg xmlns=\"http://www.w3.org/2000/svg\" height=\"24px\" viewBox=\"0 -960 960 960\">\n",
              "    <path d=\"M120-120v-720h720v720H120Zm60-500h600v-160H180v160Zm220 220h160v-160H400v160Zm0 220h160v-160H400v160ZM180-400h160v-160H180v160Zm440 0h160v-160H620v160ZM180-180h160v-160H180v160Zm440 0h160v-160H620v160Z\"/>\n",
              "  </svg>\n",
              "    </button>\n",
              "\n",
              "  <style>\n",
              "    .colab-df-container {\n",
              "      display:flex;\n",
              "      gap: 12px;\n",
              "    }\n",
              "\n",
              "    .colab-df-convert {\n",
              "      background-color: #E8F0FE;\n",
              "      border: none;\n",
              "      border-radius: 50%;\n",
              "      cursor: pointer;\n",
              "      display: none;\n",
              "      fill: #1967D2;\n",
              "      height: 32px;\n",
              "      padding: 0 0 0 0;\n",
              "      width: 32px;\n",
              "    }\n",
              "\n",
              "    .colab-df-convert:hover {\n",
              "      background-color: #E2EBFA;\n",
              "      box-shadow: 0px 1px 2px rgba(60, 64, 67, 0.3), 0px 1px 3px 1px rgba(60, 64, 67, 0.15);\n",
              "      fill: #174EA6;\n",
              "    }\n",
              "\n",
              "    .colab-df-buttons div {\n",
              "      margin-bottom: 4px;\n",
              "    }\n",
              "\n",
              "    [theme=dark] .colab-df-convert {\n",
              "      background-color: #3B4455;\n",
              "      fill: #D2E3FC;\n",
              "    }\n",
              "\n",
              "    [theme=dark] .colab-df-convert:hover {\n",
              "      background-color: #434B5C;\n",
              "      box-shadow: 0px 1px 3px 1px rgba(0, 0, 0, 0.15);\n",
              "      filter: drop-shadow(0px 1px 2px rgba(0, 0, 0, 0.3));\n",
              "      fill: #FFFFFF;\n",
              "    }\n",
              "  </style>\n",
              "\n",
              "    <script>\n",
              "      const buttonEl =\n",
              "        document.querySelector('#df-52c44fd6-ddf0-44fe-ac31-4ae1c20553a2 button.colab-df-convert');\n",
              "      buttonEl.style.display =\n",
              "        google.colab.kernel.accessAllowed ? 'block' : 'none';\n",
              "\n",
              "      async function convertToInteractive(key) {\n",
              "        const element = document.querySelector('#df-52c44fd6-ddf0-44fe-ac31-4ae1c20553a2');\n",
              "        const dataTable =\n",
              "          await google.colab.kernel.invokeFunction('convertToInteractive',\n",
              "                                                    [key], {});\n",
              "        if (!dataTable) return;\n",
              "\n",
              "        const docLinkHtml = 'Like what you see? Visit the ' +\n",
              "          '<a target=\"_blank\" href=https://colab.research.google.com/notebooks/data_table.ipynb>data table notebook</a>'\n",
              "          + ' to learn more about interactive tables.';\n",
              "        element.innerHTML = '';\n",
              "        dataTable['output_type'] = 'display_data';\n",
              "        await google.colab.output.renderOutput(dataTable, element);\n",
              "        const docLink = document.createElement('div');\n",
              "        docLink.innerHTML = docLinkHtml;\n",
              "        element.appendChild(docLink);\n",
              "      }\n",
              "    </script>\n",
              "  </div>\n",
              "\n",
              "\n",
              "<div id=\"df-5282f6cc-b7f0-480c-ba53-36e300b6afea\">\n",
              "  <button class=\"colab-df-quickchart\" onclick=\"quickchart('df-5282f6cc-b7f0-480c-ba53-36e300b6afea')\"\n",
              "            title=\"Suggest charts.\"\n",
              "            style=\"display:none;\">\n",
              "\n",
              "<svg xmlns=\"http://www.w3.org/2000/svg\" height=\"24px\"viewBox=\"0 0 24 24\"\n",
              "     width=\"24px\">\n",
              "    <g>\n",
              "        <path d=\"M19 3H5c-1.1 0-2 .9-2 2v14c0 1.1.9 2 2 2h14c1.1 0 2-.9 2-2V5c0-1.1-.9-2-2-2zM9 17H7v-7h2v7zm4 0h-2V7h2v10zm4 0h-2v-4h2v4z\"/>\n",
              "    </g>\n",
              "</svg>\n",
              "  </button>\n",
              "\n",
              "<style>\n",
              "  .colab-df-quickchart {\n",
              "      --bg-color: #E8F0FE;\n",
              "      --fill-color: #1967D2;\n",
              "      --hover-bg-color: #E2EBFA;\n",
              "      --hover-fill-color: #174EA6;\n",
              "      --disabled-fill-color: #AAA;\n",
              "      --disabled-bg-color: #DDD;\n",
              "  }\n",
              "\n",
              "  [theme=dark] .colab-df-quickchart {\n",
              "      --bg-color: #3B4455;\n",
              "      --fill-color: #D2E3FC;\n",
              "      --hover-bg-color: #434B5C;\n",
              "      --hover-fill-color: #FFFFFF;\n",
              "      --disabled-bg-color: #3B4455;\n",
              "      --disabled-fill-color: #666;\n",
              "  }\n",
              "\n",
              "  .colab-df-quickchart {\n",
              "    background-color: var(--bg-color);\n",
              "    border: none;\n",
              "    border-radius: 50%;\n",
              "    cursor: pointer;\n",
              "    display: none;\n",
              "    fill: var(--fill-color);\n",
              "    height: 32px;\n",
              "    padding: 0;\n",
              "    width: 32px;\n",
              "  }\n",
              "\n",
              "  .colab-df-quickchart:hover {\n",
              "    background-color: var(--hover-bg-color);\n",
              "    box-shadow: 0 1px 2px rgba(60, 64, 67, 0.3), 0 1px 3px 1px rgba(60, 64, 67, 0.15);\n",
              "    fill: var(--button-hover-fill-color);\n",
              "  }\n",
              "\n",
              "  .colab-df-quickchart-complete:disabled,\n",
              "  .colab-df-quickchart-complete:disabled:hover {\n",
              "    background-color: var(--disabled-bg-color);\n",
              "    fill: var(--disabled-fill-color);\n",
              "    box-shadow: none;\n",
              "  }\n",
              "\n",
              "  .colab-df-spinner {\n",
              "    border: 2px solid var(--fill-color);\n",
              "    border-color: transparent;\n",
              "    border-bottom-color: var(--fill-color);\n",
              "    animation:\n",
              "      spin 1s steps(1) infinite;\n",
              "  }\n",
              "\n",
              "  @keyframes spin {\n",
              "    0% {\n",
              "      border-color: transparent;\n",
              "      border-bottom-color: var(--fill-color);\n",
              "      border-left-color: var(--fill-color);\n",
              "    }\n",
              "    20% {\n",
              "      border-color: transparent;\n",
              "      border-left-color: var(--fill-color);\n",
              "      border-top-color: var(--fill-color);\n",
              "    }\n",
              "    30% {\n",
              "      border-color: transparent;\n",
              "      border-left-color: var(--fill-color);\n",
              "      border-top-color: var(--fill-color);\n",
              "      border-right-color: var(--fill-color);\n",
              "    }\n",
              "    40% {\n",
              "      border-color: transparent;\n",
              "      border-right-color: var(--fill-color);\n",
              "      border-top-color: var(--fill-color);\n",
              "    }\n",
              "    60% {\n",
              "      border-color: transparent;\n",
              "      border-right-color: var(--fill-color);\n",
              "    }\n",
              "    80% {\n",
              "      border-color: transparent;\n",
              "      border-right-color: var(--fill-color);\n",
              "      border-bottom-color: var(--fill-color);\n",
              "    }\n",
              "    90% {\n",
              "      border-color: transparent;\n",
              "      border-bottom-color: var(--fill-color);\n",
              "    }\n",
              "  }\n",
              "</style>\n",
              "\n",
              "  <script>\n",
              "    async function quickchart(key) {\n",
              "      const quickchartButtonEl =\n",
              "        document.querySelector('#' + key + ' button');\n",
              "      quickchartButtonEl.disabled = true;  // To prevent multiple clicks.\n",
              "      quickchartButtonEl.classList.add('colab-df-spinner');\n",
              "      try {\n",
              "        const charts = await google.colab.kernel.invokeFunction(\n",
              "            'suggestCharts', [key], {});\n",
              "      } catch (error) {\n",
              "        console.error('Error during call to suggestCharts:', error);\n",
              "      }\n",
              "      quickchartButtonEl.classList.remove('colab-df-spinner');\n",
              "      quickchartButtonEl.classList.add('colab-df-quickchart-complete');\n",
              "    }\n",
              "    (() => {\n",
              "      let quickchartButtonEl =\n",
              "        document.querySelector('#df-5282f6cc-b7f0-480c-ba53-36e300b6afea button');\n",
              "      quickchartButtonEl.style.display =\n",
              "        google.colab.kernel.accessAllowed ? 'block' : 'none';\n",
              "    })();\n",
              "  </script>\n",
              "</div>\n",
              "    </div>\n",
              "  </div>\n"
            ]
          },
          "metadata": {},
          "execution_count": 97
        }
      ]
    },
    {
      "cell_type": "code",
      "source": [
        "final_holdout_submission.to_csv('/content/drive/Shareddrives/Humana-Mays-2023-DataRX-Wizards/Final_submission_csv/2023CaseCompetition_Arjun_Aggarwal_20230928.csv',index=False)"
      ],
      "metadata": {
        "id": "5REUSHGaWI4X"
      },
      "execution_count": null,
      "outputs": []
    },
    {
      "cell_type": "code",
      "source": [
        "rank_counts = final_holdout_submission['RANK'].value_counts()\n",
        "tie_ranks = rank_counts[rank_counts > 1]\n",
        "\n",
        "if tie_ranks.empty:\n",
        "    print(\"There are no tie ranks.\")\n",
        "else:\n",
        "    print(\"Tie ranks:\")\n",
        "    print(tie_ranks)\n"
      ],
      "metadata": {
        "colab": {
          "base_uri": "https://localhost:8080/"
        },
        "id": "K5cIkzeaUEbY",
        "outputId": "0635c6f2-573d-4546-d8fe-b72f56190b7b"
      },
      "execution_count": null,
      "outputs": [
        {
          "output_type": "stream",
          "name": "stdout",
          "text": [
            "Tie ranks:\n",
            "384    12\n",
            "350     4\n",
            "179     2\n",
            "354     2\n",
            "328     2\n",
            "324     2\n",
            "272     2\n",
            "Name: RANK, dtype: int64\n"
          ]
        }
      ]
    },
    {
      "cell_type": "code",
      "source": [
        "# import seaborn as sns\n",
        "# from sklearn.metrics import confusion_matrix\n",
        "\n",
        "# auc_score = roc_auc_score(y_test, y_pred_proba)\n",
        "\n",
        "# conf_matrix = confusion_matrix(y_test, y_pred)\n",
        "# # Plot the confusion matrix as a heatmap\n",
        "# plt.figure(figsize=(6, 4))\n",
        "# sns.heatmap(conf_matrix, annot=True, fmt='d', cmap='Blues', cbar=False)\n",
        "# plt.xlabel('Predicted Labels')\n",
        "# plt.ylabel('True Labels')\n",
        "# plt.title('Confusion Matrix')\n",
        "# plt.show()\n",
        "\n",
        "\n",
        "# TP, TN, FP, FN = conf_matrix.ravel()\n",
        "# accuracy = (TP + TN) / (TP + TN + FP + FN)\n",
        "# precision = TP / (TP + FP)\n",
        "# recall = TP / (TP + FN)\n",
        "# f1_score = 2 * (precision * recall) / (precision + recall)\n",
        "\n",
        "# print(\"AUC Score:\", auc_score)\n",
        "# print(\"Accuracy:\", accuracy)\n",
        "# print(\"Precision:\", precision)\n",
        "# print(\"Recall:\", recall)\n",
        "# print(\"F1 Score:\", f1_score)\n"
      ],
      "metadata": {
        "id": "sF5iNDEH9MKB"
      },
      "execution_count": null,
      "outputs": []
    },
    {
      "cell_type": "code",
      "source": [
        "# pip install sha"
      ],
      "metadata": {
        "id": "EnYtDb5T9MKB"
      },
      "execution_count": null,
      "outputs": []
    },
    {
      "cell_type": "code",
      "source": [
        "# import shap"
      ],
      "metadata": {
        "id": "KpEBJo2Z9MKB"
      },
      "execution_count": null,
      "outputs": []
    },
    {
      "cell_type": "code",
      "source": [
        "# feature_importance = xgb_model.feature_importances_\n",
        "\n",
        "# explainer = shap.Explainer(xgb_model)\n",
        "# shap_values = explainer.shap_values(X_test_transformed)\n",
        "\n",
        "# top_n_features = 10\n",
        "\n",
        "# # Plot feature importance for the top N features\n",
        "# sorted_idx = (-feature_importance).argsort()[:top_n_features]\n",
        "# top_feature_importance = feature_importance[sorted_idx]\n",
        "# top_feature_names = X_train.columns[sorted_idx]\n",
        "\n",
        "# plt.figure(figsize=(12, 6))\n",
        "# plt.barh(range(len(top_feature_importance)), top_feature_importance, align='center')\n",
        "# plt.yticks(range(len(top_feature_importance)), top_feature_names, fontsize=12)\n",
        "# plt.xlabel('Feature Importance', fontsize=14)\n",
        "# plt.title('Top {} XGBoost Feature Importance'.format(top_n_features), fontsize=16)\n",
        "# plt.show()\n",
        "\n",
        "\n",
        "\n",
        "# # Plot SHAP summary plot for the top N features\n",
        "# shap.summary_plot(shap_values, X_test_transformed, feature_names=X_train.columns, plot_type='bar', max_display=top_n_features)"
      ],
      "metadata": {
        "id": "41-v8SDA9MKB"
      },
      "execution_count": null,
      "outputs": []
    }
  ]
}